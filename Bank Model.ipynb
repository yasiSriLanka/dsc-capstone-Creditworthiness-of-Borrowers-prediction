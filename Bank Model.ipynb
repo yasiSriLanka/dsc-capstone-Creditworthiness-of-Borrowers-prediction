{
 "cells": [
  {
   "cell_type": "code",
   "execution_count": 19,
   "metadata": {},
   "outputs": [],
   "source": [
    "import pandas as pd\n",
    "import numpy as np\n",
    "\n",
    "from sklearn.linear_model import LinearRegression, Ridge,LogisticRegression\n",
    "from sklearn.dummy import DummyRegressor\n",
    "from sklearn.preprocessing import StandardScaler, OneHotEncoder, PolynomialFeatures,LabelEncoder\n",
    "from imblearn.pipeline import Pipeline\n",
    "from imblearn.pipeline import Pipeline as ImPipeline\n",
    "\n",
    "from sklearn.compose import ColumnTransformer\n",
    "from sklearn.model_selection import train_test_split, cross_val_score,GridSearchCV,cross_validate\n",
    "from sklearn.impute import SimpleImputer\n",
    "from sklearn.dummy import DummyClassifier\n",
    "import matplotlib.pyplot as plt\n",
    "import seaborn as sns\n",
    "from sklearn.svm import SVC\n",
    "\n",
    "\n",
    "from scipy import stats\n",
    "from sklearn.metrics import recall_score,accuracy_score, precision_score, f1_score\n",
    "from sklearn.metrics import ConfusionMatrixDisplay, classification_report\n",
    "from sklearn.metrics import mean_squared_error\n",
    "from imblearn.over_sampling import SMOTE\n",
    "from sklearn.metrics import log_loss\n",
    "from sklearn.metrics import RocCurveDisplay,roc_auc_score\n",
    "import warnings\n",
    "\n",
    "from sklearn.ensemble import RandomForestClassifier\n",
    "from sklearn.ensemble import ExtraTreesClassifier\n",
    "from sklearn.tree import DecisionTreeClassifier,plot_tree\n",
    "from sklearn.ensemble import BaggingClassifier\n",
    "from sklearn.neighbors import KNeighborsClassifier\n",
    "from sklearn.ensemble import GradientBoostingClassifier\n",
    "from xgboost import XGBClassifier\n",
    "from sklearn.feature_selection import SelectKBest\n",
    "import xgboost\n",
    "import pickle"
   ]
  },
  {
   "cell_type": "code",
   "execution_count": 2,
   "metadata": {},
   "outputs": [],
   "source": [
    "df_test = pd.read_csv('Data/Loan_Default_test_cleaned.csv', index_col=0)"
   ]
  },
  {
   "cell_type": "code",
   "execution_count": 3,
   "metadata": {},
   "outputs": [
    {
     "data": {
      "text/plain": [
       "(125203, 45)"
      ]
     },
     "execution_count": 3,
     "metadata": {},
     "output_type": "execute_result"
    }
   ],
   "source": [
    "df_test.shape"
   ]
  },
  {
   "cell_type": "code",
   "execution_count": 4,
   "metadata": {},
   "outputs": [
    {
     "data": {
      "text/html": [
       "<div>\n",
       "<style scoped>\n",
       "    .dataframe tbody tr th:only-of-type {\n",
       "        vertical-align: middle;\n",
       "    }\n",
       "\n",
       "    .dataframe tbody tr th {\n",
       "        vertical-align: top;\n",
       "    }\n",
       "\n",
       "    .dataframe thead th {\n",
       "        text-align: right;\n",
       "    }\n",
       "</style>\n",
       "<table border=\"1\" class=\"dataframe\">\n",
       "  <thead>\n",
       "    <tr style=\"text-align: right;\">\n",
       "      <th></th>\n",
       "      <th>tot_coll_amt</th>\n",
       "      <th>tot_cur_bal</th>\n",
       "      <th>total_rev_hi_lim</th>\n",
       "      <th>mths_since_last_major_derog</th>\n",
       "      <th>mths_since_last_record</th>\n",
       "      <th>mths_since_last_delinq</th>\n",
       "      <th>batch_enrolled</th>\n",
       "      <th>loan_amnt</th>\n",
       "      <th>funded_amnt</th>\n",
       "      <th>funded_amnt_inv</th>\n",
       "      <th>...</th>\n",
       "      <th>recoveries</th>\n",
       "      <th>collection_recovery_fee</th>\n",
       "      <th>collections_12_mths_ex_med</th>\n",
       "      <th>application_type</th>\n",
       "      <th>last_week_pay</th>\n",
       "      <th>acc_now_delinq</th>\n",
       "      <th>loan_status</th>\n",
       "      <th>Annual_Total_premium</th>\n",
       "      <th>PTI</th>\n",
       "      <th>LTI</th>\n",
       "    </tr>\n",
       "    <tr>\n",
       "      <th>member_id</th>\n",
       "      <th></th>\n",
       "      <th></th>\n",
       "      <th></th>\n",
       "      <th></th>\n",
       "      <th></th>\n",
       "      <th></th>\n",
       "      <th></th>\n",
       "      <th></th>\n",
       "      <th></th>\n",
       "      <th></th>\n",
       "      <th></th>\n",
       "      <th></th>\n",
       "      <th></th>\n",
       "      <th></th>\n",
       "      <th></th>\n",
       "      <th></th>\n",
       "      <th></th>\n",
       "      <th></th>\n",
       "      <th></th>\n",
       "      <th></th>\n",
       "      <th></th>\n",
       "    </tr>\n",
       "  </thead>\n",
       "  <tbody>\n",
       "    <tr>\n",
       "      <th>32157702</th>\n",
       "      <td>0.0</td>\n",
       "      <td>68305.0</td>\n",
       "      <td>21900.0</td>\n",
       "      <td>44.0</td>\n",
       "      <td>70.0</td>\n",
       "      <td>7.0</td>\n",
       "      <td>BAT2078974</td>\n",
       "      <td>2000</td>\n",
       "      <td>2000</td>\n",
       "      <td>2000.0</td>\n",
       "      <td>...</td>\n",
       "      <td>0.0</td>\n",
       "      <td>0.0</td>\n",
       "      <td>0.0</td>\n",
       "      <td>INDIVIDUAL</td>\n",
       "      <td>65th week</td>\n",
       "      <td>0.0</td>\n",
       "      <td>0</td>\n",
       "      <td>812.706742</td>\n",
       "      <td>0.013108</td>\n",
       "      <td>0.032258</td>\n",
       "    </tr>\n",
       "    <tr>\n",
       "      <th>59571650</th>\n",
       "      <td>0.0</td>\n",
       "      <td>36306.0</td>\n",
       "      <td>10500.0</td>\n",
       "      <td>50.0</td>\n",
       "      <td>37.0</td>\n",
       "      <td>50.0</td>\n",
       "      <td>BAT3873588</td>\n",
       "      <td>10000</td>\n",
       "      <td>10000</td>\n",
       "      <td>10000.0</td>\n",
       "      <td>...</td>\n",
       "      <td>0.0</td>\n",
       "      <td>0.0</td>\n",
       "      <td>0.0</td>\n",
       "      <td>INDIVIDUAL</td>\n",
       "      <td>22th week</td>\n",
       "      <td>0.0</td>\n",
       "      <td>0</td>\n",
       "      <td>3719.533417</td>\n",
       "      <td>0.053182</td>\n",
       "      <td>0.142980</td>\n",
       "    </tr>\n",
       "    <tr>\n",
       "      <th>33338943</th>\n",
       "      <td>0.0</td>\n",
       "      <td>15866.0</td>\n",
       "      <td>38640.0</td>\n",
       "      <td>98.0</td>\n",
       "      <td>70.0</td>\n",
       "      <td>57.0</td>\n",
       "      <td>BAT2078974</td>\n",
       "      <td>15000</td>\n",
       "      <td>15000</td>\n",
       "      <td>15000.0</td>\n",
       "      <td>...</td>\n",
       "      <td>0.0</td>\n",
       "      <td>0.0</td>\n",
       "      <td>0.0</td>\n",
       "      <td>INDIVIDUAL</td>\n",
       "      <td>65th week</td>\n",
       "      <td>0.0</td>\n",
       "      <td>0</td>\n",
       "      <td>4234.151626</td>\n",
       "      <td>0.044570</td>\n",
       "      <td>0.157895</td>\n",
       "    </tr>\n",
       "    <tr>\n",
       "      <th>19767045</th>\n",
       "      <td>0.0</td>\n",
       "      <td>153926.0</td>\n",
       "      <td>7000.0</td>\n",
       "      <td>50.0</td>\n",
       "      <td>70.0</td>\n",
       "      <td>50.0</td>\n",
       "      <td>BAT3461431</td>\n",
       "      <td>6500</td>\n",
       "      <td>6500</td>\n",
       "      <td>6500.0</td>\n",
       "      <td>...</td>\n",
       "      <td>0.0</td>\n",
       "      <td>0.0</td>\n",
       "      <td>0.0</td>\n",
       "      <td>INDIVIDUAL</td>\n",
       "      <td>56th week</td>\n",
       "      <td>0.0</td>\n",
       "      <td>1</td>\n",
       "      <td>2578.439439</td>\n",
       "      <td>0.053717</td>\n",
       "      <td>0.135417</td>\n",
       "    </tr>\n",
       "    <tr>\n",
       "      <th>1332598</th>\n",
       "      <td>0.0</td>\n",
       "      <td>0.0</td>\n",
       "      <td>10000.0</td>\n",
       "      <td>44.0</td>\n",
       "      <td>70.0</td>\n",
       "      <td>35.0</td>\n",
       "      <td>BAT5046385</td>\n",
       "      <td>7875</td>\n",
       "      <td>7875</td>\n",
       "      <td>7875.0</td>\n",
       "      <td>...</td>\n",
       "      <td>0.0</td>\n",
       "      <td>0.0</td>\n",
       "      <td>0.0</td>\n",
       "      <td>INDIVIDUAL</td>\n",
       "      <td>157th week</td>\n",
       "      <td>0.0</td>\n",
       "      <td>1</td>\n",
       "      <td>3288.382140</td>\n",
       "      <td>0.102762</td>\n",
       "      <td>0.246094</td>\n",
       "    </tr>\n",
       "  </tbody>\n",
       "</table>\n",
       "<p>5 rows × 45 columns</p>\n",
       "</div>"
      ],
      "text/plain": [
       "           tot_coll_amt  tot_cur_bal  total_rev_hi_lim  \\\n",
       "member_id                                                \n",
       "32157702            0.0      68305.0           21900.0   \n",
       "59571650            0.0      36306.0           10500.0   \n",
       "33338943            0.0      15866.0           38640.0   \n",
       "19767045            0.0     153926.0            7000.0   \n",
       "1332598             0.0          0.0           10000.0   \n",
       "\n",
       "           mths_since_last_major_derog  mths_since_last_record  \\\n",
       "member_id                                                        \n",
       "32157702                          44.0                    70.0   \n",
       "59571650                          50.0                    37.0   \n",
       "33338943                          98.0                    70.0   \n",
       "19767045                          50.0                    70.0   \n",
       "1332598                           44.0                    70.0   \n",
       "\n",
       "           mths_since_last_delinq batch_enrolled  loan_amnt  funded_amnt  \\\n",
       "member_id                                                                  \n",
       "32157702                      7.0     BAT2078974       2000         2000   \n",
       "59571650                     50.0     BAT3873588      10000        10000   \n",
       "33338943                     57.0     BAT2078974      15000        15000   \n",
       "19767045                     50.0     BAT3461431       6500         6500   \n",
       "1332598                      35.0     BAT5046385       7875         7875   \n",
       "\n",
       "           funded_amnt_inv  ...  recoveries  collection_recovery_fee  \\\n",
       "member_id                   ...                                        \n",
       "32157702            2000.0  ...         0.0                      0.0   \n",
       "59571650           10000.0  ...         0.0                      0.0   \n",
       "33338943           15000.0  ...         0.0                      0.0   \n",
       "19767045            6500.0  ...         0.0                      0.0   \n",
       "1332598             7875.0  ...         0.0                      0.0   \n",
       "\n",
       "          collections_12_mths_ex_med application_type last_week_pay  \\\n",
       "member_id                                                             \n",
       "32157702                         0.0       INDIVIDUAL     65th week   \n",
       "59571650                         0.0       INDIVIDUAL     22th week   \n",
       "33338943                         0.0       INDIVIDUAL     65th week   \n",
       "19767045                         0.0       INDIVIDUAL     56th week   \n",
       "1332598                          0.0       INDIVIDUAL    157th week   \n",
       "\n",
       "           acc_now_delinq loan_status  Annual_Total_premium       PTI  \\\n",
       "member_id                                                               \n",
       "32157702              0.0           0            812.706742  0.013108   \n",
       "59571650              0.0           0           3719.533417  0.053182   \n",
       "33338943              0.0           0           4234.151626  0.044570   \n",
       "19767045              0.0           1           2578.439439  0.053717   \n",
       "1332598               0.0           1           3288.382140  0.102762   \n",
       "\n",
       "                LTI  \n",
       "member_id            \n",
       "32157702   0.032258  \n",
       "59571650   0.142980  \n",
       "33338943   0.157895  \n",
       "19767045   0.135417  \n",
       "1332598    0.246094  \n",
       "\n",
       "[5 rows x 45 columns]"
      ]
     },
     "execution_count": 4,
     "metadata": {},
     "output_type": "execute_result"
    }
   ],
   "source": [
    "df_test.head()"
   ]
  },
  {
   "cell_type": "code",
   "execution_count": 5,
   "metadata": {},
   "outputs": [],
   "source": [
    "df_train = pd.read_csv('Data/Loan_Default_train_cleaned.csv', index_col=0)"
   ]
  },
  {
   "cell_type": "code",
   "execution_count": 6,
   "metadata": {},
   "outputs": [
    {
     "data": {
      "text/plain": [
       "(375608, 45)"
      ]
     },
     "execution_count": 6,
     "metadata": {},
     "output_type": "execute_result"
    }
   ],
   "source": [
    "df_train.shape"
   ]
  },
  {
   "cell_type": "code",
   "execution_count": 7,
   "metadata": {},
   "outputs": [
    {
     "data": {
      "text/html": [
       "<div>\n",
       "<style scoped>\n",
       "    .dataframe tbody tr th:only-of-type {\n",
       "        vertical-align: middle;\n",
       "    }\n",
       "\n",
       "    .dataframe tbody tr th {\n",
       "        vertical-align: top;\n",
       "    }\n",
       "\n",
       "    .dataframe thead th {\n",
       "        text-align: right;\n",
       "    }\n",
       "</style>\n",
       "<table border=\"1\" class=\"dataframe\">\n",
       "  <thead>\n",
       "    <tr style=\"text-align: right;\">\n",
       "      <th></th>\n",
       "      <th>tot_coll_amt</th>\n",
       "      <th>tot_cur_bal</th>\n",
       "      <th>total_rev_hi_lim</th>\n",
       "      <th>mths_since_last_major_derog</th>\n",
       "      <th>mths_since_last_record</th>\n",
       "      <th>mths_since_last_delinq</th>\n",
       "      <th>batch_enrolled</th>\n",
       "      <th>loan_amnt</th>\n",
       "      <th>funded_amnt</th>\n",
       "      <th>funded_amnt_inv</th>\n",
       "      <th>...</th>\n",
       "      <th>recoveries</th>\n",
       "      <th>collection_recovery_fee</th>\n",
       "      <th>collections_12_mths_ex_med</th>\n",
       "      <th>application_type</th>\n",
       "      <th>last_week_pay</th>\n",
       "      <th>acc_now_delinq</th>\n",
       "      <th>loan_status</th>\n",
       "      <th>Annual_Total_premium</th>\n",
       "      <th>PTI</th>\n",
       "      <th>LTI</th>\n",
       "    </tr>\n",
       "    <tr>\n",
       "      <th>member_id</th>\n",
       "      <th></th>\n",
       "      <th></th>\n",
       "      <th></th>\n",
       "      <th></th>\n",
       "      <th></th>\n",
       "      <th></th>\n",
       "      <th></th>\n",
       "      <th></th>\n",
       "      <th></th>\n",
       "      <th></th>\n",
       "      <th></th>\n",
       "      <th></th>\n",
       "      <th></th>\n",
       "      <th></th>\n",
       "      <th></th>\n",
       "      <th></th>\n",
       "      <th></th>\n",
       "      <th></th>\n",
       "      <th></th>\n",
       "      <th></th>\n",
       "      <th></th>\n",
       "    </tr>\n",
       "  </thead>\n",
       "  <tbody>\n",
       "    <tr>\n",
       "      <th>1485851</th>\n",
       "      <td>0.0</td>\n",
       "      <td>0.0</td>\n",
       "      <td>15000.0</td>\n",
       "      <td>44.0</td>\n",
       "      <td>70.0</td>\n",
       "      <td>31.0</td>\n",
       "      <td>BAT3372536</td>\n",
       "      <td>24000</td>\n",
       "      <td>24000</td>\n",
       "      <td>24000.0</td>\n",
       "      <td>...</td>\n",
       "      <td>1267.46</td>\n",
       "      <td>11.67</td>\n",
       "      <td>0.0</td>\n",
       "      <td>INDIVIDUAL</td>\n",
       "      <td>61th week</td>\n",
       "      <td>0.0</td>\n",
       "      <td>0</td>\n",
       "      <td>8318.641153</td>\n",
       "      <td>0.103983</td>\n",
       "      <td>0.300000</td>\n",
       "    </tr>\n",
       "    <tr>\n",
       "      <th>59728839</th>\n",
       "      <td>0.0</td>\n",
       "      <td>448556.0</td>\n",
       "      <td>153900.0</td>\n",
       "      <td>44.0</td>\n",
       "      <td>70.0</td>\n",
       "      <td>31.0</td>\n",
       "      <td>BAT3873588</td>\n",
       "      <td>25000</td>\n",
       "      <td>25000</td>\n",
       "      <td>25000.0</td>\n",
       "      <td>...</td>\n",
       "      <td>0.00</td>\n",
       "      <td>0.00</td>\n",
       "      <td>0.0</td>\n",
       "      <td>INDIVIDUAL</td>\n",
       "      <td>22th week</td>\n",
       "      <td>0.0</td>\n",
       "      <td>0</td>\n",
       "      <td>9034.434386</td>\n",
       "      <td>0.086042</td>\n",
       "      <td>0.238095</td>\n",
       "    </tr>\n",
       "    <tr>\n",
       "      <th>26348727</th>\n",
       "      <td>0.0</td>\n",
       "      <td>18255.0</td>\n",
       "      <td>37300.0</td>\n",
       "      <td>44.0</td>\n",
       "      <td>70.0</td>\n",
       "      <td>31.0</td>\n",
       "      <td>BAT2333412</td>\n",
       "      <td>11200</td>\n",
       "      <td>11200</td>\n",
       "      <td>11200.0</td>\n",
       "      <td>...</td>\n",
       "      <td>0.00</td>\n",
       "      <td>0.00</td>\n",
       "      <td>0.0</td>\n",
       "      <td>INDIVIDUAL</td>\n",
       "      <td>74th week</td>\n",
       "      <td>0.0</td>\n",
       "      <td>0</td>\n",
       "      <td>4235.829931</td>\n",
       "      <td>0.105896</td>\n",
       "      <td>0.280000</td>\n",
       "    </tr>\n",
       "    <tr>\n",
       "      <th>53714022</th>\n",
       "      <td>0.0</td>\n",
       "      <td>65274.0</td>\n",
       "      <td>49800.0</td>\n",
       "      <td>54.0</td>\n",
       "      <td>70.0</td>\n",
       "      <td>28.0</td>\n",
       "      <td>BAT1184694</td>\n",
       "      <td>15000</td>\n",
       "      <td>15000</td>\n",
       "      <td>15000.0</td>\n",
       "      <td>...</td>\n",
       "      <td>0.00</td>\n",
       "      <td>0.00</td>\n",
       "      <td>0.0</td>\n",
       "      <td>INDIVIDUAL</td>\n",
       "      <td>31th week</td>\n",
       "      <td>0.0</td>\n",
       "      <td>0</td>\n",
       "      <td>5495.544074</td>\n",
       "      <td>0.091592</td>\n",
       "      <td>0.250000</td>\n",
       "    </tr>\n",
       "    <tr>\n",
       "      <th>56449016</th>\n",
       "      <td>0.0</td>\n",
       "      <td>365694.0</td>\n",
       "      <td>19200.0</td>\n",
       "      <td>44.0</td>\n",
       "      <td>70.0</td>\n",
       "      <td>3.0</td>\n",
       "      <td>BAT3873588</td>\n",
       "      <td>10000</td>\n",
       "      <td>10000</td>\n",
       "      <td>10000.0</td>\n",
       "      <td>...</td>\n",
       "      <td>0.00</td>\n",
       "      <td>0.00</td>\n",
       "      <td>0.0</td>\n",
       "      <td>INDIVIDUAL</td>\n",
       "      <td>13th week</td>\n",
       "      <td>0.0</td>\n",
       "      <td>0</td>\n",
       "      <td>3928.077802</td>\n",
       "      <td>0.029314</td>\n",
       "      <td>0.074627</td>\n",
       "    </tr>\n",
       "  </tbody>\n",
       "</table>\n",
       "<p>5 rows × 45 columns</p>\n",
       "</div>"
      ],
      "text/plain": [
       "           tot_coll_amt  tot_cur_bal  total_rev_hi_lim  \\\n",
       "member_id                                                \n",
       "1485851             0.0          0.0           15000.0   \n",
       "59728839            0.0     448556.0          153900.0   \n",
       "26348727            0.0      18255.0           37300.0   \n",
       "53714022            0.0      65274.0           49800.0   \n",
       "56449016            0.0     365694.0           19200.0   \n",
       "\n",
       "           mths_since_last_major_derog  mths_since_last_record  \\\n",
       "member_id                                                        \n",
       "1485851                           44.0                    70.0   \n",
       "59728839                          44.0                    70.0   \n",
       "26348727                          44.0                    70.0   \n",
       "53714022                          54.0                    70.0   \n",
       "56449016                          44.0                    70.0   \n",
       "\n",
       "           mths_since_last_delinq batch_enrolled  loan_amnt  funded_amnt  \\\n",
       "member_id                                                                  \n",
       "1485851                      31.0     BAT3372536      24000        24000   \n",
       "59728839                     31.0     BAT3873588      25000        25000   \n",
       "26348727                     31.0     BAT2333412      11200        11200   \n",
       "53714022                     28.0     BAT1184694      15000        15000   \n",
       "56449016                      3.0     BAT3873588      10000        10000   \n",
       "\n",
       "           funded_amnt_inv  ...  recoveries  collection_recovery_fee  \\\n",
       "member_id                   ...                                        \n",
       "1485851            24000.0  ...     1267.46                    11.67   \n",
       "59728839           25000.0  ...        0.00                     0.00   \n",
       "26348727           11200.0  ...        0.00                     0.00   \n",
       "53714022           15000.0  ...        0.00                     0.00   \n",
       "56449016           10000.0  ...        0.00                     0.00   \n",
       "\n",
       "          collections_12_mths_ex_med application_type last_week_pay  \\\n",
       "member_id                                                             \n",
       "1485851                          0.0       INDIVIDUAL     61th week   \n",
       "59728839                         0.0       INDIVIDUAL     22th week   \n",
       "26348727                         0.0       INDIVIDUAL     74th week   \n",
       "53714022                         0.0       INDIVIDUAL     31th week   \n",
       "56449016                         0.0       INDIVIDUAL     13th week   \n",
       "\n",
       "           acc_now_delinq loan_status  Annual_Total_premium       PTI  \\\n",
       "member_id                                                               \n",
       "1485851               0.0           0           8318.641153  0.103983   \n",
       "59728839              0.0           0           9034.434386  0.086042   \n",
       "26348727              0.0           0           4235.829931  0.105896   \n",
       "53714022              0.0           0           5495.544074  0.091592   \n",
       "56449016              0.0           0           3928.077802  0.029314   \n",
       "\n",
       "                LTI  \n",
       "member_id            \n",
       "1485851    0.300000  \n",
       "59728839   0.238095  \n",
       "26348727   0.280000  \n",
       "53714022   0.250000  \n",
       "56449016   0.074627  \n",
       "\n",
       "[5 rows x 45 columns]"
      ]
     },
     "execution_count": 7,
     "metadata": {},
     "output_type": "execute_result"
    }
   ],
   "source": [
    "df_train.head()"
   ]
  },
  {
   "cell_type": "code",
   "execution_count": 8,
   "metadata": {},
   "outputs": [
    {
     "name": "stdout",
     "output_type": "stream",
     "text": [
      "<class 'pandas.core.frame.DataFrame'>\n",
      "Int64Index: 375608 entries, 1485851 to 56428627\n",
      "Data columns (total 45 columns):\n",
      " #   Column                       Non-Null Count   Dtype  \n",
      "---  ------                       --------------   -----  \n",
      " 0   tot_coll_amt                 375608 non-null  float64\n",
      " 1   tot_cur_bal                  375608 non-null  float64\n",
      " 2   total_rev_hi_lim             375608 non-null  float64\n",
      " 3   mths_since_last_major_derog  375608 non-null  float64\n",
      " 4   mths_since_last_record       375608 non-null  float64\n",
      " 5   mths_since_last_delinq       375608 non-null  float64\n",
      " 6   batch_enrolled               375608 non-null  object \n",
      " 7   loan_amnt                    375608 non-null  int64  \n",
      " 8   funded_amnt                  375608 non-null  int64  \n",
      " 9   funded_amnt_inv              375608 non-null  float64\n",
      " 10  term                         375608 non-null  int64  \n",
      " 11  int_rate                     375608 non-null  float64\n",
      " 12  grade                        375608 non-null  object \n",
      " 13  sub_grade                    375608 non-null  object \n",
      " 14  emp_title                    375608 non-null  object \n",
      " 15  emp_length                   375608 non-null  float64\n",
      " 16  home_ownership               375608 non-null  object \n",
      " 17  annual_inc                   375608 non-null  float64\n",
      " 18  verification_status          375608 non-null  object \n",
      " 19  pymnt_plan                   375608 non-null  object \n",
      " 20  purpose                      375608 non-null  object \n",
      " 21  title                        375608 non-null  object \n",
      " 22  zip_code                     375608 non-null  object \n",
      " 23  addr_state                   375608 non-null  object \n",
      " 24  dti                          375608 non-null  float64\n",
      " 25  delinq_2yrs                  375608 non-null  float64\n",
      " 26  inq_last_6mths               375608 non-null  float64\n",
      " 27  open_acc                     375608 non-null  float64\n",
      " 28  pub_rec                      375608 non-null  float64\n",
      " 29  revol_bal                    375608 non-null  float64\n",
      " 30  revol_util                   375608 non-null  float64\n",
      " 31  total_acc                    375608 non-null  float64\n",
      " 32  initial_list_status          375608 non-null  object \n",
      " 33  total_rec_int                375608 non-null  float64\n",
      " 34  total_rec_late_fee           375608 non-null  float64\n",
      " 35  recoveries                   375608 non-null  float64\n",
      " 36  collection_recovery_fee      375608 non-null  float64\n",
      " 37  collections_12_mths_ex_med   375608 non-null  float64\n",
      " 38  application_type             375608 non-null  object \n",
      " 39  last_week_pay                375608 non-null  object \n",
      " 40  acc_now_delinq               375608 non-null  float64\n",
      " 41  loan_status                  375608 non-null  int64  \n",
      " 42  Annual_Total_premium         375608 non-null  float64\n",
      " 43  PTI                          375608 non-null  float64\n",
      " 44  LTI                          375608 non-null  float64\n",
      "dtypes: float64(27), int64(4), object(14)\n",
      "memory usage: 131.8+ MB\n"
     ]
    }
   ],
   "source": [
    "df_train.info()"
   ]
  },
  {
   "cell_type": "code",
   "execution_count": 9,
   "metadata": {},
   "outputs": [],
   "source": [
    "numcols = ['loan_amnt','emp_length','funded_amnt','int_rate', 'annual_inc','dti','open_acc','pub_rec','revol_bal','revol_util','total_acc','Annual_Total_premium','PTI','term','inq_last_6mths','LTI']"
   ]
  },
  {
   "cell_type": "code",
   "execution_count": 10,
   "metadata": {},
   "outputs": [],
   "source": [
    "catcols = ['grade','sub_grade','home_ownership','verification_status', 'pymnt_plan','purpose','addr_state','initial_list_status','application_type']"
   ]
  },
  {
   "cell_type": "code",
   "execution_count": 11,
   "metadata": {},
   "outputs": [],
   "source": [
    "X_tol_train = df_train.drop(['loan_status'],axis=1) \n",
    "X_test = df_test.drop(['loan_status'],axis=1)\n",
    "y_tol_train = df_train['loan_status']\n",
    "y_test = df_test['loan_status']"
   ]
  },
  {
   "cell_type": "code",
   "execution_count": 12,
   "metadata": {},
   "outputs": [],
   "source": [
    "X_train, X_val, y_train, y_val = train_test_split(X_tol_train, y_tol_train, random_state=42, test_size=0.2)"
   ]
  },
  {
   "cell_type": "code",
   "execution_count": 13,
   "metadata": {},
   "outputs": [],
   "source": [
    "subpipe_numerics =Pipeline(steps =[\n",
    "    ('ss',StandardScaler())      \n",
    "])\n",
    "    \n",
    "subpipe_cat =Pipeline([\n",
    "    ('ohe',OneHotEncoder(sparse=False, handle_unknown='ignore')) \n",
    "])"
   ]
  },
  {
   "cell_type": "code",
   "execution_count": 14,
   "metadata": {},
   "outputs": [],
   "source": [
    "CT = ColumnTransformer(transformers=[\n",
    "    ('subpipe_num', subpipe_numerics,numcols),\n",
    "    ('subpipe_cate', subpipe_cat,catcols)  \n",
    "],remainder='drop')"
   ]
  },
  {
   "cell_type": "code",
   "execution_count": 15,
   "metadata": {},
   "outputs": [],
   "source": [
    "subpipe_numerics1 =Pipeline(steps =[\n",
    "    ('poly',PolynomialFeatures()),\n",
    "    ('ss',StandardScaler())\n",
    "])\n",
    "    \n",
    "subpipe_cat1 =Pipeline([\n",
    "    ('ohe',OneHotEncoder(sparse=False, handle_unknown='ignore')) \n",
    "])"
   ]
  },
  {
   "cell_type": "code",
   "execution_count": 16,
   "metadata": {},
   "outputs": [],
   "source": [
    "CT_poly = ColumnTransformer(transformers=[\n",
    "    ('subpipe_num', subpipe_numerics1,numcols),\n",
    "    ('subpipe_cate', subpipe_cat1,catcols)\n",
    "],remainder='drop')"
   ]
  },
  {
   "cell_type": "code",
   "execution_count": 17,
   "metadata": {},
   "outputs": [],
   "source": [
    "def model_eval(estimator,X_train=X_train, X_test=X_test, y_train=y_train, y_test=y_test,CT=CT):\n",
    "    warnings.filterwarnings('ignore')\n",
    "    model_name = type(estimator).__name__\n",
    "    model = Pipeline(steps=[\n",
    "    ('ct',CT),\n",
    "    ('model',estimator)])\n",
    "\n",
    "    model.fit(X_train,y_train)\n",
    "    \n",
    "    print(f'below are the model evaluation statistics of {model}')\n",
    "    print(f' train_score : {round(model.score(X_train,y_train),4)}')\n",
    "    print(f' test_score : {round(model.score(X_test,y_test),4)}')\n",
    "    print(f' log loss on training dataset : {round(log_loss(y_train, model.predict_proba(X_train)),4)}')\n",
    "    print(f' log loss on test dataset : {round(log_loss(y_test, model.predict_proba(X_test)),4)}')\n",
    "    print(f'CrossValidation on training dataset : {cross_val_score(model,X_train,y_train,scoring=\"f1\").mean()}')\n",
    "    \n",
    "    print('classification_report')\n",
    "    print(classification_report(y_test, model.predict(X_test)))\n",
    "    \n",
    "    cm = ConfusionMatrixDisplay.from_estimator(model, X_test, y_test)\n",
    "    cm.ax_.set_title('Conf Matrix on Test Data')\n",
    "    \n",
    "    RocCurveDisplay.from_estimator(model, X_test, y_test)"
   ]
  },
  {
   "cell_type": "code",
   "execution_count": 18,
   "metadata": {},
   "outputs": [],
   "source": [
    "def model_eff(estimator,X_train=X_train, X_test=X_test, y_train=y_train, y_test=y_test):\n",
    "    warnings.filterwarnings('ignore')\n",
    "    \n",
    "    print(f'below are the model evaluation statistics of {estimator}')\n",
    "    print(f' train_score : {round(estimator.score(X_train,y_train),4)}')\n",
    "    print(f' test_score : {round(estimator.score(X_test,y_test),4)}')\n",
    "    print(f' log loss on training dataset : {round(log_loss(y_train, estimator.predict_proba(X_train)),4)}')\n",
    "    print(f' log loss on test dataset : {round(log_loss(y_test, estimator.predict_proba(X_test)),4)}')\n",
    "    print(f'CrossValidation on training dataset : {cross_val_score(estimator,X_train,y_train,scoring=\"f1\").mean()}')\n",
    "    \n",
    "    print('classification_report')\n",
    "    print(classification_report(y_test, estimator.predict(X_test)))\n",
    "    \n",
    "    cm = ConfusionMatrixDisplay.from_estimator(estimator, X_test, y_test)\n",
    "    cm.ax_.set_title('Conf Matrix on Test Data')\n",
    "    \n",
    "    RocCurveDisplay.from_estimator(estimator, X_test, y_test)"
   ]
  },
  {
   "cell_type": "markdown",
   "metadata": {},
   "source": [
    "### Dummy Model"
   ]
  },
  {
   "cell_type": "code",
   "execution_count": 18,
   "metadata": {},
   "outputs": [
    {
     "name": "stdout",
     "output_type": "stream",
     "text": [
      "below are the model evaluation statistics of Pipeline(steps=[('ct',\n",
      "                 ColumnTransformer(transformers=[('subpipe_num',\n",
      "                                                  Pipeline(steps=[('ss',\n",
      "                                                                   StandardScaler())]),\n",
      "                                                  ['loan_amnt', 'emp_length',\n",
      "                                                   'funded_amnt', 'int_rate',\n",
      "                                                   'annual_inc', 'dti',\n",
      "                                                   'open_acc', 'pub_rec',\n",
      "                                                   'revol_bal', 'revol_util',\n",
      "                                                   'total_acc',\n",
      "                                                   'Annual_Total_premium',\n",
      "                                                   'PTI', 'term',\n",
      "                                                   'inq_last_6mths', 'LTI']),\n",
      "                                                 ('subpipe_cate',\n",
      "                                                  Pipeline(steps=[('ohe',\n",
      "                                                                   OneHotEncoder(handle_unknown='ignore',\n",
      "                                                                                 sparse=False))]),\n",
      "                                                  ['grade', 'sub_grade',\n",
      "                                                   'home_ownership',\n",
      "                                                   'verification_status',\n",
      "                                                   'pymnt_plan', 'purpose',\n",
      "                                                   'addr_state',\n",
      "                                                   'initial_list_status',\n",
      "                                                   'application_type'])])),\n",
      "                ('model', DummyClassifier())])\n",
      " train_score : 0.7611\n",
      " test_score : 0.7643\n",
      " log loss on training dataset : 0.5498\n",
      " log loss on test dataset : 0.5461\n",
      "CrossValidation on training dataset : 0.0\n",
      "classification_report\n",
      "              precision    recall  f1-score   support\n",
      "\n",
      "           0       0.76      1.00      0.87     95692\n",
      "           1       0.00      0.00      0.00     29511\n",
      "\n",
      "    accuracy                           0.76    125203\n",
      "   macro avg       0.38      0.50      0.43    125203\n",
      "weighted avg       0.58      0.76      0.66    125203\n",
      "\n"
     ]
    },
    {
     "data": {
      "image/png": "[encoded data removed]",
      "text/plain": [
       "<Figure size 432x288 with 2 Axes>"
      ]
     },
     "metadata": {
      "needs_background": "light"
     },
     "output_type": "display_data"
    },
    {
     "data": {
      "image/png": "[encoded data removed]",
      "text/plain": [
       "<Figure size 432x288 with 1 Axes>"
      ]
     },
     "metadata": {
      "needs_background": "light"
     },
     "output_type": "display_data"
    }
   ],
   "source": [
    "model_eval(DummyClassifier())"
   ]
  },
  {
   "cell_type": "markdown",
   "metadata": {},
   "source": [
    "### Logistic Regression Models"
   ]
  },
  {
   "cell_type": "code",
   "execution_count": 52,
   "metadata": {
    "scrolled": true
   },
   "outputs": [
    {
     "name": "stdout",
     "output_type": "stream",
     "text": [
      "below are the model evaluation statistics of Pipeline(steps=[('ct',\n",
      "                 ColumnTransformer(transformers=[('subpipe_num',\n",
      "                                                  Pipeline(steps=[('ss',\n",
      "                                                                   StandardScaler())]),\n",
      "                                                  ['loan_amnt', 'emp_length',\n",
      "                                                   'funded_amnt', 'int_rate',\n",
      "                                                   'annual_inc', 'dti',\n",
      "                                                   'open_acc', 'pub_rec',\n",
      "                                                   'revol_bal', 'revol_util',\n",
      "                                                   'total_acc',\n",
      "                                                   'Annual_Total_premium',\n",
      "                                                   'PTI', 'term',\n",
      "                                                   'inq_last_6mths', 'LTI']),\n",
      "                                                 ('subpipe_cate',\n",
      "                                                  Pipeline(steps=[('ohe',\n",
      "                                                                   OneHotEncoder(handle_unknown='ignore',\n",
      "                                                                                 sparse=False))]),\n",
      "                                                  ['grade', 'sub_grade',\n",
      "                                                   'home_ownership',\n",
      "                                                   'verification_status',\n",
      "                                                   'pymnt_plan', 'purpose',\n",
      "                                                   'addr_state',\n",
      "                                                   'initial_list_status',\n",
      "                                                   'application_type'])])),\n",
      "                ('model', LogisticRegression())])\n",
      " train_score : 0.7838\n",
      " test_score : 0.7865\n",
      " log loss on training dataset : 0.4663\n",
      " log loss on test dataset : 0.4619\n",
      "CrossValidation on training dataset : 0.373102101424437\n",
      "classification_report\n",
      "              precision    recall  f1-score   support\n",
      "\n",
      "           0       0.81      0.95      0.87     95692\n",
      "           1       0.61      0.27      0.37     29511\n",
      "\n",
      "    accuracy                           0.79    125203\n",
      "   macro avg       0.71      0.61      0.62    125203\n",
      "weighted avg       0.76      0.79      0.75    125203\n",
      "\n"
     ]
    },
    {
     "data": {
      "image/png": "[encoded data removed]",
      "text/plain": [
       "<Figure size 432x288 with 2 Axes>"
      ]
     },
     "metadata": {
      "needs_background": "light"
     },
     "output_type": "display_data"
    },
    {
     "data": {
      "image/png": "[encoded data removed]",
      "text/plain": [
       "<Figure size 432x288 with 1 Axes>"
      ]
     },
     "metadata": {
      "needs_background": "light"
     },
     "output_type": "display_data"
    }
   ],
   "source": [
    "model_eval(LogisticRegression())"
   ]
  },
  {
   "cell_type": "markdown",
   "metadata": {},
   "source": [
    "### Logistic Regression Grid Search"
   ]
  },
  {
   "cell_type": "code",
   "execution_count": 68,
   "metadata": {},
   "outputs": [
    {
     "data": {
      "text/html": [
       "<style>#sk-container-id-3 {color: black;background-color: white;}#sk-container-id-3 pre{padding: 0;}#sk-container-id-3 div.sk-toggleable {background-color: white;}#sk-container-id-3 label.sk-toggleable__label {cursor: pointer;display: block;width: 100%;margin-bottom: 0;padding: 0.3em;box-sizing: border-box;text-align: center;}#sk-container-id-3 label.sk-toggleable__label-arrow:before {content: \"▸\";float: left;margin-right: 0.25em;color: #696969;}#sk-container-id-3 label.sk-toggleable__label-arrow:hover:before {color: black;}#sk-container-id-3 div.sk-estimator:hover label.sk-toggleable__label-arrow:before {color: black;}#sk-container-id-3 div.sk-toggleable__content {max-height: 0;max-width: 0;overflow: hidden;text-align: left;background-color: #f0f8ff;}#sk-container-id-3 div.sk-toggleable__content pre {margin: 0.2em;color: black;border-radius: 0.25em;background-color: #f0f8ff;}#sk-container-id-3 input.sk-toggleable__control:checked~div.sk-toggleable__content {max-height: 200px;max-width: 100%;overflow: auto;}#sk-container-id-3 input.sk-toggleable__control:checked~label.sk-toggleable__label-arrow:before {content: \"▾\";}#sk-container-id-3 div.sk-estimator input.sk-toggleable__control:checked~label.sk-toggleable__label {background-color: #d4ebff;}#sk-container-id-3 div.sk-label input.sk-toggleable__control:checked~label.sk-toggleable__label {background-color: #d4ebff;}#sk-container-id-3 input.sk-hidden--visually {border: 0;clip: rect(1px 1px 1px 1px);clip: rect(1px, 1px, 1px, 1px);height: 1px;margin: -1px;overflow: hidden;padding: 0;position: absolute;width: 1px;}#sk-container-id-3 div.sk-estimator {font-family: monospace;background-color: #f0f8ff;border: 1px dotted black;border-radius: 0.25em;box-sizing: border-box;margin-bottom: 0.5em;}#sk-container-id-3 div.sk-estimator:hover {background-color: #d4ebff;}#sk-container-id-3 div.sk-parallel-item::after {content: \"\";width: 100%;border-bottom: 1px solid gray;flex-grow: 1;}#sk-container-id-3 div.sk-label:hover label.sk-toggleable__label {background-color: #d4ebff;}#sk-container-id-3 div.sk-serial::before {content: \"\";position: absolute;border-left: 1px solid gray;box-sizing: border-box;top: 0;bottom: 0;left: 50%;z-index: 0;}#sk-container-id-3 div.sk-serial {display: flex;flex-direction: column;align-items: center;background-color: white;padding-right: 0.2em;padding-left: 0.2em;position: relative;}#sk-container-id-3 div.sk-item {position: relative;z-index: 1;}#sk-container-id-3 div.sk-parallel {display: flex;align-items: stretch;justify-content: center;background-color: white;position: relative;}#sk-container-id-3 div.sk-item::before, #sk-container-id-3 div.sk-parallel-item::before {content: \"\";position: absolute;border-left: 1px solid gray;box-sizing: border-box;top: 0;bottom: 0;left: 50%;z-index: -1;}#sk-container-id-3 div.sk-parallel-item {display: flex;flex-direction: column;z-index: 1;position: relative;background-color: white;}#sk-container-id-3 div.sk-parallel-item:first-child::after {align-self: flex-end;width: 50%;}#sk-container-id-3 div.sk-parallel-item:last-child::after {align-self: flex-start;width: 50%;}#sk-container-id-3 div.sk-parallel-item:only-child::after {width: 0;}#sk-container-id-3 div.sk-dashed-wrapped {border: 1px dashed gray;margin: 0 0.4em 0.5em 0.4em;box-sizing: border-box;padding-bottom: 0.4em;background-color: white;}#sk-container-id-3 div.sk-label label {font-family: monospace;font-weight: bold;display: inline-block;line-height: 1.2em;}#sk-container-id-3 div.sk-label-container {text-align: center;}#sk-container-id-3 div.sk-container {/* jupyter's `normalize.less` sets `[hidden] { display: none; }` but bootstrap.min.css set `[hidden] { display: none !important; }` so we also need the `!important` here to be able to override the default hidden behavior on the sphinx rendered scikit-learn.org. See: https://github.com/scikit-learn/scikit-learn/issues/21755 */display: inline-block !important;position: relative;}#sk-container-id-3 div.sk-text-repr-fallback {display: none;}</style><div id=\"sk-container-id-3\" class=\"sk-top-container\"><div class=\"sk-text-repr-fallback\"><pre>Pipeline(steps=[(&#x27;ct&#x27;,\n",
       "                 ColumnTransformer(transformers=[(&#x27;subpipe_num&#x27;,\n",
       "                                                  Pipeline(steps=[(&#x27;ss&#x27;,\n",
       "                                                                   StandardScaler())]),\n",
       "                                                  [&#x27;loan_amnt&#x27;, &#x27;emp_length&#x27;,\n",
       "                                                   &#x27;funded_amnt&#x27;, &#x27;int_rate&#x27;,\n",
       "                                                   &#x27;annual_inc&#x27;, &#x27;dti&#x27;,\n",
       "                                                   &#x27;open_acc&#x27;, &#x27;pub_rec&#x27;,\n",
       "                                                   &#x27;revol_bal&#x27;, &#x27;revol_util&#x27;,\n",
       "                                                   &#x27;total_acc&#x27;,\n",
       "                                                   &#x27;Annual_Total_premium&#x27;,\n",
       "                                                   &#x27;PTI&#x27;, &#x27;term&#x27;,\n",
       "                                                   &#x27;inq_last_6mths&#x27;, &#x27;LTI&#x27;]),\n",
       "                                                 (&#x27;subpipe_cate&#x27;,\n",
       "                                                  Pipeline(steps=[(&#x27;ohe&#x27;,\n",
       "                                                                   OneHotEncoder(handle_unknown=&#x27;ignore&#x27;,\n",
       "                                                                                 sparse=False))]),\n",
       "                                                  [&#x27;grade&#x27;, &#x27;sub_grade&#x27;,\n",
       "                                                   &#x27;home_ownership&#x27;,\n",
       "                                                   &#x27;verification_status&#x27;,\n",
       "                                                   &#x27;pymnt_plan&#x27;, &#x27;purpose&#x27;,\n",
       "                                                   &#x27;addr_state&#x27;,\n",
       "                                                   &#x27;initial_list_status&#x27;,\n",
       "                                                   &#x27;application_type&#x27;])])),\n",
       "                (&#x27;classifier&#x27;, LogisticRegression())])</pre><b>In a Jupyter environment, please rerun this cell to show the HTML representation or trust the notebook. <br />On GitHub, the HTML representation is unable to render, please try loading this page with nbviewer.org.</b></div><div class=\"sk-container\" hidden><div class=\"sk-item sk-dashed-wrapped\"><div class=\"sk-label-container\"><div class=\"sk-label sk-toggleable\"><input class=\"sk-toggleable__control sk-hidden--visually\" id=\"sk-estimator-id-15\" type=\"checkbox\" ><label for=\"sk-estimator-id-15\" class=\"sk-toggleable__label sk-toggleable__label-arrow\">Pipeline</label><div class=\"sk-toggleable__content\"><pre>Pipeline(steps=[(&#x27;ct&#x27;,\n",
       "                 ColumnTransformer(transformers=[(&#x27;subpipe_num&#x27;,\n",
       "                                                  Pipeline(steps=[(&#x27;ss&#x27;,\n",
       "                                                                   StandardScaler())]),\n",
       "                                                  [&#x27;loan_amnt&#x27;, &#x27;emp_length&#x27;,\n",
       "                                                   &#x27;funded_amnt&#x27;, &#x27;int_rate&#x27;,\n",
       "                                                   &#x27;annual_inc&#x27;, &#x27;dti&#x27;,\n",
       "                                                   &#x27;open_acc&#x27;, &#x27;pub_rec&#x27;,\n",
       "                                                   &#x27;revol_bal&#x27;, &#x27;revol_util&#x27;,\n",
       "                                                   &#x27;total_acc&#x27;,\n",
       "                                                   &#x27;Annual_Total_premium&#x27;,\n",
       "                                                   &#x27;PTI&#x27;, &#x27;term&#x27;,\n",
       "                                                   &#x27;inq_last_6mths&#x27;, &#x27;LTI&#x27;]),\n",
       "                                                 (&#x27;subpipe_cate&#x27;,\n",
       "                                                  Pipeline(steps=[(&#x27;ohe&#x27;,\n",
       "                                                                   OneHotEncoder(handle_unknown=&#x27;ignore&#x27;,\n",
       "                                                                                 sparse=False))]),\n",
       "                                                  [&#x27;grade&#x27;, &#x27;sub_grade&#x27;,\n",
       "                                                   &#x27;home_ownership&#x27;,\n",
       "                                                   &#x27;verification_status&#x27;,\n",
       "                                                   &#x27;pymnt_plan&#x27;, &#x27;purpose&#x27;,\n",
       "                                                   &#x27;addr_state&#x27;,\n",
       "                                                   &#x27;initial_list_status&#x27;,\n",
       "                                                   &#x27;application_type&#x27;])])),\n",
       "                (&#x27;classifier&#x27;, LogisticRegression())])</pre></div></div></div><div class=\"sk-serial\"><div class=\"sk-item sk-dashed-wrapped\"><div class=\"sk-label-container\"><div class=\"sk-label sk-toggleable\"><input class=\"sk-toggleable__control sk-hidden--visually\" id=\"sk-estimator-id-16\" type=\"checkbox\" ><label for=\"sk-estimator-id-16\" class=\"sk-toggleable__label sk-toggleable__label-arrow\">ct: ColumnTransformer</label><div class=\"sk-toggleable__content\"><pre>ColumnTransformer(transformers=[(&#x27;subpipe_num&#x27;,\n",
       "                                 Pipeline(steps=[(&#x27;ss&#x27;, StandardScaler())]),\n",
       "                                 [&#x27;loan_amnt&#x27;, &#x27;emp_length&#x27;, &#x27;funded_amnt&#x27;,\n",
       "                                  &#x27;int_rate&#x27;, &#x27;annual_inc&#x27;, &#x27;dti&#x27;, &#x27;open_acc&#x27;,\n",
       "                                  &#x27;pub_rec&#x27;, &#x27;revol_bal&#x27;, &#x27;revol_util&#x27;,\n",
       "                                  &#x27;total_acc&#x27;, &#x27;Annual_Total_premium&#x27;, &#x27;PTI&#x27;,\n",
       "                                  &#x27;term&#x27;, &#x27;inq_last_6mths&#x27;, &#x27;LTI&#x27;]),\n",
       "                                (&#x27;subpipe_cate&#x27;,\n",
       "                                 Pipeline(steps=[(&#x27;ohe&#x27;,\n",
       "                                                  OneHotEncoder(handle_unknown=&#x27;ignore&#x27;,\n",
       "                                                                sparse=False))]),\n",
       "                                 [&#x27;grade&#x27;, &#x27;sub_grade&#x27;, &#x27;home_ownership&#x27;,\n",
       "                                  &#x27;verification_status&#x27;, &#x27;pymnt_plan&#x27;,\n",
       "                                  &#x27;purpose&#x27;, &#x27;addr_state&#x27;,\n",
       "                                  &#x27;initial_list_status&#x27;, &#x27;application_type&#x27;])])</pre></div></div></div><div class=\"sk-parallel\"><div class=\"sk-parallel-item\"><div class=\"sk-item\"><div class=\"sk-label-container\"><div class=\"sk-label sk-toggleable\"><input class=\"sk-toggleable__control sk-hidden--visually\" id=\"sk-estimator-id-17\" type=\"checkbox\" ><label for=\"sk-estimator-id-17\" class=\"sk-toggleable__label sk-toggleable__label-arrow\">subpipe_num</label><div class=\"sk-toggleable__content\"><pre>[&#x27;loan_amnt&#x27;, &#x27;emp_length&#x27;, &#x27;funded_amnt&#x27;, &#x27;int_rate&#x27;, &#x27;annual_inc&#x27;, &#x27;dti&#x27;, &#x27;open_acc&#x27;, &#x27;pub_rec&#x27;, &#x27;revol_bal&#x27;, &#x27;revol_util&#x27;, &#x27;total_acc&#x27;, &#x27;Annual_Total_premium&#x27;, &#x27;PTI&#x27;, &#x27;term&#x27;, &#x27;inq_last_6mths&#x27;, &#x27;LTI&#x27;]</pre></div></div></div><div class=\"sk-serial\"><div class=\"sk-item\"><div class=\"sk-serial\"><div class=\"sk-item\"><div class=\"sk-estimator sk-toggleable\"><input class=\"sk-toggleable__control sk-hidden--visually\" id=\"sk-estimator-id-18\" type=\"checkbox\" ><label for=\"sk-estimator-id-18\" class=\"sk-toggleable__label sk-toggleable__label-arrow\">StandardScaler</label><div class=\"sk-toggleable__content\"><pre>StandardScaler()</pre></div></div></div></div></div></div></div></div><div class=\"sk-parallel-item\"><div class=\"sk-item\"><div class=\"sk-label-container\"><div class=\"sk-label sk-toggleable\"><input class=\"sk-toggleable__control sk-hidden--visually\" id=\"sk-estimator-id-19\" type=\"checkbox\" ><label for=\"sk-estimator-id-19\" class=\"sk-toggleable__label sk-toggleable__label-arrow\">subpipe_cate</label><div class=\"sk-toggleable__content\"><pre>[&#x27;grade&#x27;, &#x27;sub_grade&#x27;, &#x27;home_ownership&#x27;, &#x27;verification_status&#x27;, &#x27;pymnt_plan&#x27;, &#x27;purpose&#x27;, &#x27;addr_state&#x27;, &#x27;initial_list_status&#x27;, &#x27;application_type&#x27;]</pre></div></div></div><div class=\"sk-serial\"><div class=\"sk-item\"><div class=\"sk-serial\"><div class=\"sk-item\"><div class=\"sk-estimator sk-toggleable\"><input class=\"sk-toggleable__control sk-hidden--visually\" id=\"sk-estimator-id-20\" type=\"checkbox\" ><label for=\"sk-estimator-id-20\" class=\"sk-toggleable__label sk-toggleable__label-arrow\">OneHotEncoder</label><div class=\"sk-toggleable__content\"><pre>OneHotEncoder(handle_unknown=&#x27;ignore&#x27;, sparse=False)</pre></div></div></div></div></div></div></div></div></div></div><div class=\"sk-item\"><div class=\"sk-estimator sk-toggleable\"><input class=\"sk-toggleable__control sk-hidden--visually\" id=\"sk-estimator-id-21\" type=\"checkbox\" ><label for=\"sk-estimator-id-21\" class=\"sk-toggleable__label sk-toggleable__label-arrow\">LogisticRegression</label><div class=\"sk-toggleable__content\"><pre>LogisticRegression()</pre></div></div></div></div></div></div></div>"
      ],
      "text/plain": [
       "Pipeline(steps=[('ct',\n",
       "                 ColumnTransformer(transformers=[('subpipe_num',\n",
       "                                                  Pipeline(steps=[('ss',\n",
       "                                                                   StandardScaler())]),\n",
       "                                                  ['loan_amnt', 'emp_length',\n",
       "                                                   'funded_amnt', 'int_rate',\n",
       "                                                   'annual_inc', 'dti',\n",
       "                                                   'open_acc', 'pub_rec',\n",
       "                                                   'revol_bal', 'revol_util',\n",
       "                                                   'total_acc',\n",
       "                                                   'Annual_Total_premium',\n",
       "                                                   'PTI', 'term',\n",
       "                                                   'inq_last_6mths', 'LTI']),\n",
       "                                                 ('subpipe_cate',\n",
       "                                                  Pipeline(steps=[('ohe',\n",
       "                                                                   OneHotEncoder(handle_unknown='ignore',\n",
       "                                                                                 sparse=False))]),\n",
       "                                                  ['grade', 'sub_grade',\n",
       "                                                   'home_ownership',\n",
       "                                                   'verification_status',\n",
       "                                                   'pymnt_plan', 'purpose',\n",
       "                                                   'addr_state',\n",
       "                                                   'initial_list_status',\n",
       "                                                   'application_type'])])),\n",
       "                ('classifier', LogisticRegression())])"
      ]
     },
     "execution_count": 68,
     "metadata": {},
     "output_type": "execute_result"
    }
   ],
   "source": [
    "LRG_clf = LogisticRegression()\n",
    "pipeline_LRG = Pipeline(steps=[\n",
    "    ('ct',CT),\n",
    "    ('classifier', LRG_clf)])\n",
    "\n",
    "pipeline_LRG.fit(X_train, y_train)"
   ]
  },
  {
   "cell_type": "code",
   "execution_count": 74,
   "metadata": {},
   "outputs": [
    {
     "data": {
      "text/plain": [
       "dict_keys(['memory', 'steps', 'verbose', 'ct', 'classifier', 'ct__n_jobs', 'ct__remainder', 'ct__sparse_threshold', 'ct__transformer_weights', 'ct__transformers', 'ct__verbose', 'ct__verbose_feature_names_out', 'ct__subpipe_num', 'ct__subpipe_cate', 'ct__subpipe_num__memory', 'ct__subpipe_num__steps', 'ct__subpipe_num__verbose', 'ct__subpipe_num__ss', 'ct__subpipe_num__ss__copy', 'ct__subpipe_num__ss__with_mean', 'ct__subpipe_num__ss__with_std', 'ct__subpipe_cate__memory', 'ct__subpipe_cate__steps', 'ct__subpipe_cate__verbose', 'ct__subpipe_cate__ohe', 'ct__subpipe_cate__ohe__categories', 'ct__subpipe_cate__ohe__drop', 'ct__subpipe_cate__ohe__dtype', 'ct__subpipe_cate__ohe__handle_unknown', 'ct__subpipe_cate__ohe__max_categories', 'ct__subpipe_cate__ohe__min_frequency', 'ct__subpipe_cate__ohe__sparse', 'ct__subpipe_cate__ohe__sparse_output', 'classifier__C', 'classifier__class_weight', 'classifier__dual', 'classifier__fit_intercept', 'classifier__intercept_scaling', 'classifier__l1_ratio', 'classifier__max_iter', 'classifier__multi_class', 'classifier__n_jobs', 'classifier__penalty', 'classifier__random_state', 'classifier__solver', 'classifier__tol', 'classifier__verbose', 'classifier__warm_start'])"
      ]
     },
     "execution_count": 74,
     "metadata": {},
     "output_type": "execute_result"
    }
   ],
   "source": [
    "pipeline_LRG.get_params().keys()"
   ]
  },
  {
   "cell_type": "code",
   "execution_count": 75,
   "metadata": {},
   "outputs": [],
   "source": [
    "parameters = {'classifier__solver' : ['newton-cg', 'lbfgs', 'liblinear'],\n",
    "              'classifier__penalty' : ['l1','l2'],\n",
    "              'classifier__C' : [100, 10, 1.0, 0.1, 0.01]}"
   ]
  },
  {
   "cell_type": "code",
   "execution_count": 76,
   "metadata": {},
   "outputs": [],
   "source": [
    "gs_logistic = GridSearchCV(\n",
    "    estimator=pipeline_LRG,\n",
    "    param_grid=parameters,\n",
    "    cv=5,\n",
    "    verbose=1\n",
    ")"
   ]
  },
  {
   "cell_type": "code",
   "execution_count": 78,
   "metadata": {},
   "outputs": [
    {
     "name": "stdout",
     "output_type": "stream",
     "text": [
      "Fitting 5 folds for each of 30 candidates, totalling 150 fits\n"
     ]
    },
    {
     "data": {
      "text/html": [
       "<style>#sk-container-id-4 {color: black;background-color: white;}#sk-container-id-4 pre{padding: 0;}#sk-container-id-4 div.sk-toggleable {background-color: white;}#sk-container-id-4 label.sk-toggleable__label {cursor: pointer;display: block;width: 100%;margin-bottom: 0;padding: 0.3em;box-sizing: border-box;text-align: center;}#sk-container-id-4 label.sk-toggleable__label-arrow:before {content: \"▸\";float: left;margin-right: 0.25em;color: #696969;}#sk-container-id-4 label.sk-toggleable__label-arrow:hover:before {color: black;}#sk-container-id-4 div.sk-estimator:hover label.sk-toggleable__label-arrow:before {color: black;}#sk-container-id-4 div.sk-toggleable__content {max-height: 0;max-width: 0;overflow: hidden;text-align: left;background-color: #f0f8ff;}#sk-container-id-4 div.sk-toggleable__content pre {margin: 0.2em;color: black;border-radius: 0.25em;background-color: #f0f8ff;}#sk-container-id-4 input.sk-toggleable__control:checked~div.sk-toggleable__content {max-height: 200px;max-width: 100%;overflow: auto;}#sk-container-id-4 input.sk-toggleable__control:checked~label.sk-toggleable__label-arrow:before {content: \"▾\";}#sk-container-id-4 div.sk-estimator input.sk-toggleable__control:checked~label.sk-toggleable__label {background-color: #d4ebff;}#sk-container-id-4 div.sk-label input.sk-toggleable__control:checked~label.sk-toggleable__label {background-color: #d4ebff;}#sk-container-id-4 input.sk-hidden--visually {border: 0;clip: rect(1px 1px 1px 1px);clip: rect(1px, 1px, 1px, 1px);height: 1px;margin: -1px;overflow: hidden;padding: 0;position: absolute;width: 1px;}#sk-container-id-4 div.sk-estimator {font-family: monospace;background-color: #f0f8ff;border: 1px dotted black;border-radius: 0.25em;box-sizing: border-box;margin-bottom: 0.5em;}#sk-container-id-4 div.sk-estimator:hover {background-color: #d4ebff;}#sk-container-id-4 div.sk-parallel-item::after {content: \"\";width: 100%;border-bottom: 1px solid gray;flex-grow: 1;}#sk-container-id-4 div.sk-label:hover label.sk-toggleable__label {background-color: #d4ebff;}#sk-container-id-4 div.sk-serial::before {content: \"\";position: absolute;border-left: 1px solid gray;box-sizing: border-box;top: 0;bottom: 0;left: 50%;z-index: 0;}#sk-container-id-4 div.sk-serial {display: flex;flex-direction: column;align-items: center;background-color: white;padding-right: 0.2em;padding-left: 0.2em;position: relative;}#sk-container-id-4 div.sk-item {position: relative;z-index: 1;}#sk-container-id-4 div.sk-parallel {display: flex;align-items: stretch;justify-content: center;background-color: white;position: relative;}#sk-container-id-4 div.sk-item::before, #sk-container-id-4 div.sk-parallel-item::before {content: \"\";position: absolute;border-left: 1px solid gray;box-sizing: border-box;top: 0;bottom: 0;left: 50%;z-index: -1;}#sk-container-id-4 div.sk-parallel-item {display: flex;flex-direction: column;z-index: 1;position: relative;background-color: white;}#sk-container-id-4 div.sk-parallel-item:first-child::after {align-self: flex-end;width: 50%;}#sk-container-id-4 div.sk-parallel-item:last-child::after {align-self: flex-start;width: 50%;}#sk-container-id-4 div.sk-parallel-item:only-child::after {width: 0;}#sk-container-id-4 div.sk-dashed-wrapped {border: 1px dashed gray;margin: 0 0.4em 0.5em 0.4em;box-sizing: border-box;padding-bottom: 0.4em;background-color: white;}#sk-container-id-4 div.sk-label label {font-family: monospace;font-weight: bold;display: inline-block;line-height: 1.2em;}#sk-container-id-4 div.sk-label-container {text-align: center;}#sk-container-id-4 div.sk-container {/* jupyter's `normalize.less` sets `[hidden] { display: none; }` but bootstrap.min.css set `[hidden] { display: none !important; }` so we also need the `!important` here to be able to override the default hidden behavior on the sphinx rendered scikit-learn.org. See: https://github.com/scikit-learn/scikit-learn/issues/21755 */display: inline-block !important;position: relative;}#sk-container-id-4 div.sk-text-repr-fallback {display: none;}</style><div id=\"sk-container-id-4\" class=\"sk-top-container\"><div class=\"sk-text-repr-fallback\"><pre>GridSearchCV(cv=5,\n",
       "             estimator=Pipeline(steps=[(&#x27;ct&#x27;,\n",
       "                                        ColumnTransformer(transformers=[(&#x27;subpipe_num&#x27;,\n",
       "                                                                         Pipeline(steps=[(&#x27;ss&#x27;,\n",
       "                                                                                          StandardScaler())]),\n",
       "                                                                         [&#x27;loan_amnt&#x27;,\n",
       "                                                                          &#x27;emp_length&#x27;,\n",
       "                                                                          &#x27;funded_amnt&#x27;,\n",
       "                                                                          &#x27;int_rate&#x27;,\n",
       "                                                                          &#x27;annual_inc&#x27;,\n",
       "                                                                          &#x27;dti&#x27;,\n",
       "                                                                          &#x27;open_acc&#x27;,\n",
       "                                                                          &#x27;pub_rec&#x27;,\n",
       "                                                                          &#x27;revol_bal&#x27;,\n",
       "                                                                          &#x27;revol_util&#x27;,\n",
       "                                                                          &#x27;total_acc&#x27;,\n",
       "                                                                          &#x27;Annual_Total_premium&#x27;,\n",
       "                                                                          &#x27;PTI&#x27;,\n",
       "                                                                          &#x27;term&#x27;,\n",
       "                                                                          &#x27;inq_last_6mths&#x27;,\n",
       "                                                                          &#x27;LTI&#x27;]),\n",
       "                                                                        (&#x27;subpipe_cate&#x27;,\n",
       "                                                                         Pipeli...\n",
       "                                                                                          OneHotEncoder(handle_unknown=&#x27;ignore&#x27;,\n",
       "                                                                                                        sparse=False))]),\n",
       "                                                                         [&#x27;grade&#x27;,\n",
       "                                                                          &#x27;sub_grade&#x27;,\n",
       "                                                                          &#x27;home_ownership&#x27;,\n",
       "                                                                          &#x27;verification_status&#x27;,\n",
       "                                                                          &#x27;pymnt_plan&#x27;,\n",
       "                                                                          &#x27;purpose&#x27;,\n",
       "                                                                          &#x27;addr_state&#x27;,\n",
       "                                                                          &#x27;initial_list_status&#x27;,\n",
       "                                                                          &#x27;application_type&#x27;])])),\n",
       "                                       (&#x27;classifier&#x27;, LogisticRegression())]),\n",
       "             param_grid={&#x27;classifier__C&#x27;: [100, 10, 1.0, 0.1, 0.01],\n",
       "                         &#x27;classifier__penalty&#x27;: [&#x27;l1&#x27;, &#x27;l2&#x27;],\n",
       "                         &#x27;classifier__solver&#x27;: [&#x27;newton-cg&#x27;, &#x27;lbfgs&#x27;,\n",
       "                                                &#x27;liblinear&#x27;]},\n",
       "             verbose=1)</pre><b>In a Jupyter environment, please rerun this cell to show the HTML representation or trust the notebook. <br />On GitHub, the HTML representation is unable to render, please try loading this page with nbviewer.org.</b></div><div class=\"sk-container\" hidden><div class=\"sk-item sk-dashed-wrapped\"><div class=\"sk-label-container\"><div class=\"sk-label sk-toggleable\"><input class=\"sk-toggleable__control sk-hidden--visually\" id=\"sk-estimator-id-22\" type=\"checkbox\" ><label for=\"sk-estimator-id-22\" class=\"sk-toggleable__label sk-toggleable__label-arrow\">GridSearchCV</label><div class=\"sk-toggleable__content\"><pre>GridSearchCV(cv=5,\n",
       "             estimator=Pipeline(steps=[(&#x27;ct&#x27;,\n",
       "                                        ColumnTransformer(transformers=[(&#x27;subpipe_num&#x27;,\n",
       "                                                                         Pipeline(steps=[(&#x27;ss&#x27;,\n",
       "                                                                                          StandardScaler())]),\n",
       "                                                                         [&#x27;loan_amnt&#x27;,\n",
       "                                                                          &#x27;emp_length&#x27;,\n",
       "                                                                          &#x27;funded_amnt&#x27;,\n",
       "                                                                          &#x27;int_rate&#x27;,\n",
       "                                                                          &#x27;annual_inc&#x27;,\n",
       "                                                                          &#x27;dti&#x27;,\n",
       "                                                                          &#x27;open_acc&#x27;,\n",
       "                                                                          &#x27;pub_rec&#x27;,\n",
       "                                                                          &#x27;revol_bal&#x27;,\n",
       "                                                                          &#x27;revol_util&#x27;,\n",
       "                                                                          &#x27;total_acc&#x27;,\n",
       "                                                                          &#x27;Annual_Total_premium&#x27;,\n",
       "                                                                          &#x27;PTI&#x27;,\n",
       "                                                                          &#x27;term&#x27;,\n",
       "                                                                          &#x27;inq_last_6mths&#x27;,\n",
       "                                                                          &#x27;LTI&#x27;]),\n",
       "                                                                        (&#x27;subpipe_cate&#x27;,\n",
       "                                                                         Pipeli...\n",
       "                                                                                          OneHotEncoder(handle_unknown=&#x27;ignore&#x27;,\n",
       "                                                                                                        sparse=False))]),\n",
       "                                                                         [&#x27;grade&#x27;,\n",
       "                                                                          &#x27;sub_grade&#x27;,\n",
       "                                                                          &#x27;home_ownership&#x27;,\n",
       "                                                                          &#x27;verification_status&#x27;,\n",
       "                                                                          &#x27;pymnt_plan&#x27;,\n",
       "                                                                          &#x27;purpose&#x27;,\n",
       "                                                                          &#x27;addr_state&#x27;,\n",
       "                                                                          &#x27;initial_list_status&#x27;,\n",
       "                                                                          &#x27;application_type&#x27;])])),\n",
       "                                       (&#x27;classifier&#x27;, LogisticRegression())]),\n",
       "             param_grid={&#x27;classifier__C&#x27;: [100, 10, 1.0, 0.1, 0.01],\n",
       "                         &#x27;classifier__penalty&#x27;: [&#x27;l1&#x27;, &#x27;l2&#x27;],\n",
       "                         &#x27;classifier__solver&#x27;: [&#x27;newton-cg&#x27;, &#x27;lbfgs&#x27;,\n",
       "                                                &#x27;liblinear&#x27;]},\n",
       "             verbose=1)</pre></div></div></div><div class=\"sk-parallel\"><div class=\"sk-parallel-item\"><div class=\"sk-item\"><div class=\"sk-label-container\"><div class=\"sk-label sk-toggleable\"><input class=\"sk-toggleable__control sk-hidden--visually\" id=\"sk-estimator-id-23\" type=\"checkbox\" ><label for=\"sk-estimator-id-23\" class=\"sk-toggleable__label sk-toggleable__label-arrow\">estimator: Pipeline</label><div class=\"sk-toggleable__content\"><pre>Pipeline(steps=[(&#x27;ct&#x27;,\n",
       "                 ColumnTransformer(transformers=[(&#x27;subpipe_num&#x27;,\n",
       "                                                  Pipeline(steps=[(&#x27;ss&#x27;,\n",
       "                                                                   StandardScaler())]),\n",
       "                                                  [&#x27;loan_amnt&#x27;, &#x27;emp_length&#x27;,\n",
       "                                                   &#x27;funded_amnt&#x27;, &#x27;int_rate&#x27;,\n",
       "                                                   &#x27;annual_inc&#x27;, &#x27;dti&#x27;,\n",
       "                                                   &#x27;open_acc&#x27;, &#x27;pub_rec&#x27;,\n",
       "                                                   &#x27;revol_bal&#x27;, &#x27;revol_util&#x27;,\n",
       "                                                   &#x27;total_acc&#x27;,\n",
       "                                                   &#x27;Annual_Total_premium&#x27;,\n",
       "                                                   &#x27;PTI&#x27;, &#x27;term&#x27;,\n",
       "                                                   &#x27;inq_last_6mths&#x27;, &#x27;LTI&#x27;]),\n",
       "                                                 (&#x27;subpipe_cate&#x27;,\n",
       "                                                  Pipeline(steps=[(&#x27;ohe&#x27;,\n",
       "                                                                   OneHotEncoder(handle_unknown=&#x27;ignore&#x27;,\n",
       "                                                                                 sparse=False))]),\n",
       "                                                  [&#x27;grade&#x27;, &#x27;sub_grade&#x27;,\n",
       "                                                   &#x27;home_ownership&#x27;,\n",
       "                                                   &#x27;verification_status&#x27;,\n",
       "                                                   &#x27;pymnt_plan&#x27;, &#x27;purpose&#x27;,\n",
       "                                                   &#x27;addr_state&#x27;,\n",
       "                                                   &#x27;initial_list_status&#x27;,\n",
       "                                                   &#x27;application_type&#x27;])])),\n",
       "                (&#x27;classifier&#x27;, LogisticRegression())])</pre></div></div></div><div class=\"sk-serial\"><div class=\"sk-item\"><div class=\"sk-serial\"><div class=\"sk-item sk-dashed-wrapped\"><div class=\"sk-label-container\"><div class=\"sk-label sk-toggleable\"><input class=\"sk-toggleable__control sk-hidden--visually\" id=\"sk-estimator-id-24\" type=\"checkbox\" ><label for=\"sk-estimator-id-24\" class=\"sk-toggleable__label sk-toggleable__label-arrow\">ct: ColumnTransformer</label><div class=\"sk-toggleable__content\"><pre>ColumnTransformer(transformers=[(&#x27;subpipe_num&#x27;,\n",
       "                                 Pipeline(steps=[(&#x27;ss&#x27;, StandardScaler())]),\n",
       "                                 [&#x27;loan_amnt&#x27;, &#x27;emp_length&#x27;, &#x27;funded_amnt&#x27;,\n",
       "                                  &#x27;int_rate&#x27;, &#x27;annual_inc&#x27;, &#x27;dti&#x27;, &#x27;open_acc&#x27;,\n",
       "                                  &#x27;pub_rec&#x27;, &#x27;revol_bal&#x27;, &#x27;revol_util&#x27;,\n",
       "                                  &#x27;total_acc&#x27;, &#x27;Annual_Total_premium&#x27;, &#x27;PTI&#x27;,\n",
       "                                  &#x27;term&#x27;, &#x27;inq_last_6mths&#x27;, &#x27;LTI&#x27;]),\n",
       "                                (&#x27;subpipe_cate&#x27;,\n",
       "                                 Pipeline(steps=[(&#x27;ohe&#x27;,\n",
       "                                                  OneHotEncoder(handle_unknown=&#x27;ignore&#x27;,\n",
       "                                                                sparse=False))]),\n",
       "                                 [&#x27;grade&#x27;, &#x27;sub_grade&#x27;, &#x27;home_ownership&#x27;,\n",
       "                                  &#x27;verification_status&#x27;, &#x27;pymnt_plan&#x27;,\n",
       "                                  &#x27;purpose&#x27;, &#x27;addr_state&#x27;,\n",
       "                                  &#x27;initial_list_status&#x27;, &#x27;application_type&#x27;])])</pre></div></div></div><div class=\"sk-parallel\"><div class=\"sk-parallel-item\"><div class=\"sk-item\"><div class=\"sk-label-container\"><div class=\"sk-label sk-toggleable\"><input class=\"sk-toggleable__control sk-hidden--visually\" id=\"sk-estimator-id-25\" type=\"checkbox\" ><label for=\"sk-estimator-id-25\" class=\"sk-toggleable__label sk-toggleable__label-arrow\">subpipe_num</label><div class=\"sk-toggleable__content\"><pre>[&#x27;loan_amnt&#x27;, &#x27;emp_length&#x27;, &#x27;funded_amnt&#x27;, &#x27;int_rate&#x27;, &#x27;annual_inc&#x27;, &#x27;dti&#x27;, &#x27;open_acc&#x27;, &#x27;pub_rec&#x27;, &#x27;revol_bal&#x27;, &#x27;revol_util&#x27;, &#x27;total_acc&#x27;, &#x27;Annual_Total_premium&#x27;, &#x27;PTI&#x27;, &#x27;term&#x27;, &#x27;inq_last_6mths&#x27;, &#x27;LTI&#x27;]</pre></div></div></div><div class=\"sk-serial\"><div class=\"sk-item\"><div class=\"sk-serial\"><div class=\"sk-item\"><div class=\"sk-estimator sk-toggleable\"><input class=\"sk-toggleable__control sk-hidden--visually\" id=\"sk-estimator-id-26\" type=\"checkbox\" ><label for=\"sk-estimator-id-26\" class=\"sk-toggleable__label sk-toggleable__label-arrow\">StandardScaler</label><div class=\"sk-toggleable__content\"><pre>StandardScaler()</pre></div></div></div></div></div></div></div></div><div class=\"sk-parallel-item\"><div class=\"sk-item\"><div class=\"sk-label-container\"><div class=\"sk-label sk-toggleable\"><input class=\"sk-toggleable__control sk-hidden--visually\" id=\"sk-estimator-id-27\" type=\"checkbox\" ><label for=\"sk-estimator-id-27\" class=\"sk-toggleable__label sk-toggleable__label-arrow\">subpipe_cate</label><div class=\"sk-toggleable__content\"><pre>[&#x27;grade&#x27;, &#x27;sub_grade&#x27;, &#x27;home_ownership&#x27;, &#x27;verification_status&#x27;, &#x27;pymnt_plan&#x27;, &#x27;purpose&#x27;, &#x27;addr_state&#x27;, &#x27;initial_list_status&#x27;, &#x27;application_type&#x27;]</pre></div></div></div><div class=\"sk-serial\"><div class=\"sk-item\"><div class=\"sk-serial\"><div class=\"sk-item\"><div class=\"sk-estimator sk-toggleable\"><input class=\"sk-toggleable__control sk-hidden--visually\" id=\"sk-estimator-id-28\" type=\"checkbox\" ><label for=\"sk-estimator-id-28\" class=\"sk-toggleable__label sk-toggleable__label-arrow\">OneHotEncoder</label><div class=\"sk-toggleable__content\"><pre>OneHotEncoder(handle_unknown=&#x27;ignore&#x27;, sparse=False)</pre></div></div></div></div></div></div></div></div></div></div><div class=\"sk-item\"><div class=\"sk-estimator sk-toggleable\"><input class=\"sk-toggleable__control sk-hidden--visually\" id=\"sk-estimator-id-29\" type=\"checkbox\" ><label for=\"sk-estimator-id-29\" class=\"sk-toggleable__label sk-toggleable__label-arrow\">LogisticRegression</label><div class=\"sk-toggleable__content\"><pre>LogisticRegression()</pre></div></div></div></div></div></div></div></div></div></div></div></div>"
      ],
      "text/plain": [
       "GridSearchCV(cv=5,\n",
       "             estimator=Pipeline(steps=[('ct',\n",
       "                                        ColumnTransformer(transformers=[('subpipe_num',\n",
       "                                                                         Pipeline(steps=[('ss',\n",
       "                                                                                          StandardScaler())]),\n",
       "                                                                         ['loan_amnt',\n",
       "                                                                          'emp_length',\n",
       "                                                                          'funded_amnt',\n",
       "                                                                          'int_rate',\n",
       "                                                                          'annual_inc',\n",
       "                                                                          'dti',\n",
       "                                                                          'open_acc',\n",
       "                                                                          'pub_rec',\n",
       "                                                                          'revol_bal',\n",
       "                                                                          'revol_util',\n",
       "                                                                          'total_acc',\n",
       "                                                                          'Annual_Total_premium',\n",
       "                                                                          'PTI',\n",
       "                                                                          'term',\n",
       "                                                                          'inq_last_6mths',\n",
       "                                                                          'LTI']),\n",
       "                                                                        ('subpipe_cate',\n",
       "                                                                         Pipeli...\n",
       "                                                                                          OneHotEncoder(handle_unknown='ignore',\n",
       "                                                                                                        sparse=False))]),\n",
       "                                                                         ['grade',\n",
       "                                                                          'sub_grade',\n",
       "                                                                          'home_ownership',\n",
       "                                                                          'verification_status',\n",
       "                                                                          'pymnt_plan',\n",
       "                                                                          'purpose',\n",
       "                                                                          'addr_state',\n",
       "                                                                          'initial_list_status',\n",
       "                                                                          'application_type'])])),\n",
       "                                       ('classifier', LogisticRegression())]),\n",
       "             param_grid={'classifier__C': [100, 10, 1.0, 0.1, 0.01],\n",
       "                         'classifier__penalty': ['l1', 'l2'],\n",
       "                         'classifier__solver': ['newton-cg', 'lbfgs',\n",
       "                                                'liblinear']},\n",
       "             verbose=1)"
      ]
     },
     "execution_count": 78,
     "metadata": {},
     "output_type": "execute_result"
    }
   ],
   "source": [
    "gs_logistic.fit(X_train,y_train)"
   ]
  },
  {
   "cell_type": "code",
   "execution_count": 79,
   "metadata": {},
   "outputs": [
    {
     "data": {
      "text/plain": [
       "{'classifier__C': 10,\n",
       " 'classifier__penalty': 'l2',\n",
       " 'classifier__solver': 'liblinear'}"
      ]
     },
     "execution_count": 79,
     "metadata": {},
     "output_type": "execute_result"
    }
   ],
   "source": [
    "gs_logistic.best_params_"
   ]
  },
  {
   "cell_type": "code",
   "execution_count": 86,
   "metadata": {},
   "outputs": [],
   "source": [
    "gs_logistic_best=gs_logistic.best_estimator_"
   ]
  },
  {
   "cell_type": "code",
   "execution_count": 87,
   "metadata": {},
   "outputs": [
    {
     "name": "stdout",
     "output_type": "stream",
     "text": [
      "below are the model evaluation statistics of Pipeline(steps=[('ct',\n",
      "                 ColumnTransformer(transformers=[('subpipe_num',\n",
      "                                                  Pipeline(steps=[('ss',\n",
      "                                                                   StandardScaler())]),\n",
      "                                                  ['loan_amnt', 'emp_length',\n",
      "                                                   'funded_amnt', 'int_rate',\n",
      "                                                   'annual_inc', 'dti',\n",
      "                                                   'open_acc', 'pub_rec',\n",
      "                                                   'revol_bal', 'revol_util',\n",
      "                                                   'total_acc',\n",
      "                                                   'Annual_Total_premium',\n",
      "                                                   'PTI', 'term',\n",
      "                                                   'inq_last_6mths', 'LTI']),\n",
      "                                                 ('subpipe_cate',\n",
      "                                                  Pipeline(steps=[('ohe',\n",
      "                                                                   OneHotEncoder(handle_unknown='ignore',\n",
      "                                                                                 sparse=False))]),\n",
      "                                                  ['grade', 'sub_grade',\n",
      "                                                   'home_ownership',\n",
      "                                                   'verification_status',\n",
      "                                                   'pymnt_plan', 'purpose',\n",
      "                                                   'addr_state',\n",
      "                                                   'initial_list_status',\n",
      "                                                   'application_type'])])),\n",
      "                ('classifier', LogisticRegression(C=10, solver='liblinear'))])\n",
      " train_score : 0.784\n",
      " test_score : 0.7867\n",
      " log loss on training dataset : 0.466\n",
      " log loss on test dataset : 0.4617\n",
      "CrossValidation on training dataset : 0.3755525824357896\n",
      "classification_report\n",
      "              precision    recall  f1-score   support\n",
      "\n",
      "           0       0.81      0.94      0.87     95692\n",
      "           1       0.60      0.27      0.38     29511\n",
      "\n",
      "    accuracy                           0.79    125203\n",
      "   macro avg       0.71      0.61      0.62    125203\n",
      "weighted avg       0.76      0.79      0.75    125203\n",
      "\n"
     ]
    },
    {
     "data": {
      "image/png": "[encoded data removed]",
      "text/plain": [
       "<Figure size 432x288 with 2 Axes>"
      ]
     },
     "metadata": {
      "needs_background": "light"
     },
     "output_type": "display_data"
    },
    {
     "data": {
      "image/png": "[encoded data removed]",
      "text/plain": [
       "<Figure size 432x288 with 1 Axes>"
      ]
     },
     "metadata": {
      "needs_background": "light"
     },
     "output_type": "display_data"
    }
   ],
   "source": [
    "model_eff(gs_logistic_best)"
   ]
  },
  {
   "cell_type": "markdown",
   "metadata": {},
   "source": [
    "### Logistic Regression with Polinomial Features"
   ]
  },
  {
   "cell_type": "code",
   "execution_count": 101,
   "metadata": {
    "scrolled": true
   },
   "outputs": [
    {
     "name": "stdout",
     "output_type": "stream",
     "text": [
      "below are the model evaluation statistics of Pipeline(steps=[('ct',\n",
      "                 ColumnTransformer(transformers=[('subpipe_num',\n",
      "                                                  Pipeline(steps=[('poly',\n",
      "                                                                   PolynomialFeatures()),\n",
      "                                                                  ('ss',\n",
      "                                                                   StandardScaler())]),\n",
      "                                                  ['loan_amnt', 'emp_length',\n",
      "                                                   'funded_amnt', 'int_rate',\n",
      "                                                   'annual_inc', 'dti',\n",
      "                                                   'open_acc', 'pub_rec',\n",
      "                                                   'revol_bal', 'revol_util',\n",
      "                                                   'total_acc',\n",
      "                                                   'Annual_Total_premium',\n",
      "                                                   'PTI', 'term',\n",
      "                                                   'inq_last_6mths', 'LTI']),\n",
      "                                                 ('subpipe_cate',\n",
      "                                                  Pipeline(steps=[('ohe',\n",
      "                                                                   OneHotEncoder(handle_unknown='ignore',\n",
      "                                                                                 sparse=False))]),\n",
      "                                                  ['grade', 'sub_grade',\n",
      "                                                   'home_ownership',\n",
      "                                                   'verification_status',\n",
      "                                                   'pymnt_plan', 'purpose',\n",
      "                                                   'addr_state',\n",
      "                                                   'initial_list_status',\n",
      "                                                   'application_type'])])),\n",
      "                ('model', LogisticRegression())])\n",
      " train_score : 0.7909\n",
      " test_score : 0.794\n",
      " log loss on training dataset : 0.4511\n",
      " log loss on test dataset : 0.4471\n",
      "CrossValidation on training dataset : 0.4240347900536426\n",
      "classification_report\n",
      "              precision    recall  f1-score   support\n",
      "\n",
      "           0       0.82      0.94      0.87     95692\n",
      "           1       0.62      0.32      0.42     29511\n",
      "\n",
      "    accuracy                           0.79    125203\n",
      "   macro avg       0.72      0.63      0.65    125203\n",
      "weighted avg       0.77      0.79      0.77    125203\n",
      "\n"
     ]
    },
    {
     "data": {
      "image/png": "[encoded data removed]",
      "text/plain": [
       "<Figure size 432x288 with 2 Axes>"
      ]
     },
     "metadata": {
      "needs_background": "light"
     },
     "output_type": "display_data"
    },
    {
     "data": {
      "image/png": "[encoded data removed]",
      "text/plain": [
       "<Figure size 432x288 with 1 Axes>"
      ]
     },
     "metadata": {
      "needs_background": "light"
     },
     "output_type": "display_data"
    }
   ],
   "source": [
    "model_eval(LogisticRegression(),CT=CT_poly)"
   ]
  },
  {
   "cell_type": "markdown",
   "metadata": {},
   "source": [
    "### Polinomial features with Logistic Regression Grid Search"
   ]
  },
  {
   "cell_type": "code",
   "execution_count": 102,
   "metadata": {},
   "outputs": [
    {
     "data": {
      "text/html": [
       "<style>#sk-container-id-7 {color: black;background-color: white;}#sk-container-id-7 pre{padding: 0;}#sk-container-id-7 div.sk-toggleable {background-color: white;}#sk-container-id-7 label.sk-toggleable__label {cursor: pointer;display: block;width: 100%;margin-bottom: 0;padding: 0.3em;box-sizing: border-box;text-align: center;}#sk-container-id-7 label.sk-toggleable__label-arrow:before {content: \"▸\";float: left;margin-right: 0.25em;color: #696969;}#sk-container-id-7 label.sk-toggleable__label-arrow:hover:before {color: black;}#sk-container-id-7 div.sk-estimator:hover label.sk-toggleable__label-arrow:before {color: black;}#sk-container-id-7 div.sk-toggleable__content {max-height: 0;max-width: 0;overflow: hidden;text-align: left;background-color: #f0f8ff;}#sk-container-id-7 div.sk-toggleable__content pre {margin: 0.2em;color: black;border-radius: 0.25em;background-color: #f0f8ff;}#sk-container-id-7 input.sk-toggleable__control:checked~div.sk-toggleable__content {max-height: 200px;max-width: 100%;overflow: auto;}#sk-container-id-7 input.sk-toggleable__control:checked~label.sk-toggleable__label-arrow:before {content: \"▾\";}#sk-container-id-7 div.sk-estimator input.sk-toggleable__control:checked~label.sk-toggleable__label {background-color: #d4ebff;}#sk-container-id-7 div.sk-label input.sk-toggleable__control:checked~label.sk-toggleable__label {background-color: #d4ebff;}#sk-container-id-7 input.sk-hidden--visually {border: 0;clip: rect(1px 1px 1px 1px);clip: rect(1px, 1px, 1px, 1px);height: 1px;margin: -1px;overflow: hidden;padding: 0;position: absolute;width: 1px;}#sk-container-id-7 div.sk-estimator {font-family: monospace;background-color: #f0f8ff;border: 1px dotted black;border-radius: 0.25em;box-sizing: border-box;margin-bottom: 0.5em;}#sk-container-id-7 div.sk-estimator:hover {background-color: #d4ebff;}#sk-container-id-7 div.sk-parallel-item::after {content: \"\";width: 100%;border-bottom: 1px solid gray;flex-grow: 1;}#sk-container-id-7 div.sk-label:hover label.sk-toggleable__label {background-color: #d4ebff;}#sk-container-id-7 div.sk-serial::before {content: \"\";position: absolute;border-left: 1px solid gray;box-sizing: border-box;top: 0;bottom: 0;left: 50%;z-index: 0;}#sk-container-id-7 div.sk-serial {display: flex;flex-direction: column;align-items: center;background-color: white;padding-right: 0.2em;padding-left: 0.2em;position: relative;}#sk-container-id-7 div.sk-item {position: relative;z-index: 1;}#sk-container-id-7 div.sk-parallel {display: flex;align-items: stretch;justify-content: center;background-color: white;position: relative;}#sk-container-id-7 div.sk-item::before, #sk-container-id-7 div.sk-parallel-item::before {content: \"\";position: absolute;border-left: 1px solid gray;box-sizing: border-box;top: 0;bottom: 0;left: 50%;z-index: -1;}#sk-container-id-7 div.sk-parallel-item {display: flex;flex-direction: column;z-index: 1;position: relative;background-color: white;}#sk-container-id-7 div.sk-parallel-item:first-child::after {align-self: flex-end;width: 50%;}#sk-container-id-7 div.sk-parallel-item:last-child::after {align-self: flex-start;width: 50%;}#sk-container-id-7 div.sk-parallel-item:only-child::after {width: 0;}#sk-container-id-7 div.sk-dashed-wrapped {border: 1px dashed gray;margin: 0 0.4em 0.5em 0.4em;box-sizing: border-box;padding-bottom: 0.4em;background-color: white;}#sk-container-id-7 div.sk-label label {font-family: monospace;font-weight: bold;display: inline-block;line-height: 1.2em;}#sk-container-id-7 div.sk-label-container {text-align: center;}#sk-container-id-7 div.sk-container {/* jupyter's `normalize.less` sets `[hidden] { display: none; }` but bootstrap.min.css set `[hidden] { display: none !important; }` so we also need the `!important` here to be able to override the default hidden behavior on the sphinx rendered scikit-learn.org. See: https://github.com/scikit-learn/scikit-learn/issues/21755 */display: inline-block !important;position: relative;}#sk-container-id-7 div.sk-text-repr-fallback {display: none;}</style><div id=\"sk-container-id-7\" class=\"sk-top-container\"><div class=\"sk-text-repr-fallback\"><pre>Pipeline(steps=[(&#x27;ct&#x27;,\n",
       "                 ColumnTransformer(transformers=[(&#x27;subpipe_num&#x27;,\n",
       "                                                  Pipeline(steps=[(&#x27;poly&#x27;,\n",
       "                                                                   PolynomialFeatures()),\n",
       "                                                                  (&#x27;ss&#x27;,\n",
       "                                                                   StandardScaler())]),\n",
       "                                                  [&#x27;loan_amnt&#x27;, &#x27;emp_length&#x27;,\n",
       "                                                   &#x27;funded_amnt&#x27;, &#x27;int_rate&#x27;,\n",
       "                                                   &#x27;annual_inc&#x27;, &#x27;dti&#x27;,\n",
       "                                                   &#x27;open_acc&#x27;, &#x27;pub_rec&#x27;,\n",
       "                                                   &#x27;revol_bal&#x27;, &#x27;revol_util&#x27;,\n",
       "                                                   &#x27;total_acc&#x27;,\n",
       "                                                   &#x27;Annual_Total_premium&#x27;,\n",
       "                                                   &#x27;PTI&#x27;, &#x27;term&#x27;,\n",
       "                                                   &#x27;inq_last_6mths&#x27;, &#x27;LTI&#x27;]),\n",
       "                                                 (&#x27;subpipe_cate&#x27;,\n",
       "                                                  Pipeline(steps=[(&#x27;ohe&#x27;,\n",
       "                                                                   OneHotEncoder(handle_unknown=&#x27;ignore&#x27;,\n",
       "                                                                                 sparse=False))]),\n",
       "                                                  [&#x27;grade&#x27;, &#x27;sub_grade&#x27;,\n",
       "                                                   &#x27;home_ownership&#x27;,\n",
       "                                                   &#x27;verification_status&#x27;,\n",
       "                                                   &#x27;pymnt_plan&#x27;, &#x27;purpose&#x27;,\n",
       "                                                   &#x27;addr_state&#x27;,\n",
       "                                                   &#x27;initial_list_status&#x27;,\n",
       "                                                   &#x27;application_type&#x27;])])),\n",
       "                (&#x27;polyclassifier&#x27;, LogisticRegression())])</pre><b>In a Jupyter environment, please rerun this cell to show the HTML representation or trust the notebook. <br />On GitHub, the HTML representation is unable to render, please try loading this page with nbviewer.org.</b></div><div class=\"sk-container\" hidden><div class=\"sk-item sk-dashed-wrapped\"><div class=\"sk-label-container\"><div class=\"sk-label sk-toggleable\"><input class=\"sk-toggleable__control sk-hidden--visually\" id=\"sk-estimator-id-46\" type=\"checkbox\" ><label for=\"sk-estimator-id-46\" class=\"sk-toggleable__label sk-toggleable__label-arrow\">Pipeline</label><div class=\"sk-toggleable__content\"><pre>Pipeline(steps=[(&#x27;ct&#x27;,\n",
       "                 ColumnTransformer(transformers=[(&#x27;subpipe_num&#x27;,\n",
       "                                                  Pipeline(steps=[(&#x27;poly&#x27;,\n",
       "                                                                   PolynomialFeatures()),\n",
       "                                                                  (&#x27;ss&#x27;,\n",
       "                                                                   StandardScaler())]),\n",
       "                                                  [&#x27;loan_amnt&#x27;, &#x27;emp_length&#x27;,\n",
       "                                                   &#x27;funded_amnt&#x27;, &#x27;int_rate&#x27;,\n",
       "                                                   &#x27;annual_inc&#x27;, &#x27;dti&#x27;,\n",
       "                                                   &#x27;open_acc&#x27;, &#x27;pub_rec&#x27;,\n",
       "                                                   &#x27;revol_bal&#x27;, &#x27;revol_util&#x27;,\n",
       "                                                   &#x27;total_acc&#x27;,\n",
       "                                                   &#x27;Annual_Total_premium&#x27;,\n",
       "                                                   &#x27;PTI&#x27;, &#x27;term&#x27;,\n",
       "                                                   &#x27;inq_last_6mths&#x27;, &#x27;LTI&#x27;]),\n",
       "                                                 (&#x27;subpipe_cate&#x27;,\n",
       "                                                  Pipeline(steps=[(&#x27;ohe&#x27;,\n",
       "                                                                   OneHotEncoder(handle_unknown=&#x27;ignore&#x27;,\n",
       "                                                                                 sparse=False))]),\n",
       "                                                  [&#x27;grade&#x27;, &#x27;sub_grade&#x27;,\n",
       "                                                   &#x27;home_ownership&#x27;,\n",
       "                                                   &#x27;verification_status&#x27;,\n",
       "                                                   &#x27;pymnt_plan&#x27;, &#x27;purpose&#x27;,\n",
       "                                                   &#x27;addr_state&#x27;,\n",
       "                                                   &#x27;initial_list_status&#x27;,\n",
       "                                                   &#x27;application_type&#x27;])])),\n",
       "                (&#x27;polyclassifier&#x27;, LogisticRegression())])</pre></div></div></div><div class=\"sk-serial\"><div class=\"sk-item sk-dashed-wrapped\"><div class=\"sk-label-container\"><div class=\"sk-label sk-toggleable\"><input class=\"sk-toggleable__control sk-hidden--visually\" id=\"sk-estimator-id-47\" type=\"checkbox\" ><label for=\"sk-estimator-id-47\" class=\"sk-toggleable__label sk-toggleable__label-arrow\">ct: ColumnTransformer</label><div class=\"sk-toggleable__content\"><pre>ColumnTransformer(transformers=[(&#x27;subpipe_num&#x27;,\n",
       "                                 Pipeline(steps=[(&#x27;poly&#x27;, PolynomialFeatures()),\n",
       "                                                 (&#x27;ss&#x27;, StandardScaler())]),\n",
       "                                 [&#x27;loan_amnt&#x27;, &#x27;emp_length&#x27;, &#x27;funded_amnt&#x27;,\n",
       "                                  &#x27;int_rate&#x27;, &#x27;annual_inc&#x27;, &#x27;dti&#x27;, &#x27;open_acc&#x27;,\n",
       "                                  &#x27;pub_rec&#x27;, &#x27;revol_bal&#x27;, &#x27;revol_util&#x27;,\n",
       "                                  &#x27;total_acc&#x27;, &#x27;Annual_Total_premium&#x27;, &#x27;PTI&#x27;,\n",
       "                                  &#x27;term&#x27;, &#x27;inq_last_6mths&#x27;, &#x27;LTI&#x27;]),\n",
       "                                (&#x27;subpipe_cate&#x27;,\n",
       "                                 Pipeline(steps=[(&#x27;ohe&#x27;,\n",
       "                                                  OneHotEncoder(handle_unknown=&#x27;ignore&#x27;,\n",
       "                                                                sparse=False))]),\n",
       "                                 [&#x27;grade&#x27;, &#x27;sub_grade&#x27;, &#x27;home_ownership&#x27;,\n",
       "                                  &#x27;verification_status&#x27;, &#x27;pymnt_plan&#x27;,\n",
       "                                  &#x27;purpose&#x27;, &#x27;addr_state&#x27;,\n",
       "                                  &#x27;initial_list_status&#x27;, &#x27;application_type&#x27;])])</pre></div></div></div><div class=\"sk-parallel\"><div class=\"sk-parallel-item\"><div class=\"sk-item\"><div class=\"sk-label-container\"><div class=\"sk-label sk-toggleable\"><input class=\"sk-toggleable__control sk-hidden--visually\" id=\"sk-estimator-id-48\" type=\"checkbox\" ><label for=\"sk-estimator-id-48\" class=\"sk-toggleable__label sk-toggleable__label-arrow\">subpipe_num</label><div class=\"sk-toggleable__content\"><pre>[&#x27;loan_amnt&#x27;, &#x27;emp_length&#x27;, &#x27;funded_amnt&#x27;, &#x27;int_rate&#x27;, &#x27;annual_inc&#x27;, &#x27;dti&#x27;, &#x27;open_acc&#x27;, &#x27;pub_rec&#x27;, &#x27;revol_bal&#x27;, &#x27;revol_util&#x27;, &#x27;total_acc&#x27;, &#x27;Annual_Total_premium&#x27;, &#x27;PTI&#x27;, &#x27;term&#x27;, &#x27;inq_last_6mths&#x27;, &#x27;LTI&#x27;]</pre></div></div></div><div class=\"sk-serial\"><div class=\"sk-item\"><div class=\"sk-serial\"><div class=\"sk-item\"><div class=\"sk-estimator sk-toggleable\"><input class=\"sk-toggleable__control sk-hidden--visually\" id=\"sk-estimator-id-49\" type=\"checkbox\" ><label for=\"sk-estimator-id-49\" class=\"sk-toggleable__label sk-toggleable__label-arrow\">PolynomialFeatures</label><div class=\"sk-toggleable__content\"><pre>PolynomialFeatures()</pre></div></div></div><div class=\"sk-item\"><div class=\"sk-estimator sk-toggleable\"><input class=\"sk-toggleable__control sk-hidden--visually\" id=\"sk-estimator-id-50\" type=\"checkbox\" ><label for=\"sk-estimator-id-50\" class=\"sk-toggleable__label sk-toggleable__label-arrow\">StandardScaler</label><div class=\"sk-toggleable__content\"><pre>StandardScaler()</pre></div></div></div></div></div></div></div></div><div class=\"sk-parallel-item\"><div class=\"sk-item\"><div class=\"sk-label-container\"><div class=\"sk-label sk-toggleable\"><input class=\"sk-toggleable__control sk-hidden--visually\" id=\"sk-estimator-id-51\" type=\"checkbox\" ><label for=\"sk-estimator-id-51\" class=\"sk-toggleable__label sk-toggleable__label-arrow\">subpipe_cate</label><div class=\"sk-toggleable__content\"><pre>[&#x27;grade&#x27;, &#x27;sub_grade&#x27;, &#x27;home_ownership&#x27;, &#x27;verification_status&#x27;, &#x27;pymnt_plan&#x27;, &#x27;purpose&#x27;, &#x27;addr_state&#x27;, &#x27;initial_list_status&#x27;, &#x27;application_type&#x27;]</pre></div></div></div><div class=\"sk-serial\"><div class=\"sk-item\"><div class=\"sk-serial\"><div class=\"sk-item\"><div class=\"sk-estimator sk-toggleable\"><input class=\"sk-toggleable__control sk-hidden--visually\" id=\"sk-estimator-id-52\" type=\"checkbox\" ><label for=\"sk-estimator-id-52\" class=\"sk-toggleable__label sk-toggleable__label-arrow\">OneHotEncoder</label><div class=\"sk-toggleable__content\"><pre>OneHotEncoder(handle_unknown=&#x27;ignore&#x27;, sparse=False)</pre></div></div></div></div></div></div></div></div></div></div><div class=\"sk-item\"><div class=\"sk-estimator sk-toggleable\"><input class=\"sk-toggleable__control sk-hidden--visually\" id=\"sk-estimator-id-53\" type=\"checkbox\" ><label for=\"sk-estimator-id-53\" class=\"sk-toggleable__label sk-toggleable__label-arrow\">LogisticRegression</label><div class=\"sk-toggleable__content\"><pre>LogisticRegression()</pre></div></div></div></div></div></div></div>"
      ],
      "text/plain": [
       "Pipeline(steps=[('ct',\n",
       "                 ColumnTransformer(transformers=[('subpipe_num',\n",
       "                                                  Pipeline(steps=[('poly',\n",
       "                                                                   PolynomialFeatures()),\n",
       "                                                                  ('ss',\n",
       "                                                                   StandardScaler())]),\n",
       "                                                  ['loan_amnt', 'emp_length',\n",
       "                                                   'funded_amnt', 'int_rate',\n",
       "                                                   'annual_inc', 'dti',\n",
       "                                                   'open_acc', 'pub_rec',\n",
       "                                                   'revol_bal', 'revol_util',\n",
       "                                                   'total_acc',\n",
       "                                                   'Annual_Total_premium',\n",
       "                                                   'PTI', 'term',\n",
       "                                                   'inq_last_6mths', 'LTI']),\n",
       "                                                 ('subpipe_cate',\n",
       "                                                  Pipeline(steps=[('ohe',\n",
       "                                                                   OneHotEncoder(handle_unknown='ignore',\n",
       "                                                                                 sparse=False))]),\n",
       "                                                  ['grade', 'sub_grade',\n",
       "                                                   'home_ownership',\n",
       "                                                   'verification_status',\n",
       "                                                   'pymnt_plan', 'purpose',\n",
       "                                                   'addr_state',\n",
       "                                                   'initial_list_status',\n",
       "                                                   'application_type'])])),\n",
       "                ('polyclassifier', LogisticRegression())])"
      ]
     },
     "execution_count": 102,
     "metadata": {},
     "output_type": "execute_result"
    }
   ],
   "source": [
    "LRGPoly_clf = LogisticRegression()\n",
    "pipeline_LRGPoly = Pipeline(steps=[\n",
    "    ('ct',CT_poly),\n",
    "    ('polyclassifier', LRGPoly_clf)])\n",
    "\n",
    "pipeline_LRGPoly.fit(X_train, y_train)"
   ]
  },
  {
   "cell_type": "code",
   "execution_count": 103,
   "metadata": {},
   "outputs": [
    {
     "data": {
      "text/plain": [
       "dict_keys(['memory', 'steps', 'verbose', 'ct', 'polyclassifier', 'ct__n_jobs', 'ct__remainder', 'ct__sparse_threshold', 'ct__transformer_weights', 'ct__transformers', 'ct__verbose', 'ct__verbose_feature_names_out', 'ct__subpipe_num', 'ct__subpipe_cate', 'ct__subpipe_num__memory', 'ct__subpipe_num__steps', 'ct__subpipe_num__verbose', 'ct__subpipe_num__poly', 'ct__subpipe_num__ss', 'ct__subpipe_num__poly__degree', 'ct__subpipe_num__poly__include_bias', 'ct__subpipe_num__poly__interaction_only', 'ct__subpipe_num__poly__order', 'ct__subpipe_num__ss__copy', 'ct__subpipe_num__ss__with_mean', 'ct__subpipe_num__ss__with_std', 'ct__subpipe_cate__memory', 'ct__subpipe_cate__steps', 'ct__subpipe_cate__verbose', 'ct__subpipe_cate__ohe', 'ct__subpipe_cate__ohe__categories', 'ct__subpipe_cate__ohe__drop', 'ct__subpipe_cate__ohe__dtype', 'ct__subpipe_cate__ohe__handle_unknown', 'ct__subpipe_cate__ohe__max_categories', 'ct__subpipe_cate__ohe__min_frequency', 'ct__subpipe_cate__ohe__sparse', 'ct__subpipe_cate__ohe__sparse_output', 'polyclassifier__C', 'polyclassifier__class_weight', 'polyclassifier__dual', 'polyclassifier__fit_intercept', 'polyclassifier__intercept_scaling', 'polyclassifier__l1_ratio', 'polyclassifier__max_iter', 'polyclassifier__multi_class', 'polyclassifier__n_jobs', 'polyclassifier__penalty', 'polyclassifier__random_state', 'polyclassifier__solver', 'polyclassifier__tol', 'polyclassifier__verbose', 'polyclassifier__warm_start'])"
      ]
     },
     "execution_count": 103,
     "metadata": {},
     "output_type": "execute_result"
    }
   ],
   "source": [
    "pipeline_LRGPoly.get_params().keys()"
   ]
  },
  {
   "cell_type": "code",
   "execution_count": 105,
   "metadata": {},
   "outputs": [],
   "source": [
    "parameters = {'ct__subpipe_num__poly__degree':[1,2,3],\n",
    "              'polyclassifier__solver':['liblinear','lbfgs'],\n",
    "              'polyclassifier__max_iter':[10,100,500],\n",
    "              'polyclassifier__C':[0.01,0.1,1],\n",
    "              'polyclassifier__tol':[0.001,0.01,0.1] }"
   ]
  },
  {
   "cell_type": "code",
   "execution_count": 106,
   "metadata": {},
   "outputs": [],
   "source": [
    "gs_logisticPoly = GridSearchCV(\n",
    "    estimator=pipeline_LRGPoly,\n",
    "    param_grid=parameters,\n",
    "    cv=5,\n",
    "    verbose=1\n",
    ")"
   ]
  },
  {
   "cell_type": "code",
   "execution_count": null,
   "metadata": {},
   "outputs": [
    {
     "name": "stdout",
     "output_type": "stream",
     "text": [
      "Fitting 5 folds for each of 162 candidates, totalling 810 fits\n"
     ]
    }
   ],
   "source": [
    "gs_logisticPoly.fit(X_train,y_train)"
   ]
  },
  {
   "cell_type": "code",
   "execution_count": null,
   "metadata": {},
   "outputs": [],
   "source": []
  },
  {
   "cell_type": "code",
   "execution_count": 54,
   "metadata": {
    "scrolled": true
   },
   "outputs": [
    {
     "name": "stdout",
     "output_type": "stream",
     "text": [
      "below are the model evaluation statistics of Pipeline(steps=[('ct',\n",
      "                 ColumnTransformer(transformers=[('subpipe_num',\n",
      "                                                  Pipeline(steps=[('ss',\n",
      "                                                                   StandardScaler())]),\n",
      "                                                  ['loan_amnt', 'emp_length',\n",
      "                                                   'funded_amnt', 'int_rate',\n",
      "                                                   'annual_inc', 'dti',\n",
      "                                                   'open_acc', 'pub_rec',\n",
      "                                                   'revol_bal', 'revol_util',\n",
      "                                                   'total_acc',\n",
      "                                                   'Annual_Total_premium',\n",
      "                                                   'PTI', 'term',\n",
      "                                                   'inq_last_6mths', 'LTI']),\n",
      "                                                 ('subpipe_cate',\n",
      "                                                  Pipeline(steps=[('ohe',\n",
      "                                                                   OneHotEncoder(handle_unknown='ignore',\n",
      "                                                                                 sparse=False))]),\n",
      "                                                  ['grade', 'sub_grade',\n",
      "                                                   'home_ownership',\n",
      "                                                   'verification_status',\n",
      "                                                   'pymnt_plan', 'purpose',\n",
      "                                                   'addr_state',\n",
      "                                                   'initial_list_status',\n",
      "                                                   'application_type'])])),\n",
      "                ('model', RandomForestClassifier(max_depth=3))])\n",
      " train_score : 0.7611\n",
      " test_score : 0.7643\n",
      " log loss on training dataset : 0.5212\n",
      " log loss on test dataset : 0.5172\n",
      "CrossValidation on training dataset : 0.0\n",
      "classification_report\n",
      "              precision    recall  f1-score   support\n",
      "\n",
      "           0       0.76      1.00      0.87     95692\n",
      "           1       0.00      0.00      0.00     29511\n",
      "\n",
      "    accuracy                           0.76    125203\n",
      "   macro avg       0.38      0.50      0.43    125203\n",
      "weighted avg       0.58      0.76      0.66    125203\n",
      "\n"
     ]
    },
    {
     "data": {
      "image/png": "[encoded data removed]",
      "text/plain": [
       "<Figure size 432x288 with 2 Axes>"
      ]
     },
     "metadata": {
      "needs_background": "light"
     },
     "output_type": "display_data"
    },
    {
     "data": {
      "image/png": "[encoded data removed]",
      "text/plain": [
       "<Figure size 432x288 with 1 Axes>"
      ]
     },
     "metadata": {
      "needs_background": "light"
     },
     "output_type": "display_data"
    }
   ],
   "source": [
    "model_eval(RandomForestClassifier(max_depth=3))"
   ]
  },
  {
   "cell_type": "code",
   "execution_count": null,
   "metadata": {},
   "outputs": [],
   "source": []
  },
  {
   "cell_type": "markdown",
   "metadata": {},
   "source": [
    "### Gradient Boost Model"
   ]
  },
  {
   "cell_type": "code",
   "execution_count": 44,
   "metadata": {},
   "outputs": [
    {
     "name": "stdout",
     "output_type": "stream",
     "text": [
      "below are the model evaluation statistics of Pipeline(steps=[('ct',\n",
      "                 ColumnTransformer(transformers=[('subpipe_num',\n",
      "                                                  Pipeline(steps=[('ss',\n",
      "                                                                   StandardScaler())]),\n",
      "                                                  ['loan_amnt', 'emp_length',\n",
      "                                                   'funded_amnt', 'int_rate',\n",
      "                                                   'annual_inc', 'dti',\n",
      "                                                   'open_acc', 'pub_rec',\n",
      "                                                   'revol_bal', 'revol_util',\n",
      "                                                   'total_acc',\n",
      "                                                   'Annual_Total_premium',\n",
      "                                                   'PTI', 'term',\n",
      "                                                   'inq_last_6mths', 'LTI']),\n",
      "                                                 ('subpipe_cate',\n",
      "                                                  Pipeline(steps=[('ohe',\n",
      "                                                                   OneHotEncoder(handle_unknown='ignore',\n",
      "                                                                                 sparse=False))]),\n",
      "                                                  ['grade', 'sub_grade',\n",
      "                                                   'home_ownership',\n",
      "                                                   'verification_status',\n",
      "                                                   'pymnt_plan', 'purpose',\n",
      "                                                   'addr_state',\n",
      "                                                   'initial_list_status',\n",
      "                                                   'application_type'])])),\n",
      "                ('model', GradientBoostingClassifier())])\n",
      " train_score : 0.7883\n",
      " test_score : 0.7905\n",
      " log loss on training dataset : 0.4564\n",
      " log loss on test dataset : 0.4534\n",
      "CrossValidation on training dataset : 0.30552628002672166\n",
      "classification_report\n",
      "              precision    recall  f1-score   support\n",
      "\n",
      "           0       0.80      0.97      0.88     95692\n",
      "           1       0.68      0.21      0.32     29511\n",
      "\n",
      "    accuracy                           0.79    125203\n",
      "   macro avg       0.74      0.59      0.60    125203\n",
      "weighted avg       0.77      0.79      0.74    125203\n",
      "\n"
     ]
    },
    {
     "data": {
      "image/png": "[encoded data removed]",
      "text/plain": [
       "<Figure size 432x288 with 2 Axes>"
      ]
     },
     "metadata": {
      "needs_background": "light"
     },
     "output_type": "display_data"
    },
    {
     "data": {
      "image/png": "[encoded data removed]",
      "text/plain": [
       "<Figure size 432x288 with 1 Axes>"
      ]
     },
     "metadata": {
      "needs_background": "light"
     },
     "output_type": "display_data"
    }
   ],
   "source": [
    "model_eval(GradientBoostingClassifier())"
   ]
  },
  {
   "cell_type": "markdown",
   "metadata": {},
   "source": [
    "### XGBoost Model"
   ]
  },
  {
   "cell_type": "code",
   "execution_count": 58,
   "metadata": {},
   "outputs": [
    {
     "name": "stdout",
     "output_type": "stream",
     "text": [
      "below are the model evaluation statistics of Pipeline(steps=[('ct',\n",
      "                 ColumnTransformer(transformers=[('subpipe_num',\n",
      "                                                  Pipeline(steps=[('ss',\n",
      "                                                                   StandardScaler())]),\n",
      "                                                  ['loan_amnt', 'emp_length',\n",
      "                                                   'funded_amnt', 'int_rate',\n",
      "                                                   'annual_inc', 'dti',\n",
      "                                                   'open_acc', 'pub_rec',\n",
      "                                                   'revol_bal', 'revol_util',\n",
      "                                                   'total_acc',\n",
      "                                                   'Annual_Total_premium',\n",
      "                                                   'PTI', 'term',\n",
      "                                                   'inq_last_6mths', 'LTI']),\n",
      "                                                 ('subpipe_cate',\n",
      "                                                  Pipeline(steps=[('ohe',\n",
      "                                                                   OneHotEncod...\n",
      "                               colsample_bytree=1, gamma=0, gpu_id=-1,\n",
      "                               importance_type='gain',\n",
      "                               interaction_constraints='',\n",
      "                               learning_rate=0.300000012, max_delta_step=0,\n",
      "                               max_depth=6, min_child_weight=1, missing=nan,\n",
      "                               monotone_constraints='()', n_estimators=100,\n",
      "                               n_jobs=0, num_parallel_tree=1, random_state=0,\n",
      "                               reg_alpha=0, reg_lambda=1, scale_pos_weight=1,\n",
      "                               subsample=1, tree_method='exact',\n",
      "                               validate_parameters=1, verbosity=None))])\n",
      " train_score : 0.8276\n",
      " test_score : 0.8188\n",
      " log loss on training dataset : 0.384\n",
      " log loss on test dataset : 0.403\n",
      "CrossValidation on training dataset : 0.5221034554815849\n",
      "classification_report\n",
      "              precision    recall  f1-score   support\n",
      "\n",
      "           0       0.84      0.94      0.89     95692\n",
      "           1       0.68      0.44      0.53     29511\n",
      "\n",
      "    accuracy                           0.82    125203\n",
      "   macro avg       0.76      0.69      0.71    125203\n",
      "weighted avg       0.80      0.82      0.80    125203\n",
      "\n"
     ]
    },
    {
     "data": {
      "image/png": "[encoded data removed]",
      "text/plain": [
       "<Figure size 432x288 with 2 Axes>"
      ]
     },
     "metadata": {
      "needs_background": "light"
     },
     "output_type": "display_data"
    },
    {
     "data": {
      "image/png": "[encoded data removed]",
      "text/plain": [
       "<Figure size 432x288 with 1 Axes>"
      ]
     },
     "metadata": {
      "needs_background": "light"
     },
     "output_type": "display_data"
    }
   ],
   "source": [
    "model_eval(XGBClassifier())"
   ]
  },
  {
   "cell_type": "markdown",
   "metadata": {},
   "source": [
    "### XGBoost Model Grid Search"
   ]
  },
  {
   "cell_type": "code",
   "execution_count": 72,
   "metadata": {},
   "outputs": [
    {
     "data": {
      "text/html": [
       "<style>#sk-container-id-3 {color: black;background-color: white;}#sk-container-id-3 pre{padding: 0;}#sk-container-id-3 div.sk-toggleable {background-color: white;}#sk-container-id-3 label.sk-toggleable__label {cursor: pointer;display: block;width: 100%;margin-bottom: 0;padding: 0.3em;box-sizing: border-box;text-align: center;}#sk-container-id-3 label.sk-toggleable__label-arrow:before {content: \"▸\";float: left;margin-right: 0.25em;color: #696969;}#sk-container-id-3 label.sk-toggleable__label-arrow:hover:before {color: black;}#sk-container-id-3 div.sk-estimator:hover label.sk-toggleable__label-arrow:before {color: black;}#sk-container-id-3 div.sk-toggleable__content {max-height: 0;max-width: 0;overflow: hidden;text-align: left;background-color: #f0f8ff;}#sk-container-id-3 div.sk-toggleable__content pre {margin: 0.2em;color: black;border-radius: 0.25em;background-color: #f0f8ff;}#sk-container-id-3 input.sk-toggleable__control:checked~div.sk-toggleable__content {max-height: 200px;max-width: 100%;overflow: auto;}#sk-container-id-3 input.sk-toggleable__control:checked~label.sk-toggleable__label-arrow:before {content: \"▾\";}#sk-container-id-3 div.sk-estimator input.sk-toggleable__control:checked~label.sk-toggleable__label {background-color: #d4ebff;}#sk-container-id-3 div.sk-label input.sk-toggleable__control:checked~label.sk-toggleable__label {background-color: #d4ebff;}#sk-container-id-3 input.sk-hidden--visually {border: 0;clip: rect(1px 1px 1px 1px);clip: rect(1px, 1px, 1px, 1px);height: 1px;margin: -1px;overflow: hidden;padding: 0;position: absolute;width: 1px;}#sk-container-id-3 div.sk-estimator {font-family: monospace;background-color: #f0f8ff;border: 1px dotted black;border-radius: 0.25em;box-sizing: border-box;margin-bottom: 0.5em;}#sk-container-id-3 div.sk-estimator:hover {background-color: #d4ebff;}#sk-container-id-3 div.sk-parallel-item::after {content: \"\";width: 100%;border-bottom: 1px solid gray;flex-grow: 1;}#sk-container-id-3 div.sk-label:hover label.sk-toggleable__label {background-color: #d4ebff;}#sk-container-id-3 div.sk-serial::before {content: \"\";position: absolute;border-left: 1px solid gray;box-sizing: border-box;top: 0;bottom: 0;left: 50%;z-index: 0;}#sk-container-id-3 div.sk-serial {display: flex;flex-direction: column;align-items: center;background-color: white;padding-right: 0.2em;padding-left: 0.2em;position: relative;}#sk-container-id-3 div.sk-item {position: relative;z-index: 1;}#sk-container-id-3 div.sk-parallel {display: flex;align-items: stretch;justify-content: center;background-color: white;position: relative;}#sk-container-id-3 div.sk-item::before, #sk-container-id-3 div.sk-parallel-item::before {content: \"\";position: absolute;border-left: 1px solid gray;box-sizing: border-box;top: 0;bottom: 0;left: 50%;z-index: -1;}#sk-container-id-3 div.sk-parallel-item {display: flex;flex-direction: column;z-index: 1;position: relative;background-color: white;}#sk-container-id-3 div.sk-parallel-item:first-child::after {align-self: flex-end;width: 50%;}#sk-container-id-3 div.sk-parallel-item:last-child::after {align-self: flex-start;width: 50%;}#sk-container-id-3 div.sk-parallel-item:only-child::after {width: 0;}#sk-container-id-3 div.sk-dashed-wrapped {border: 1px dashed gray;margin: 0 0.4em 0.5em 0.4em;box-sizing: border-box;padding-bottom: 0.4em;background-color: white;}#sk-container-id-3 div.sk-label label {font-family: monospace;font-weight: bold;display: inline-block;line-height: 1.2em;}#sk-container-id-3 div.sk-label-container {text-align: center;}#sk-container-id-3 div.sk-container {/* jupyter's `normalize.less` sets `[hidden] { display: none; }` but bootstrap.min.css set `[hidden] { display: none !important; }` so we also need the `!important` here to be able to override the default hidden behavior on the sphinx rendered scikit-learn.org. See: https://github.com/scikit-learn/scikit-learn/issues/21755 */display: inline-block !important;position: relative;}#sk-container-id-3 div.sk-text-repr-fallback {display: none;}</style><div id=\"sk-container-id-3\" class=\"sk-top-container\"><div class=\"sk-text-repr-fallback\"><pre>Pipeline(steps=[(&#x27;ct&#x27;,\n",
       "                 ColumnTransformer(transformers=[(&#x27;subpipe_num&#x27;,\n",
       "                                                  Pipeline(steps=[(&#x27;ss&#x27;,\n",
       "                                                                   StandardScaler())]),\n",
       "                                                  [&#x27;loan_amnt&#x27;, &#x27;emp_length&#x27;,\n",
       "                                                   &#x27;funded_amnt&#x27;, &#x27;int_rate&#x27;,\n",
       "                                                   &#x27;annual_inc&#x27;, &#x27;dti&#x27;,\n",
       "                                                   &#x27;open_acc&#x27;, &#x27;pub_rec&#x27;,\n",
       "                                                   &#x27;revol_bal&#x27;, &#x27;revol_util&#x27;,\n",
       "                                                   &#x27;total_acc&#x27;,\n",
       "                                                   &#x27;Annual_Total_premium&#x27;,\n",
       "                                                   &#x27;PTI&#x27;, &#x27;term&#x27;,\n",
       "                                                   &#x27;inq_last_6mths&#x27;, &#x27;LTI&#x27;]),\n",
       "                                                 (&#x27;subpipe_cate&#x27;,\n",
       "                                                  Pipeline(steps=[(&#x27;ohe&#x27;,\n",
       "                                                                   OneHotEncod...\n",
       "                               colsample_bytree=1, gamma=0, gpu_id=-1,\n",
       "                               importance_type=&#x27;gain&#x27;,\n",
       "                               interaction_constraints=&#x27;&#x27;,\n",
       "                               learning_rate=0.300000012, max_delta_step=0,\n",
       "                               max_depth=6, min_child_weight=1, missing=nan,\n",
       "                               monotone_constraints=&#x27;()&#x27;, n_estimators=100,\n",
       "                               n_jobs=0, num_parallel_tree=1, random_state=0,\n",
       "                               reg_alpha=0, reg_lambda=1, scale_pos_weight=1,\n",
       "                               subsample=1, tree_method=&#x27;exact&#x27;,\n",
       "                               validate_parameters=1, verbosity=None))])</pre><b>In a Jupyter environment, please rerun this cell to show the HTML representation or trust the notebook. <br />On GitHub, the HTML representation is unable to render, please try loading this page with nbviewer.org.</b></div><div class=\"sk-container\" hidden><div class=\"sk-item sk-dashed-wrapped\"><div class=\"sk-label-container\"><div class=\"sk-label sk-toggleable\"><input class=\"sk-toggleable__control sk-hidden--visually\" id=\"sk-estimator-id-17\" type=\"checkbox\" ><label for=\"sk-estimator-id-17\" class=\"sk-toggleable__label sk-toggleable__label-arrow\">Pipeline</label><div class=\"sk-toggleable__content\"><pre>Pipeline(steps=[(&#x27;ct&#x27;,\n",
       "                 ColumnTransformer(transformers=[(&#x27;subpipe_num&#x27;,\n",
       "                                                  Pipeline(steps=[(&#x27;ss&#x27;,\n",
       "                                                                   StandardScaler())]),\n",
       "                                                  [&#x27;loan_amnt&#x27;, &#x27;emp_length&#x27;,\n",
       "                                                   &#x27;funded_amnt&#x27;, &#x27;int_rate&#x27;,\n",
       "                                                   &#x27;annual_inc&#x27;, &#x27;dti&#x27;,\n",
       "                                                   &#x27;open_acc&#x27;, &#x27;pub_rec&#x27;,\n",
       "                                                   &#x27;revol_bal&#x27;, &#x27;revol_util&#x27;,\n",
       "                                                   &#x27;total_acc&#x27;,\n",
       "                                                   &#x27;Annual_Total_premium&#x27;,\n",
       "                                                   &#x27;PTI&#x27;, &#x27;term&#x27;,\n",
       "                                                   &#x27;inq_last_6mths&#x27;, &#x27;LTI&#x27;]),\n",
       "                                                 (&#x27;subpipe_cate&#x27;,\n",
       "                                                  Pipeline(steps=[(&#x27;ohe&#x27;,\n",
       "                                                                   OneHotEncod...\n",
       "                               colsample_bytree=1, gamma=0, gpu_id=-1,\n",
       "                               importance_type=&#x27;gain&#x27;,\n",
       "                               interaction_constraints=&#x27;&#x27;,\n",
       "                               learning_rate=0.300000012, max_delta_step=0,\n",
       "                               max_depth=6, min_child_weight=1, missing=nan,\n",
       "                               monotone_constraints=&#x27;()&#x27;, n_estimators=100,\n",
       "                               n_jobs=0, num_parallel_tree=1, random_state=0,\n",
       "                               reg_alpha=0, reg_lambda=1, scale_pos_weight=1,\n",
       "                               subsample=1, tree_method=&#x27;exact&#x27;,\n",
       "                               validate_parameters=1, verbosity=None))])</pre></div></div></div><div class=\"sk-serial\"><div class=\"sk-item sk-dashed-wrapped\"><div class=\"sk-label-container\"><div class=\"sk-label sk-toggleable\"><input class=\"sk-toggleable__control sk-hidden--visually\" id=\"sk-estimator-id-18\" type=\"checkbox\" ><label for=\"sk-estimator-id-18\" class=\"sk-toggleable__label sk-toggleable__label-arrow\">ct: ColumnTransformer</label><div class=\"sk-toggleable__content\"><pre>ColumnTransformer(transformers=[(&#x27;subpipe_num&#x27;,\n",
       "                                 Pipeline(steps=[(&#x27;ss&#x27;, StandardScaler())]),\n",
       "                                 [&#x27;loan_amnt&#x27;, &#x27;emp_length&#x27;, &#x27;funded_amnt&#x27;,\n",
       "                                  &#x27;int_rate&#x27;, &#x27;annual_inc&#x27;, &#x27;dti&#x27;, &#x27;open_acc&#x27;,\n",
       "                                  &#x27;pub_rec&#x27;, &#x27;revol_bal&#x27;, &#x27;revol_util&#x27;,\n",
       "                                  &#x27;total_acc&#x27;, &#x27;Annual_Total_premium&#x27;, &#x27;PTI&#x27;,\n",
       "                                  &#x27;term&#x27;, &#x27;inq_last_6mths&#x27;, &#x27;LTI&#x27;]),\n",
       "                                (&#x27;subpipe_cate&#x27;,\n",
       "                                 Pipeline(steps=[(&#x27;ohe&#x27;,\n",
       "                                                  OneHotEncoder(handle_unknown=&#x27;ignore&#x27;,\n",
       "                                                                sparse=False))]),\n",
       "                                 [&#x27;grade&#x27;, &#x27;sub_grade&#x27;, &#x27;home_ownership&#x27;,\n",
       "                                  &#x27;verification_status&#x27;, &#x27;pymnt_plan&#x27;,\n",
       "                                  &#x27;purpose&#x27;, &#x27;addr_state&#x27;,\n",
       "                                  &#x27;initial_list_status&#x27;, &#x27;application_type&#x27;])])</pre></div></div></div><div class=\"sk-parallel\"><div class=\"sk-parallel-item\"><div class=\"sk-item\"><div class=\"sk-label-container\"><div class=\"sk-label sk-toggleable\"><input class=\"sk-toggleable__control sk-hidden--visually\" id=\"sk-estimator-id-19\" type=\"checkbox\" ><label for=\"sk-estimator-id-19\" class=\"sk-toggleable__label sk-toggleable__label-arrow\">subpipe_num</label><div class=\"sk-toggleable__content\"><pre>[&#x27;loan_amnt&#x27;, &#x27;emp_length&#x27;, &#x27;funded_amnt&#x27;, &#x27;int_rate&#x27;, &#x27;annual_inc&#x27;, &#x27;dti&#x27;, &#x27;open_acc&#x27;, &#x27;pub_rec&#x27;, &#x27;revol_bal&#x27;, &#x27;revol_util&#x27;, &#x27;total_acc&#x27;, &#x27;Annual_Total_premium&#x27;, &#x27;PTI&#x27;, &#x27;term&#x27;, &#x27;inq_last_6mths&#x27;, &#x27;LTI&#x27;]</pre></div></div></div><div class=\"sk-serial\"><div class=\"sk-item\"><div class=\"sk-serial\"><div class=\"sk-item\"><div class=\"sk-estimator sk-toggleable\"><input class=\"sk-toggleable__control sk-hidden--visually\" id=\"sk-estimator-id-20\" type=\"checkbox\" ><label for=\"sk-estimator-id-20\" class=\"sk-toggleable__label sk-toggleable__label-arrow\">StandardScaler</label><div class=\"sk-toggleable__content\"><pre>StandardScaler()</pre></div></div></div></div></div></div></div></div><div class=\"sk-parallel-item\"><div class=\"sk-item\"><div class=\"sk-label-container\"><div class=\"sk-label sk-toggleable\"><input class=\"sk-toggleable__control sk-hidden--visually\" id=\"sk-estimator-id-21\" type=\"checkbox\" ><label for=\"sk-estimator-id-21\" class=\"sk-toggleable__label sk-toggleable__label-arrow\">subpipe_cate</label><div class=\"sk-toggleable__content\"><pre>[&#x27;grade&#x27;, &#x27;sub_grade&#x27;, &#x27;home_ownership&#x27;, &#x27;verification_status&#x27;, &#x27;pymnt_plan&#x27;, &#x27;purpose&#x27;, &#x27;addr_state&#x27;, &#x27;initial_list_status&#x27;, &#x27;application_type&#x27;]</pre></div></div></div><div class=\"sk-serial\"><div class=\"sk-item\"><div class=\"sk-serial\"><div class=\"sk-item\"><div class=\"sk-estimator sk-toggleable\"><input class=\"sk-toggleable__control sk-hidden--visually\" id=\"sk-estimator-id-22\" type=\"checkbox\" ><label for=\"sk-estimator-id-22\" class=\"sk-toggleable__label sk-toggleable__label-arrow\">OneHotEncoder</label><div class=\"sk-toggleable__content\"><pre>OneHotEncoder(handle_unknown=&#x27;ignore&#x27;, sparse=False)</pre></div></div></div></div></div></div></div></div></div></div><div class=\"sk-item\"><div class=\"sk-estimator sk-toggleable\"><input class=\"sk-toggleable__control sk-hidden--visually\" id=\"sk-estimator-id-23\" type=\"checkbox\" ><label for=\"sk-estimator-id-23\" class=\"sk-toggleable__label sk-toggleable__label-arrow\">XGBClassifier</label><div class=\"sk-toggleable__content\"><pre>XGBClassifier(base_score=0.5, booster=&#x27;gbtree&#x27;, colsample_bylevel=1,\n",
       "              colsample_bynode=1, colsample_bytree=1, gamma=0, gpu_id=-1,\n",
       "              importance_type=&#x27;gain&#x27;, interaction_constraints=&#x27;&#x27;,\n",
       "              learning_rate=0.300000012, max_delta_step=0, max_depth=6,\n",
       "              min_child_weight=1, missing=nan, monotone_constraints=&#x27;()&#x27;,\n",
       "              n_estimators=100, n_jobs=0, num_parallel_tree=1, random_state=0,\n",
       "              reg_alpha=0, reg_lambda=1, scale_pos_weight=1, subsample=1,\n",
       "              tree_method=&#x27;exact&#x27;, validate_parameters=1, verbosity=None)</pre></div></div></div></div></div></div></div>"
      ],
      "text/plain": [
       "Pipeline(steps=[('ct',\n",
       "                 ColumnTransformer(transformers=[('subpipe_num',\n",
       "                                                  Pipeline(steps=[('ss',\n",
       "                                                                   StandardScaler())]),\n",
       "                                                  ['loan_amnt', 'emp_length',\n",
       "                                                   'funded_amnt', 'int_rate',\n",
       "                                                   'annual_inc', 'dti',\n",
       "                                                   'open_acc', 'pub_rec',\n",
       "                                                   'revol_bal', 'revol_util',\n",
       "                                                   'total_acc',\n",
       "                                                   'Annual_Total_premium',\n",
       "                                                   'PTI', 'term',\n",
       "                                                   'inq_last_6mths', 'LTI']),\n",
       "                                                 ('subpipe_cate',\n",
       "                                                  Pipeline(steps=[('ohe',\n",
       "                                                                   OneHotEncod...\n",
       "                               colsample_bytree=1, gamma=0, gpu_id=-1,\n",
       "                               importance_type='gain',\n",
       "                               interaction_constraints='',\n",
       "                               learning_rate=0.300000012, max_delta_step=0,\n",
       "                               max_depth=6, min_child_weight=1, missing=nan,\n",
       "                               monotone_constraints='()', n_estimators=100,\n",
       "                               n_jobs=0, num_parallel_tree=1, random_state=0,\n",
       "                               reg_alpha=0, reg_lambda=1, scale_pos_weight=1,\n",
       "                               subsample=1, tree_method='exact',\n",
       "                               validate_parameters=1, verbosity=None))])"
      ]
     },
     "execution_count": 72,
     "metadata": {},
     "output_type": "execute_result"
    }
   ],
   "source": [
    "XGB_clf = XGBClassifier()\n",
    "pipeline_XB = Pipeline(steps=[\n",
    "    ('ct',CT),\n",
    "    ('classifier', XGB_clf)])\n",
    "\n",
    "pipeline_XB.fit(X_train, y_train)"
   ]
  },
  {
   "cell_type": "code",
   "execution_count": 73,
   "metadata": {},
   "outputs": [
    {
     "data": {
      "text/plain": [
       "dict_keys(['memory', 'steps', 'verbose', 'ct', 'classifier', 'ct__n_jobs', 'ct__remainder', 'ct__sparse_threshold', 'ct__transformer_weights', 'ct__transformers', 'ct__verbose', 'ct__verbose_feature_names_out', 'ct__subpipe_num', 'ct__subpipe_cate', 'ct__subpipe_num__memory', 'ct__subpipe_num__steps', 'ct__subpipe_num__verbose', 'ct__subpipe_num__ss', 'ct__subpipe_num__ss__copy', 'ct__subpipe_num__ss__with_mean', 'ct__subpipe_num__ss__with_std', 'ct__subpipe_cate__memory', 'ct__subpipe_cate__steps', 'ct__subpipe_cate__verbose', 'ct__subpipe_cate__ohe', 'ct__subpipe_cate__ohe__categories', 'ct__subpipe_cate__ohe__drop', 'ct__subpipe_cate__ohe__dtype', 'ct__subpipe_cate__ohe__handle_unknown', 'ct__subpipe_cate__ohe__max_categories', 'ct__subpipe_cate__ohe__min_frequency', 'ct__subpipe_cate__ohe__sparse', 'ct__subpipe_cate__ohe__sparse_output', 'classifier__objective', 'classifier__base_score', 'classifier__booster', 'classifier__colsample_bylevel', 'classifier__colsample_bynode', 'classifier__colsample_bytree', 'classifier__gamma', 'classifier__gpu_id', 'classifier__importance_type', 'classifier__interaction_constraints', 'classifier__learning_rate', 'classifier__max_delta_step', 'classifier__max_depth', 'classifier__min_child_weight', 'classifier__missing', 'classifier__monotone_constraints', 'classifier__n_estimators', 'classifier__n_jobs', 'classifier__num_parallel_tree', 'classifier__random_state', 'classifier__reg_alpha', 'classifier__reg_lambda', 'classifier__scale_pos_weight', 'classifier__subsample', 'classifier__tree_method', 'classifier__validate_parameters', 'classifier__verbosity'])"
      ]
     },
     "execution_count": 73,
     "metadata": {},
     "output_type": "execute_result"
    }
   ],
   "source": [
    "pipeline_XB.get_params().keys()"
   ]
  },
  {
   "cell_type": "code",
   "execution_count": 74,
   "metadata": {},
   "outputs": [],
   "source": [
    "params ={\n",
    "    'classifier__n_estimators':[75,100,125],\n",
    "    'classifier__learning_rate':[0.1,0.3,0.4],\n",
    "    'classifier__max_depth' :[4,7,10],\n",
    "    'classifier__reg_lambda': [0,1]    \n",
    "  }"
   ]
  },
  {
   "cell_type": "code",
   "execution_count": 75,
   "metadata": {},
   "outputs": [],
   "source": [
    "gs = GridSearchCV(\n",
    "    estimator=pipeline_XB,\n",
    "    param_grid=params,\n",
    "    cv=5,\n",
    "    verbose=1\n",
    ")"
   ]
  },
  {
   "cell_type": "code",
   "execution_count": 76,
   "metadata": {},
   "outputs": [
    {
     "name": "stdout",
     "output_type": "stream",
     "text": [
      "Fitting 5 folds for each of 54 candidates, totalling 270 fits\n"
     ]
    },
    {
     "data": {
      "text/html": [
       "<style>#sk-container-id-4 {color: black;background-color: white;}#sk-container-id-4 pre{padding: 0;}#sk-container-id-4 div.sk-toggleable {background-color: white;}#sk-container-id-4 label.sk-toggleable__label {cursor: pointer;display: block;width: 100%;margin-bottom: 0;padding: 0.3em;box-sizing: border-box;text-align: center;}#sk-container-id-4 label.sk-toggleable__label-arrow:before {content: \"▸\";float: left;margin-right: 0.25em;color: #696969;}#sk-container-id-4 label.sk-toggleable__label-arrow:hover:before {color: black;}#sk-container-id-4 div.sk-estimator:hover label.sk-toggleable__label-arrow:before {color: black;}#sk-container-id-4 div.sk-toggleable__content {max-height: 0;max-width: 0;overflow: hidden;text-align: left;background-color: #f0f8ff;}#sk-container-id-4 div.sk-toggleable__content pre {margin: 0.2em;color: black;border-radius: 0.25em;background-color: #f0f8ff;}#sk-container-id-4 input.sk-toggleable__control:checked~div.sk-toggleable__content {max-height: 200px;max-width: 100%;overflow: auto;}#sk-container-id-4 input.sk-toggleable__control:checked~label.sk-toggleable__label-arrow:before {content: \"▾\";}#sk-container-id-4 div.sk-estimator input.sk-toggleable__control:checked~label.sk-toggleable__label {background-color: #d4ebff;}#sk-container-id-4 div.sk-label input.sk-toggleable__control:checked~label.sk-toggleable__label {background-color: #d4ebff;}#sk-container-id-4 input.sk-hidden--visually {border: 0;clip: rect(1px 1px 1px 1px);clip: rect(1px, 1px, 1px, 1px);height: 1px;margin: -1px;overflow: hidden;padding: 0;position: absolute;width: 1px;}#sk-container-id-4 div.sk-estimator {font-family: monospace;background-color: #f0f8ff;border: 1px dotted black;border-radius: 0.25em;box-sizing: border-box;margin-bottom: 0.5em;}#sk-container-id-4 div.sk-estimator:hover {background-color: #d4ebff;}#sk-container-id-4 div.sk-parallel-item::after {content: \"\";width: 100%;border-bottom: 1px solid gray;flex-grow: 1;}#sk-container-id-4 div.sk-label:hover label.sk-toggleable__label {background-color: #d4ebff;}#sk-container-id-4 div.sk-serial::before {content: \"\";position: absolute;border-left: 1px solid gray;box-sizing: border-box;top: 0;bottom: 0;left: 50%;z-index: 0;}#sk-container-id-4 div.sk-serial {display: flex;flex-direction: column;align-items: center;background-color: white;padding-right: 0.2em;padding-left: 0.2em;position: relative;}#sk-container-id-4 div.sk-item {position: relative;z-index: 1;}#sk-container-id-4 div.sk-parallel {display: flex;align-items: stretch;justify-content: center;background-color: white;position: relative;}#sk-container-id-4 div.sk-item::before, #sk-container-id-4 div.sk-parallel-item::before {content: \"\";position: absolute;border-left: 1px solid gray;box-sizing: border-box;top: 0;bottom: 0;left: 50%;z-index: -1;}#sk-container-id-4 div.sk-parallel-item {display: flex;flex-direction: column;z-index: 1;position: relative;background-color: white;}#sk-container-id-4 div.sk-parallel-item:first-child::after {align-self: flex-end;width: 50%;}#sk-container-id-4 div.sk-parallel-item:last-child::after {align-self: flex-start;width: 50%;}#sk-container-id-4 div.sk-parallel-item:only-child::after {width: 0;}#sk-container-id-4 div.sk-dashed-wrapped {border: 1px dashed gray;margin: 0 0.4em 0.5em 0.4em;box-sizing: border-box;padding-bottom: 0.4em;background-color: white;}#sk-container-id-4 div.sk-label label {font-family: monospace;font-weight: bold;display: inline-block;line-height: 1.2em;}#sk-container-id-4 div.sk-label-container {text-align: center;}#sk-container-id-4 div.sk-container {/* jupyter's `normalize.less` sets `[hidden] { display: none; }` but bootstrap.min.css set `[hidden] { display: none !important; }` so we also need the `!important` here to be able to override the default hidden behavior on the sphinx rendered scikit-learn.org. See: https://github.com/scikit-learn/scikit-learn/issues/21755 */display: inline-block !important;position: relative;}#sk-container-id-4 div.sk-text-repr-fallback {display: none;}</style><div id=\"sk-container-id-4\" class=\"sk-top-container\"><div class=\"sk-text-repr-fallback\"><pre>GridSearchCV(cv=5,\n",
       "             estimator=Pipeline(steps=[(&#x27;ct&#x27;,\n",
       "                                        ColumnTransformer(transformers=[(&#x27;subpipe_num&#x27;,\n",
       "                                                                         Pipeline(steps=[(&#x27;ss&#x27;,\n",
       "                                                                                          StandardScaler())]),\n",
       "                                                                         [&#x27;loan_amnt&#x27;,\n",
       "                                                                          &#x27;emp_length&#x27;,\n",
       "                                                                          &#x27;funded_amnt&#x27;,\n",
       "                                                                          &#x27;int_rate&#x27;,\n",
       "                                                                          &#x27;annual_inc&#x27;,\n",
       "                                                                          &#x27;dti&#x27;,\n",
       "                                                                          &#x27;open_acc&#x27;,\n",
       "                                                                          &#x27;pub_rec&#x27;,\n",
       "                                                                          &#x27;revol_bal&#x27;,\n",
       "                                                                          &#x27;revol_util&#x27;,\n",
       "                                                                          &#x27;total_acc&#x27;,\n",
       "                                                                          &#x27;Annual_Total_premium&#x27;,\n",
       "                                                                          &#x27;PTI&#x27;,\n",
       "                                                                          &#x27;term&#x27;,\n",
       "                                                                          &#x27;inq_last_6mths&#x27;,\n",
       "                                                                          &#x27;LTI&#x27;]),\n",
       "                                                                        (&#x27;subpipe_cate&#x27;,\n",
       "                                                                         Pipeli...\n",
       "                                                      monotone_constraints=&#x27;()&#x27;,\n",
       "                                                      n_estimators=100,\n",
       "                                                      n_jobs=0,\n",
       "                                                      num_parallel_tree=1,\n",
       "                                                      random_state=0,\n",
       "                                                      reg_alpha=0, reg_lambda=1,\n",
       "                                                      scale_pos_weight=1,\n",
       "                                                      subsample=1,\n",
       "                                                      tree_method=&#x27;exact&#x27;,\n",
       "                                                      validate_parameters=1,\n",
       "                                                      verbosity=None))]),\n",
       "             param_grid={&#x27;classifier__learning_rate&#x27;: [0.1, 0.3, 0.4],\n",
       "                         &#x27;classifier__max_depth&#x27;: [4, 7, 10],\n",
       "                         &#x27;classifier__n_estimators&#x27;: [75, 100, 125],\n",
       "                         &#x27;classifier__reg_lambda&#x27;: [0, 1]},\n",
       "             verbose=1)</pre><b>In a Jupyter environment, please rerun this cell to show the HTML representation or trust the notebook. <br />On GitHub, the HTML representation is unable to render, please try loading this page with nbviewer.org.</b></div><div class=\"sk-container\" hidden><div class=\"sk-item sk-dashed-wrapped\"><div class=\"sk-label-container\"><div class=\"sk-label sk-toggleable\"><input class=\"sk-toggleable__control sk-hidden--visually\" id=\"sk-estimator-id-24\" type=\"checkbox\" ><label for=\"sk-estimator-id-24\" class=\"sk-toggleable__label sk-toggleable__label-arrow\">GridSearchCV</label><div class=\"sk-toggleable__content\"><pre>GridSearchCV(cv=5,\n",
       "             estimator=Pipeline(steps=[(&#x27;ct&#x27;,\n",
       "                                        ColumnTransformer(transformers=[(&#x27;subpipe_num&#x27;,\n",
       "                                                                         Pipeline(steps=[(&#x27;ss&#x27;,\n",
       "                                                                                          StandardScaler())]),\n",
       "                                                                         [&#x27;loan_amnt&#x27;,\n",
       "                                                                          &#x27;emp_length&#x27;,\n",
       "                                                                          &#x27;funded_amnt&#x27;,\n",
       "                                                                          &#x27;int_rate&#x27;,\n",
       "                                                                          &#x27;annual_inc&#x27;,\n",
       "                                                                          &#x27;dti&#x27;,\n",
       "                                                                          &#x27;open_acc&#x27;,\n",
       "                                                                          &#x27;pub_rec&#x27;,\n",
       "                                                                          &#x27;revol_bal&#x27;,\n",
       "                                                                          &#x27;revol_util&#x27;,\n",
       "                                                                          &#x27;total_acc&#x27;,\n",
       "                                                                          &#x27;Annual_Total_premium&#x27;,\n",
       "                                                                          &#x27;PTI&#x27;,\n",
       "                                                                          &#x27;term&#x27;,\n",
       "                                                                          &#x27;inq_last_6mths&#x27;,\n",
       "                                                                          &#x27;LTI&#x27;]),\n",
       "                                                                        (&#x27;subpipe_cate&#x27;,\n",
       "                                                                         Pipeli...\n",
       "                                                      monotone_constraints=&#x27;()&#x27;,\n",
       "                                                      n_estimators=100,\n",
       "                                                      n_jobs=0,\n",
       "                                                      num_parallel_tree=1,\n",
       "                                                      random_state=0,\n",
       "                                                      reg_alpha=0, reg_lambda=1,\n",
       "                                                      scale_pos_weight=1,\n",
       "                                                      subsample=1,\n",
       "                                                      tree_method=&#x27;exact&#x27;,\n",
       "                                                      validate_parameters=1,\n",
       "                                                      verbosity=None))]),\n",
       "             param_grid={&#x27;classifier__learning_rate&#x27;: [0.1, 0.3, 0.4],\n",
       "                         &#x27;classifier__max_depth&#x27;: [4, 7, 10],\n",
       "                         &#x27;classifier__n_estimators&#x27;: [75, 100, 125],\n",
       "                         &#x27;classifier__reg_lambda&#x27;: [0, 1]},\n",
       "             verbose=1)</pre></div></div></div><div class=\"sk-parallel\"><div class=\"sk-parallel-item\"><div class=\"sk-item\"><div class=\"sk-label-container\"><div class=\"sk-label sk-toggleable\"><input class=\"sk-toggleable__control sk-hidden--visually\" id=\"sk-estimator-id-25\" type=\"checkbox\" ><label for=\"sk-estimator-id-25\" class=\"sk-toggleable__label sk-toggleable__label-arrow\">estimator: Pipeline</label><div class=\"sk-toggleable__content\"><pre>Pipeline(steps=[(&#x27;ct&#x27;,\n",
       "                 ColumnTransformer(transformers=[(&#x27;subpipe_num&#x27;,\n",
       "                                                  Pipeline(steps=[(&#x27;ss&#x27;,\n",
       "                                                                   StandardScaler())]),\n",
       "                                                  [&#x27;loan_amnt&#x27;, &#x27;emp_length&#x27;,\n",
       "                                                   &#x27;funded_amnt&#x27;, &#x27;int_rate&#x27;,\n",
       "                                                   &#x27;annual_inc&#x27;, &#x27;dti&#x27;,\n",
       "                                                   &#x27;open_acc&#x27;, &#x27;pub_rec&#x27;,\n",
       "                                                   &#x27;revol_bal&#x27;, &#x27;revol_util&#x27;,\n",
       "                                                   &#x27;total_acc&#x27;,\n",
       "                                                   &#x27;Annual_Total_premium&#x27;,\n",
       "                                                   &#x27;PTI&#x27;, &#x27;term&#x27;,\n",
       "                                                   &#x27;inq_last_6mths&#x27;, &#x27;LTI&#x27;]),\n",
       "                                                 (&#x27;subpipe_cate&#x27;,\n",
       "                                                  Pipeline(steps=[(&#x27;ohe&#x27;,\n",
       "                                                                   OneHotEncod...\n",
       "                               colsample_bytree=1, gamma=0, gpu_id=-1,\n",
       "                               importance_type=&#x27;gain&#x27;,\n",
       "                               interaction_constraints=&#x27;&#x27;,\n",
       "                               learning_rate=0.300000012, max_delta_step=0,\n",
       "                               max_depth=6, min_child_weight=1, missing=nan,\n",
       "                               monotone_constraints=&#x27;()&#x27;, n_estimators=100,\n",
       "                               n_jobs=0, num_parallel_tree=1, random_state=0,\n",
       "                               reg_alpha=0, reg_lambda=1, scale_pos_weight=1,\n",
       "                               subsample=1, tree_method=&#x27;exact&#x27;,\n",
       "                               validate_parameters=1, verbosity=None))])</pre></div></div></div><div class=\"sk-serial\"><div class=\"sk-item\"><div class=\"sk-serial\"><div class=\"sk-item sk-dashed-wrapped\"><div class=\"sk-label-container\"><div class=\"sk-label sk-toggleable\"><input class=\"sk-toggleable__control sk-hidden--visually\" id=\"sk-estimator-id-26\" type=\"checkbox\" ><label for=\"sk-estimator-id-26\" class=\"sk-toggleable__label sk-toggleable__label-arrow\">ct: ColumnTransformer</label><div class=\"sk-toggleable__content\"><pre>ColumnTransformer(transformers=[(&#x27;subpipe_num&#x27;,\n",
       "                                 Pipeline(steps=[(&#x27;ss&#x27;, StandardScaler())]),\n",
       "                                 [&#x27;loan_amnt&#x27;, &#x27;emp_length&#x27;, &#x27;funded_amnt&#x27;,\n",
       "                                  &#x27;int_rate&#x27;, &#x27;annual_inc&#x27;, &#x27;dti&#x27;, &#x27;open_acc&#x27;,\n",
       "                                  &#x27;pub_rec&#x27;, &#x27;revol_bal&#x27;, &#x27;revol_util&#x27;,\n",
       "                                  &#x27;total_acc&#x27;, &#x27;Annual_Total_premium&#x27;, &#x27;PTI&#x27;,\n",
       "                                  &#x27;term&#x27;, &#x27;inq_last_6mths&#x27;, &#x27;LTI&#x27;]),\n",
       "                                (&#x27;subpipe_cate&#x27;,\n",
       "                                 Pipeline(steps=[(&#x27;ohe&#x27;,\n",
       "                                                  OneHotEncoder(handle_unknown=&#x27;ignore&#x27;,\n",
       "                                                                sparse=False))]),\n",
       "                                 [&#x27;grade&#x27;, &#x27;sub_grade&#x27;, &#x27;home_ownership&#x27;,\n",
       "                                  &#x27;verification_status&#x27;, &#x27;pymnt_plan&#x27;,\n",
       "                                  &#x27;purpose&#x27;, &#x27;addr_state&#x27;,\n",
       "                                  &#x27;initial_list_status&#x27;, &#x27;application_type&#x27;])])</pre></div></div></div><div class=\"sk-parallel\"><div class=\"sk-parallel-item\"><div class=\"sk-item\"><div class=\"sk-label-container\"><div class=\"sk-label sk-toggleable\"><input class=\"sk-toggleable__control sk-hidden--visually\" id=\"sk-estimator-id-27\" type=\"checkbox\" ><label for=\"sk-estimator-id-27\" class=\"sk-toggleable__label sk-toggleable__label-arrow\">subpipe_num</label><div class=\"sk-toggleable__content\"><pre>[&#x27;loan_amnt&#x27;, &#x27;emp_length&#x27;, &#x27;funded_amnt&#x27;, &#x27;int_rate&#x27;, &#x27;annual_inc&#x27;, &#x27;dti&#x27;, &#x27;open_acc&#x27;, &#x27;pub_rec&#x27;, &#x27;revol_bal&#x27;, &#x27;revol_util&#x27;, &#x27;total_acc&#x27;, &#x27;Annual_Total_premium&#x27;, &#x27;PTI&#x27;, &#x27;term&#x27;, &#x27;inq_last_6mths&#x27;, &#x27;LTI&#x27;]</pre></div></div></div><div class=\"sk-serial\"><div class=\"sk-item\"><div class=\"sk-serial\"><div class=\"sk-item\"><div class=\"sk-estimator sk-toggleable\"><input class=\"sk-toggleable__control sk-hidden--visually\" id=\"sk-estimator-id-28\" type=\"checkbox\" ><label for=\"sk-estimator-id-28\" class=\"sk-toggleable__label sk-toggleable__label-arrow\">StandardScaler</label><div class=\"sk-toggleable__content\"><pre>StandardScaler()</pre></div></div></div></div></div></div></div></div><div class=\"sk-parallel-item\"><div class=\"sk-item\"><div class=\"sk-label-container\"><div class=\"sk-label sk-toggleable\"><input class=\"sk-toggleable__control sk-hidden--visually\" id=\"sk-estimator-id-29\" type=\"checkbox\" ><label for=\"sk-estimator-id-29\" class=\"sk-toggleable__label sk-toggleable__label-arrow\">subpipe_cate</label><div class=\"sk-toggleable__content\"><pre>[&#x27;grade&#x27;, &#x27;sub_grade&#x27;, &#x27;home_ownership&#x27;, &#x27;verification_status&#x27;, &#x27;pymnt_plan&#x27;, &#x27;purpose&#x27;, &#x27;addr_state&#x27;, &#x27;initial_list_status&#x27;, &#x27;application_type&#x27;]</pre></div></div></div><div class=\"sk-serial\"><div class=\"sk-item\"><div class=\"sk-serial\"><div class=\"sk-item\"><div class=\"sk-estimator sk-toggleable\"><input class=\"sk-toggleable__control sk-hidden--visually\" id=\"sk-estimator-id-30\" type=\"checkbox\" ><label for=\"sk-estimator-id-30\" class=\"sk-toggleable__label sk-toggleable__label-arrow\">OneHotEncoder</label><div class=\"sk-toggleable__content\"><pre>OneHotEncoder(handle_unknown=&#x27;ignore&#x27;, sparse=False)</pre></div></div></div></div></div></div></div></div></div></div><div class=\"sk-item\"><div class=\"sk-estimator sk-toggleable\"><input class=\"sk-toggleable__control sk-hidden--visually\" id=\"sk-estimator-id-31\" type=\"checkbox\" ><label for=\"sk-estimator-id-31\" class=\"sk-toggleable__label sk-toggleable__label-arrow\">XGBClassifier</label><div class=\"sk-toggleable__content\"><pre>XGBClassifier(base_score=0.5, booster=&#x27;gbtree&#x27;, colsample_bylevel=1,\n",
       "              colsample_bynode=1, colsample_bytree=1, gamma=0, gpu_id=-1,\n",
       "              importance_type=&#x27;gain&#x27;, interaction_constraints=&#x27;&#x27;,\n",
       "              learning_rate=0.300000012, max_delta_step=0, max_depth=6,\n",
       "              min_child_weight=1, missing=nan, monotone_constraints=&#x27;()&#x27;,\n",
       "              n_estimators=100, n_jobs=0, num_parallel_tree=1, random_state=0,\n",
       "              reg_alpha=0, reg_lambda=1, scale_pos_weight=1, subsample=1,\n",
       "              tree_method=&#x27;exact&#x27;, validate_parameters=1, verbosity=None)</pre></div></div></div></div></div></div></div></div></div></div></div></div>"
      ],
      "text/plain": [
       "GridSearchCV(cv=5,\n",
       "             estimator=Pipeline(steps=[('ct',\n",
       "                                        ColumnTransformer(transformers=[('subpipe_num',\n",
       "                                                                         Pipeline(steps=[('ss',\n",
       "                                                                                          StandardScaler())]),\n",
       "                                                                         ['loan_amnt',\n",
       "                                                                          'emp_length',\n",
       "                                                                          'funded_amnt',\n",
       "                                                                          'int_rate',\n",
       "                                                                          'annual_inc',\n",
       "                                                                          'dti',\n",
       "                                                                          'open_acc',\n",
       "                                                                          'pub_rec',\n",
       "                                                                          'revol_bal',\n",
       "                                                                          'revol_util',\n",
       "                                                                          'total_acc',\n",
       "                                                                          'Annual_Total_premium',\n",
       "                                                                          'PTI',\n",
       "                                                                          'term',\n",
       "                                                                          'inq_last_6mths',\n",
       "                                                                          'LTI']),\n",
       "                                                                        ('subpipe_cate',\n",
       "                                                                         Pipeli...\n",
       "                                                      monotone_constraints='()',\n",
       "                                                      n_estimators=100,\n",
       "                                                      n_jobs=0,\n",
       "                                                      num_parallel_tree=1,\n",
       "                                                      random_state=0,\n",
       "                                                      reg_alpha=0, reg_lambda=1,\n",
       "                                                      scale_pos_weight=1,\n",
       "                                                      subsample=1,\n",
       "                                                      tree_method='exact',\n",
       "                                                      validate_parameters=1,\n",
       "                                                      verbosity=None))]),\n",
       "             param_grid={'classifier__learning_rate': [0.1, 0.3, 0.4],\n",
       "                         'classifier__max_depth': [4, 7, 10],\n",
       "                         'classifier__n_estimators': [75, 100, 125],\n",
       "                         'classifier__reg_lambda': [0, 1]},\n",
       "             verbose=1)"
      ]
     },
     "execution_count": 76,
     "metadata": {},
     "output_type": "execute_result"
    }
   ],
   "source": [
    "gs.fit(X_train,y_train)"
   ]
  },
  {
   "cell_type": "code",
   "execution_count": 77,
   "metadata": {},
   "outputs": [
    {
     "data": {
      "text/plain": [
       "{'classifier__learning_rate': 0.1,\n",
       " 'classifier__max_depth': 10,\n",
       " 'classifier__n_estimators': 125,\n",
       " 'classifier__reg_lambda': 1}"
      ]
     },
     "execution_count": 77,
     "metadata": {},
     "output_type": "execute_result"
    }
   ],
   "source": [
    "gs.best_params_"
   ]
  },
  {
   "cell_type": "code",
   "execution_count": 78,
   "metadata": {},
   "outputs": [],
   "source": [
    "gs_best=gs.best_estimator_"
   ]
  },
  {
   "cell_type": "code",
   "execution_count": 79,
   "metadata": {},
   "outputs": [
    {
     "data": {
      "text/plain": [
       "0.852"
      ]
     },
     "execution_count": 79,
     "metadata": {},
     "output_type": "execute_result"
    }
   ],
   "source": [
    "gs_train_score = round(gs_best.score(X_train,y_train),4)\n",
    "gs_train_score"
   ]
  },
  {
   "cell_type": "code",
   "execution_count": 80,
   "metadata": {},
   "outputs": [
    {
     "data": {
      "text/plain": [
       "0.8202"
      ]
     },
     "execution_count": 80,
     "metadata": {},
     "output_type": "execute_result"
    }
   ],
   "source": [
    "gs_test_score= round(gs_best.score(X_test,y_test),4)\n",
    "gs_test_score"
   ]
  },
  {
   "cell_type": "code",
   "execution_count": 81,
   "metadata": {},
   "outputs": [
    {
     "name": "stdout",
     "output_type": "stream",
     "text": [
      "\n",
      "Our fsm model's logloss on the train set is 0.3436. \n",
      "\n",
      "Our fsm model's logloss on the test set is 0.404\n",
      "\n",
      "\n"
     ]
    }
   ],
   "source": [
    "gs_log_loss_train = round(log_loss(y_train, gs_best.predict_proba(X_train)),4)\n",
    "gs_log_loss_test = round(log_loss(y_test, gs_best.predict_proba(X_test)),4)\n",
    "\n",
    "print(f\"\"\"\n",
    "Our fsm model's logloss on the train set is {gs_log_loss_train}. \\n\n",
    "Our fsm model's logloss on the test set is {gs_log_loss_test}\n",
    "\n",
    "\"\"\")"
   ]
  },
  {
   "cell_type": "code",
   "execution_count": 82,
   "metadata": {},
   "outputs": [
    {
     "data": {
      "text/plain": [
       "0.5214"
      ]
     },
     "execution_count": 82,
     "metadata": {},
     "output_type": "execute_result"
    }
   ],
   "source": [
    "gs_cv = cross_val_score(gs_best, X_train, y_train,scoring = \"f1\")\n",
    "gs_cv=round(gs_cv.mean(),4)\n",
    "gs_cv"
   ]
  },
  {
   "cell_type": "code",
   "execution_count": 79,
   "metadata": {},
   "outputs": [
    {
     "name": "stdout",
     "output_type": "stream",
     "text": [
      "\n",
      "Our fsm_polymodel's accuracy on the test set is 0.82. \n",
      "\n",
      "Our fsm_polymodel's recall on the test set is 0.44 \n",
      "\n",
      "Our fsm_polymodel's precision on the test set is 0.68 \n",
      "\n",
      "Our fsm_polymodel's f1-score on the test is 0.54.\n",
      "\n"
     ]
    }
   ],
   "source": [
    "y_hat = gs_best.predict(X_test)\n",
    "\n",
    "gs_accuracy = round(accuracy_score(y_test, y_hat), 2)\n",
    "gs_recall = round(recall_score(y_test, y_hat), 2)\n",
    "gs_precision = round(precision_score(y_test, y_hat), 2)\n",
    "gs_f1 = round(f1_score(y_test, y_hat), 2)\n",
    "\n",
    "print(f\"\"\"\n",
    "Our fsm_polymodel's accuracy on the test set is {gs_accuracy}. \\n\n",
    "Our fsm_polymodel's recall on the test set is {gs_recall} \\n\n",
    "Our fsm_polymodel's precision on the test set is {gs_precision} \\n\n",
    "Our fsm_polymodel's f1-score on the test is {gs_f1}.\n",
    "\"\"\")"
   ]
  },
  {
   "cell_type": "code",
   "execution_count": 81,
   "metadata": {
    "scrolled": true
   },
   "outputs": [
    {
     "data": {
      "text/plain": [
       "<sklearn.metrics._plot.roc_curve.RocCurveDisplay at 0x27d1552b160>"
      ]
     },
     "execution_count": 81,
     "metadata": {},
     "output_type": "execute_result"
    },
    {
     "data": {
      "image/png": "[encoded data removed]",
      "text/plain": [
       "<Figure size 432x288 with 1 Axes>"
      ]
     },
     "metadata": {
      "needs_background": "light"
     },
     "output_type": "display_data"
    }
   ],
   "source": [
    "RocCurveDisplay.from_estimator(gs_best, X_train, y_train)"
   ]
  },
  {
   "cell_type": "markdown",
   "metadata": {},
   "source": [
    "### Save the grid search XGBoost Model"
   ]
  },
  {
   "cell_type": "code",
   "execution_count": 84,
   "metadata": {},
   "outputs": [],
   "source": [
    "filename = 'Model/Xgboost_model.sav'"
   ]
  },
  {
   "cell_type": "code",
   "execution_count": 85,
   "metadata": {},
   "outputs": [],
   "source": [
    "pickle.dump(gs, open(filename, 'wb'))"
   ]
  },
  {
   "cell_type": "code",
   "execution_count": 86,
   "metadata": {},
   "outputs": [
    {
     "data": {
      "text/plain": [
       "0.8202199627804445"
      ]
     },
     "execution_count": 86,
     "metadata": {},
     "output_type": "execute_result"
    }
   ],
   "source": [
    "loaded_model = pickle.load(open(filename, 'rb'))\n",
    "result = loaded_model.score(X_test, y_test)\n",
    "result"
   ]
  },
  {
   "cell_type": "markdown",
   "metadata": {},
   "source": [
    "### Feature Importance"
   ]
  },
  {
   "cell_type": "code",
   "execution_count": 87,
   "metadata": {},
   "outputs": [],
   "source": [
    "model_step = gs_best.named_steps['classifier']"
   ]
  },
  {
   "cell_type": "code",
   "execution_count": 88,
   "metadata": {},
   "outputs": [],
   "source": [
    "importance = model_step.feature_importances_"
   ]
  },
  {
   "cell_type": "code",
   "execution_count": 89,
   "metadata": {},
   "outputs": [
    {
     "name": "stdout",
     "output_type": "stream",
     "text": [
      "Feature: 0, Score: 0.00252\n",
      "Feature: 1, Score: 0.00258\n",
      "Feature: 2, Score: 0.01473\n",
      "Feature: 3, Score: 0.01969\n",
      "Feature: 4, Score: 0.00233\n",
      "Feature: 5, Score: 0.00734\n",
      "Feature: 6, Score: 0.00374\n",
      "Feature: 7, Score: 0.01193\n",
      "Feature: 8, Score: 0.00234\n",
      "Feature: 9, Score: 0.00350\n",
      "Feature: 10, Score: 0.00350\n",
      "Feature: 11, Score: 0.00292\n",
      "Feature: 12, Score: 0.00214\n",
      "Feature: 13, Score: 0.02992\n",
      "Feature: 14, Score: 0.00689\n",
      "Feature: 15, Score: 0.00374\n",
      "Feature: 16, Score: 0.03649\n",
      "Feature: 17, Score: 0.02873\n",
      "Feature: 18, Score: 0.03162\n",
      "Feature: 19, Score: 0.02009\n",
      "Feature: 20, Score: 0.00559\n",
      "Feature: 21, Score: 0.00787\n",
      "Feature: 22, Score: 0.00379\n",
      "Feature: 23, Score: 0.01416\n",
      "Feature: 24, Score: 0.00730\n",
      "Feature: 25, Score: 0.02943\n",
      "Feature: 26, Score: 0.02561\n",
      "Feature: 27, Score: 0.01982\n",
      "Feature: 28, Score: 0.03609\n",
      "Feature: 29, Score: 0.03174\n",
      "Feature: 30, Score: 0.02926\n",
      "Feature: 31, Score: 0.01596\n",
      "Feature: 32, Score: 0.01401\n",
      "Feature: 33, Score: 0.02473\n",
      "Feature: 34, Score: 0.02186\n",
      "Feature: 35, Score: 0.01952\n",
      "Feature: 36, Score: 0.01361\n",
      "Feature: 37, Score: 0.01189\n",
      "Feature: 38, Score: 0.02066\n",
      "Feature: 39, Score: 0.01006\n",
      "Feature: 40, Score: 0.00493\n",
      "Feature: 41, Score: 0.00779\n",
      "Feature: 42, Score: 0.00961\n",
      "Feature: 43, Score: 0.00783\n",
      "Feature: 44, Score: 0.00416\n",
      "Feature: 45, Score: 0.00372\n",
      "Feature: 46, Score: 0.00372\n",
      "Feature: 47, Score: 0.00703\n",
      "Feature: 48, Score: 0.00301\n",
      "Feature: 49, Score: 0.00502\n",
      "Feature: 50, Score: 0.00798\n",
      "Feature: 51, Score: 0.00311\n",
      "Feature: 52, Score: 0.00304\n",
      "Feature: 53, Score: 0.00150\n",
      "Feature: 54, Score: 0.00157\n",
      "Feature: 55, Score: 0.00000\n",
      "Feature: 56, Score: 0.00093\n",
      "Feature: 57, Score: 0.00152\n",
      "Feature: 58, Score: 0.00504\n",
      "Feature: 59, Score: 0.00226\n",
      "Feature: 60, Score: 0.00241\n",
      "Feature: 61, Score: 0.00480\n",
      "Feature: 62, Score: 0.02234\n",
      "Feature: 63, Score: 0.01079\n",
      "Feature: 64, Score: 0.00000\n",
      "Feature: 65, Score: 0.00000\n",
      "Feature: 66, Score: 0.00741\n",
      "Feature: 67, Score: 0.00311\n",
      "Feature: 68, Score: 0.03110\n",
      "Feature: 69, Score: 0.00232\n",
      "Feature: 70, Score: 0.00195\n",
      "Feature: 71, Score: 0.00229\n",
      "Feature: 72, Score: 0.00258\n",
      "Feature: 73, Score: 0.00236\n",
      "Feature: 74, Score: 0.00275\n",
      "Feature: 75, Score: 0.00427\n",
      "Feature: 76, Score: 0.00178\n",
      "Feature: 77, Score: 0.00223\n",
      "Feature: 78, Score: 0.00301\n",
      "Feature: 79, Score: 0.00548\n",
      "Feature: 80, Score: 0.00349\n",
      "Feature: 81, Score: 0.00225\n",
      "Feature: 82, Score: 0.00314\n",
      "Feature: 83, Score: 0.00223\n",
      "Feature: 84, Score: 0.00171\n",
      "Feature: 85, Score: 0.00182\n",
      "Feature: 86, Score: 0.00214\n",
      "Feature: 87, Score: 0.00000\n",
      "Feature: 88, Score: 0.00000\n",
      "Feature: 89, Score: 0.00421\n",
      "Feature: 90, Score: 0.00619\n",
      "Feature: 91, Score: 0.00235\n",
      "Feature: 92, Score: 0.00243\n",
      "Feature: 93, Score: 0.00228\n",
      "Feature: 94, Score: 0.00214\n",
      "Feature: 95, Score: 0.00173\n",
      "Feature: 96, Score: 0.00173\n",
      "Feature: 97, Score: 0.00148\n",
      "Feature: 98, Score: 0.00238\n",
      "Feature: 99, Score: 0.00211\n",
      "Feature: 100, Score: 0.00716\n",
      "Feature: 101, Score: 0.00301\n",
      "Feature: 102, Score: 0.00189\n",
      "Feature: 103, Score: 0.00152\n",
      "Feature: 104, Score: 0.00564\n",
      "Feature: 105, Score: 0.00190\n",
      "Feature: 106, Score: 0.00154\n",
      "Feature: 107, Score: 0.00267\n",
      "Feature: 108, Score: 0.00242\n",
      "Feature: 109, Score: 0.00172\n",
      "Feature: 110, Score: 0.00233\n",
      "Feature: 111, Score: 0.00225\n",
      "Feature: 112, Score: 0.00212\n",
      "Feature: 113, Score: 0.00252\n",
      "Feature: 114, Score: 0.00000\n",
      "Feature: 115, Score: 0.00234\n",
      "Feature: 116, Score: 0.00233\n",
      "Feature: 117, Score: 0.01442\n",
      "Feature: 118, Score: 0.00189\n",
      "Feature: 119, Score: 0.00299\n",
      "Feature: 120, Score: 0.00226\n",
      "Feature: 121, Score: 0.00181\n",
      "Feature: 122, Score: 0.00231\n",
      "Feature: 123, Score: 0.00150\n",
      "Feature: 124, Score: 0.00258\n",
      "Feature: 125, Score: 0.00000\n",
      "Feature: 126, Score: 0.08242\n",
      "Feature: 127, Score: 0.00000\n",
      "Feature: 128, Score: 0.00222\n",
      "Feature: 129, Score: 0.00000\n"
     ]
    }
   ],
   "source": [
    "for i,v in enumerate(importance):\n",
    " print('Feature: %0d, Score: %.5f' % (i,v))"
   ]
  },
  {
   "cell_type": "code",
   "execution_count": 99,
   "metadata": {},
   "outputs": [
    {
     "data": {
      "text/plain": [
       "<AxesSubplot:>"
      ]
     },
     "execution_count": 99,
     "metadata": {},
     "output_type": "execute_result"
    },
    {
     "data": {
      "image/png": "[encoded data removed]",
      "text/plain": [
       "<Figure size 1440x720 with 1 Axes>"
      ]
     },
     "metadata": {
      "needs_background": "light"
     },
     "output_type": "display_data"
    }
   ],
   "source": [
    "feature_important = model_step.get_booster().get_score(importance_type='weight')\n",
    "keys = list(feature_important.keys())\n",
    "values = list(feature_important.values())\n",
    "\n",
    "data = pd.DataFrame(data=values, index=keys, columns=[\"score\"]).sort_values(by = \"score\", ascending=False)\n",
    "data.nlargest(40, columns=\"score\").plot(kind='barh', figsize = (20,10)) ## plot top 40 features"
   ]
  },
  {
   "cell_type": "markdown",
   "metadata": {},
   "source": [
    "### K-Neighbors Model"
   ]
  },
  {
   "cell_type": "code",
   "execution_count": 59,
   "metadata": {},
   "outputs": [
    {
     "name": "stdout",
     "output_type": "stream",
     "text": [
      "below are the model evaluation statistics of Pipeline(steps=[('ct',\n",
      "                 ColumnTransformer(transformers=[('subpipe_num',\n",
      "                                                  Pipeline(steps=[('ss',\n",
      "                                                                   StandardScaler())]),\n",
      "                                                  ['loan_amnt', 'emp_length',\n",
      "                                                   'funded_amnt', 'int_rate',\n",
      "                                                   'annual_inc', 'dti',\n",
      "                                                   'open_acc', 'pub_rec',\n",
      "                                                   'revol_bal', 'revol_util',\n",
      "                                                   'total_acc',\n",
      "                                                   'Annual_Total_premium',\n",
      "                                                   'PTI', 'term',\n",
      "                                                   'inq_last_6mths', 'LTI']),\n",
      "                                                 ('subpipe_cate',\n",
      "                                                  Pipeline(steps=[('ohe',\n",
      "                                                                   OneHotEncoder(handle_unknown='ignore',\n",
      "                                                                                 sparse=False))]),\n",
      "                                                  ['grade', 'sub_grade',\n",
      "                                                   'home_ownership',\n",
      "                                                   'verification_status',\n",
      "                                                   'pymnt_plan', 'purpose',\n",
      "                                                   'addr_state',\n",
      "                                                   'initial_list_status',\n",
      "                                                   'application_type'])])),\n",
      "                ('model', KNeighborsClassifier())])\n",
      " train_score : 0.8189\n",
      " test_score : 0.7476\n",
      " log loss on training dataset : 0.3686\n",
      " log loss on test dataset : 2.0858\n",
      "CrossValidation on training dataset : 0.3304348437431007\n",
      "classification_report\n",
      "              precision    recall  f1-score   support\n",
      "\n",
      "           0       0.80      0.90      0.84     95692\n",
      "           1       0.44      0.27      0.33     29511\n",
      "\n",
      "    accuracy                           0.75    125203\n",
      "   macro avg       0.62      0.58      0.59    125203\n",
      "weighted avg       0.71      0.75      0.72    125203\n",
      "\n"
     ]
    },
    {
     "data": {
      "image/png": "[encoded data removed]",
      "text/plain": [
       "<Figure size 432x288 with 2 Axes>"
      ]
     },
     "metadata": {
      "needs_background": "light"
     },
     "output_type": "display_data"
    },
    {
     "data": {
      "image/png": "[encoded data removed]",
      "text/plain": [
       "<Figure size 432x288 with 1 Axes>"
      ]
     },
     "metadata": {
      "needs_background": "light"
     },
     "output_type": "display_data"
    }
   ],
   "source": [
    "model_eval(KNeighborsClassifier())"
   ]
  },
  {
   "cell_type": "code",
   "execution_count": 60,
   "metadata": {},
   "outputs": [
    {
     "name": "stdout",
     "output_type": "stream",
     "text": [
      "below are the model evaluation statistics of Pipeline(steps=[('ct',\n",
      "                 ColumnTransformer(transformers=[('subpipe_num',\n",
      "                                                  Pipeline(steps=[('ss',\n",
      "                                                                   StandardScaler())]),\n",
      "                                                  ['loan_amnt', 'emp_length',\n",
      "                                                   'funded_amnt', 'int_rate',\n",
      "                                                   'annual_inc', 'dti',\n",
      "                                                   'open_acc', 'pub_rec',\n",
      "                                                   'revol_bal', 'revol_util',\n",
      "                                                   'total_acc',\n",
      "                                                   'Annual_Total_premium',\n",
      "                                                   'PTI', 'term',\n",
      "                                                   'inq_last_6mths', 'LTI']),\n",
      "                                                 ('subpipe_cate',\n",
      "                                                  Pipeline(steps=[('ohe',\n",
      "                                                                   OneHotEncoder(handle_unknown='ignore',\n",
      "                                                                                 sparse=False))]),\n",
      "                                                  ['grade', 'sub_grade',\n",
      "                                                   'home_ownership',\n",
      "                                                   'verification_status',\n",
      "                                                   'pymnt_plan', 'purpose',\n",
      "                                                   'addr_state',\n",
      "                                                   'initial_list_status',\n",
      "                                                   'application_type'])])),\n",
      "                ('model', KNeighborsClassifier())])\n",
      " train_score : 0.8189\n",
      " test_score : 0.7476\n",
      " log loss on training dataset : 0.3686\n",
      " log loss on test dataset : 2.0858\n",
      "CrossValidation on training dataset : 0.3304348437431007\n",
      "classification_report\n",
      "              precision    recall  f1-score   support\n",
      "\n",
      "           0       0.80      0.90      0.84     95692\n",
      "           1       0.44      0.27      0.33     29511\n",
      "\n",
      "    accuracy                           0.75    125203\n",
      "   macro avg       0.62      0.58      0.59    125203\n",
      "weighted avg       0.71      0.75      0.72    125203\n",
      "\n"
     ]
    },
    {
     "data": {
      "image/png": "[encoded data removed]",
      "text/plain": [
       "<Figure size 432x288 with 2 Axes>"
      ]
     },
     "metadata": {
      "needs_background": "light"
     },
     "output_type": "display_data"
    },
    {
     "data": {
      "image/png": "[encoded data removed]",
      "text/plain": [
       "<Figure size 432x288 with 1 Axes>"
      ]
     },
     "metadata": {
      "needs_background": "light"
     },
     "output_type": "display_data"
    }
   ],
   "source": [
    "model_eval(KNeighborsClassifier(n_neighbors=5))"
   ]
  },
  {
   "cell_type": "markdown",
   "metadata": {},
   "source": [
    "### Random Forest Model"
   ]
  },
  {
   "cell_type": "code",
   "execution_count": 61,
   "metadata": {
    "scrolled": true
   },
   "outputs": [
    {
     "name": "stdout",
     "output_type": "stream",
     "text": [
      "below are the model evaluation statistics of Pipeline(steps=[('ct',\n",
      "                 ColumnTransformer(transformers=[('subpipe_num',\n",
      "                                                  Pipeline(steps=[('ss',\n",
      "                                                                   StandardScaler())]),\n",
      "                                                  ['loan_amnt', 'emp_length',\n",
      "                                                   'funded_amnt', 'int_rate',\n",
      "                                                   'annual_inc', 'dti',\n",
      "                                                   'open_acc', 'pub_rec',\n",
      "                                                   'revol_bal', 'revol_util',\n",
      "                                                   'total_acc',\n",
      "                                                   'Annual_Total_premium',\n",
      "                                                   'PTI', 'term',\n",
      "                                                   'inq_last_6mths', 'LTI']),\n",
      "                                                 ('subpipe_cate',\n",
      "                                                  Pipeline(steps=[('ohe',\n",
      "                                                                   OneHotEncoder(handle_unknown='ignore',\n",
      "                                                                                 sparse=False))]),\n",
      "                                                  ['grade', 'sub_grade',\n",
      "                                                   'home_ownership',\n",
      "                                                   'verification_status',\n",
      "                                                   'pymnt_plan', 'purpose',\n",
      "                                                   'addr_state',\n",
      "                                                   'initial_list_status',\n",
      "                                                   'application_type'])])),\n",
      "                ('model',\n",
      "                 RandomForestClassifier(min_samples_leaf=40, n_estimators=60))])\n",
      " train_score : 0.7869\n",
      " test_score : 0.7819\n",
      " log loss on training dataset : 0.449\n",
      " log loss on test dataset : 0.4659\n",
      "CrossValidation on training dataset : 0.18366436369489508\n",
      "classification_report\n",
      "              precision    recall  f1-score   support\n",
      "\n",
      "           0       0.78      0.98      0.87     95692\n",
      "           1       0.72      0.12      0.21     29511\n",
      "\n",
      "    accuracy                           0.78    125203\n",
      "   macro avg       0.75      0.55      0.54    125203\n",
      "weighted avg       0.77      0.78      0.72    125203\n",
      "\n"
     ]
    },
    {
     "data": {
      "image/png": "[encoded data removed]",
      "text/plain": [
       "<Figure size 432x288 with 2 Axes>"
      ]
     },
     "metadata": {
      "needs_background": "light"
     },
     "output_type": "display_data"
    },
    {
     "data": {
      "image/png": "[encoded data removed]",
      "text/plain": [
       "<Figure size 432x288 with 1 Axes>"
      ]
     },
     "metadata": {
      "needs_background": "light"
     },
     "output_type": "display_data"
    }
   ],
   "source": [
    "model_eval(RandomForestClassifier(min_samples_leaf=40, n_estimators=60))"
   ]
  },
  {
   "cell_type": "markdown",
   "metadata": {},
   "source": [
    "### Support Vector Machine (SVM)"
   ]
  },
  {
   "cell_type": "code",
   "execution_count": null,
   "metadata": {},
   "outputs": [],
   "source": [
    "model_eval(SVC())"
   ]
  },
  {
   "cell_type": "markdown",
   "metadata": {},
   "source": [
    "## Models with SMOTE"
   ]
  },
  {
   "cell_type": "markdown",
   "metadata": {},
   "source": [
    "### Random Forest with SMOTE"
   ]
  },
  {
   "cell_type": "code",
   "execution_count": 62,
   "metadata": {},
   "outputs": [
    {
     "data": {
      "text/html": [
       "<style>#sk-container-id-1 {color: black;background-color: white;}#sk-container-id-1 pre{padding: 0;}#sk-container-id-1 div.sk-toggleable {background-color: white;}#sk-container-id-1 label.sk-toggleable__label {cursor: pointer;display: block;width: 100%;margin-bottom: 0;padding: 0.3em;box-sizing: border-box;text-align: center;}#sk-container-id-1 label.sk-toggleable__label-arrow:before {content: \"▸\";float: left;margin-right: 0.25em;color: #696969;}#sk-container-id-1 label.sk-toggleable__label-arrow:hover:before {color: black;}#sk-container-id-1 div.sk-estimator:hover label.sk-toggleable__label-arrow:before {color: black;}#sk-container-id-1 div.sk-toggleable__content {max-height: 0;max-width: 0;overflow: hidden;text-align: left;background-color: #f0f8ff;}#sk-container-id-1 div.sk-toggleable__content pre {margin: 0.2em;color: black;border-radius: 0.25em;background-color: #f0f8ff;}#sk-container-id-1 input.sk-toggleable__control:checked~div.sk-toggleable__content {max-height: 200px;max-width: 100%;overflow: auto;}#sk-container-id-1 input.sk-toggleable__control:checked~label.sk-toggleable__label-arrow:before {content: \"▾\";}#sk-container-id-1 div.sk-estimator input.sk-toggleable__control:checked~label.sk-toggleable__label {background-color: #d4ebff;}#sk-container-id-1 div.sk-label input.sk-toggleable__control:checked~label.sk-toggleable__label {background-color: #d4ebff;}#sk-container-id-1 input.sk-hidden--visually {border: 0;clip: rect(1px 1px 1px 1px);clip: rect(1px, 1px, 1px, 1px);height: 1px;margin: -1px;overflow: hidden;padding: 0;position: absolute;width: 1px;}#sk-container-id-1 div.sk-estimator {font-family: monospace;background-color: #f0f8ff;border: 1px dotted black;border-radius: 0.25em;box-sizing: border-box;margin-bottom: 0.5em;}#sk-container-id-1 div.sk-estimator:hover {background-color: #d4ebff;}#sk-container-id-1 div.sk-parallel-item::after {content: \"\";width: 100%;border-bottom: 1px solid gray;flex-grow: 1;}#sk-container-id-1 div.sk-label:hover label.sk-toggleable__label {background-color: #d4ebff;}#sk-container-id-1 div.sk-serial::before {content: \"\";position: absolute;border-left: 1px solid gray;box-sizing: border-box;top: 0;bottom: 0;left: 50%;z-index: 0;}#sk-container-id-1 div.sk-serial {display: flex;flex-direction: column;align-items: center;background-color: white;padding-right: 0.2em;padding-left: 0.2em;position: relative;}#sk-container-id-1 div.sk-item {position: relative;z-index: 1;}#sk-container-id-1 div.sk-parallel {display: flex;align-items: stretch;justify-content: center;background-color: white;position: relative;}#sk-container-id-1 div.sk-item::before, #sk-container-id-1 div.sk-parallel-item::before {content: \"\";position: absolute;border-left: 1px solid gray;box-sizing: border-box;top: 0;bottom: 0;left: 50%;z-index: -1;}#sk-container-id-1 div.sk-parallel-item {display: flex;flex-direction: column;z-index: 1;position: relative;background-color: white;}#sk-container-id-1 div.sk-parallel-item:first-child::after {align-self: flex-end;width: 50%;}#sk-container-id-1 div.sk-parallel-item:last-child::after {align-self: flex-start;width: 50%;}#sk-container-id-1 div.sk-parallel-item:only-child::after {width: 0;}#sk-container-id-1 div.sk-dashed-wrapped {border: 1px dashed gray;margin: 0 0.4em 0.5em 0.4em;box-sizing: border-box;padding-bottom: 0.4em;background-color: white;}#sk-container-id-1 div.sk-label label {font-family: monospace;font-weight: bold;display: inline-block;line-height: 1.2em;}#sk-container-id-1 div.sk-label-container {text-align: center;}#sk-container-id-1 div.sk-container {/* jupyter's `normalize.less` sets `[hidden] { display: none; }` but bootstrap.min.css set `[hidden] { display: none !important; }` so we also need the `!important` here to be able to override the default hidden behavior on the sphinx rendered scikit-learn.org. See: https://github.com/scikit-learn/scikit-learn/issues/21755 */display: inline-block !important;position: relative;}#sk-container-id-1 div.sk-text-repr-fallback {display: none;}</style><div id=\"sk-container-id-1\" class=\"sk-top-container\"><div class=\"sk-text-repr-fallback\"><pre>Pipeline(steps=[(&#x27;ct&#x27;,\n",
       "                 ColumnTransformer(transformers=[(&#x27;subpipe_num&#x27;,\n",
       "                                                  Pipeline(steps=[(&#x27;ss&#x27;,\n",
       "                                                                   StandardScaler())]),\n",
       "                                                  [&#x27;loan_amnt&#x27;, &#x27;emp_length&#x27;,\n",
       "                                                   &#x27;funded_amnt&#x27;, &#x27;int_rate&#x27;,\n",
       "                                                   &#x27;annual_inc&#x27;, &#x27;dti&#x27;,\n",
       "                                                   &#x27;open_acc&#x27;, &#x27;pub_rec&#x27;,\n",
       "                                                   &#x27;revol_bal&#x27;, &#x27;revol_util&#x27;,\n",
       "                                                   &#x27;total_acc&#x27;,\n",
       "                                                   &#x27;Annual_Total_premium&#x27;,\n",
       "                                                   &#x27;PTI&#x27;, &#x27;term&#x27;,\n",
       "                                                   &#x27;inq_last_6mths&#x27;, &#x27;LTI&#x27;]),\n",
       "                                                 (&#x27;subpipe_cate&#x27;,\n",
       "                                                  Pipeline(steps=[(&#x27;ohe&#x27;,\n",
       "                                                                   OneHotEncoder(handle_unknown=&#x27;ignore&#x27;,\n",
       "                                                                                 sparse=False))]),\n",
       "                                                  [&#x27;grade&#x27;, &#x27;sub_grade&#x27;,\n",
       "                                                   &#x27;home_ownership&#x27;,\n",
       "                                                   &#x27;verification_status&#x27;,\n",
       "                                                   &#x27;pymnt_plan&#x27;, &#x27;purpose&#x27;,\n",
       "                                                   &#x27;addr_state&#x27;,\n",
       "                                                   &#x27;initial_list_status&#x27;,\n",
       "                                                   &#x27;application_type&#x27;])])),\n",
       "                (&#x27;smote&#x27;, SMOTE(random_state=9)),\n",
       "                (&#x27;classifier&#x27;, RandomForestClassifier(random_state=100))])</pre><b>In a Jupyter environment, please rerun this cell to show the HTML representation or trust the notebook. <br />On GitHub, the HTML representation is unable to render, please try loading this page with nbviewer.org.</b></div><div class=\"sk-container\" hidden><div class=\"sk-item sk-dashed-wrapped\"><div class=\"sk-label-container\"><div class=\"sk-label sk-toggleable\"><input class=\"sk-toggleable__control sk-hidden--visually\" id=\"sk-estimator-id-1\" type=\"checkbox\" ><label for=\"sk-estimator-id-1\" class=\"sk-toggleable__label sk-toggleable__label-arrow\">Pipeline</label><div class=\"sk-toggleable__content\"><pre>Pipeline(steps=[(&#x27;ct&#x27;,\n",
       "                 ColumnTransformer(transformers=[(&#x27;subpipe_num&#x27;,\n",
       "                                                  Pipeline(steps=[(&#x27;ss&#x27;,\n",
       "                                                                   StandardScaler())]),\n",
       "                                                  [&#x27;loan_amnt&#x27;, &#x27;emp_length&#x27;,\n",
       "                                                   &#x27;funded_amnt&#x27;, &#x27;int_rate&#x27;,\n",
       "                                                   &#x27;annual_inc&#x27;, &#x27;dti&#x27;,\n",
       "                                                   &#x27;open_acc&#x27;, &#x27;pub_rec&#x27;,\n",
       "                                                   &#x27;revol_bal&#x27;, &#x27;revol_util&#x27;,\n",
       "                                                   &#x27;total_acc&#x27;,\n",
       "                                                   &#x27;Annual_Total_premium&#x27;,\n",
       "                                                   &#x27;PTI&#x27;, &#x27;term&#x27;,\n",
       "                                                   &#x27;inq_last_6mths&#x27;, &#x27;LTI&#x27;]),\n",
       "                                                 (&#x27;subpipe_cate&#x27;,\n",
       "                                                  Pipeline(steps=[(&#x27;ohe&#x27;,\n",
       "                                                                   OneHotEncoder(handle_unknown=&#x27;ignore&#x27;,\n",
       "                                                                                 sparse=False))]),\n",
       "                                                  [&#x27;grade&#x27;, &#x27;sub_grade&#x27;,\n",
       "                                                   &#x27;home_ownership&#x27;,\n",
       "                                                   &#x27;verification_status&#x27;,\n",
       "                                                   &#x27;pymnt_plan&#x27;, &#x27;purpose&#x27;,\n",
       "                                                   &#x27;addr_state&#x27;,\n",
       "                                                   &#x27;initial_list_status&#x27;,\n",
       "                                                   &#x27;application_type&#x27;])])),\n",
       "                (&#x27;smote&#x27;, SMOTE(random_state=9)),\n",
       "                (&#x27;classifier&#x27;, RandomForestClassifier(random_state=100))])</pre></div></div></div><div class=\"sk-serial\"><div class=\"sk-item sk-dashed-wrapped\"><div class=\"sk-label-container\"><div class=\"sk-label sk-toggleable\"><input class=\"sk-toggleable__control sk-hidden--visually\" id=\"sk-estimator-id-2\" type=\"checkbox\" ><label for=\"sk-estimator-id-2\" class=\"sk-toggleable__label sk-toggleable__label-arrow\">ct: ColumnTransformer</label><div class=\"sk-toggleable__content\"><pre>ColumnTransformer(transformers=[(&#x27;subpipe_num&#x27;,\n",
       "                                 Pipeline(steps=[(&#x27;ss&#x27;, StandardScaler())]),\n",
       "                                 [&#x27;loan_amnt&#x27;, &#x27;emp_length&#x27;, &#x27;funded_amnt&#x27;,\n",
       "                                  &#x27;int_rate&#x27;, &#x27;annual_inc&#x27;, &#x27;dti&#x27;, &#x27;open_acc&#x27;,\n",
       "                                  &#x27;pub_rec&#x27;, &#x27;revol_bal&#x27;, &#x27;revol_util&#x27;,\n",
       "                                  &#x27;total_acc&#x27;, &#x27;Annual_Total_premium&#x27;, &#x27;PTI&#x27;,\n",
       "                                  &#x27;term&#x27;, &#x27;inq_last_6mths&#x27;, &#x27;LTI&#x27;]),\n",
       "                                (&#x27;subpipe_cate&#x27;,\n",
       "                                 Pipeline(steps=[(&#x27;ohe&#x27;,\n",
       "                                                  OneHotEncoder(handle_unknown=&#x27;ignore&#x27;,\n",
       "                                                                sparse=False))]),\n",
       "                                 [&#x27;grade&#x27;, &#x27;sub_grade&#x27;, &#x27;home_ownership&#x27;,\n",
       "                                  &#x27;verification_status&#x27;, &#x27;pymnt_plan&#x27;,\n",
       "                                  &#x27;purpose&#x27;, &#x27;addr_state&#x27;,\n",
       "                                  &#x27;initial_list_status&#x27;, &#x27;application_type&#x27;])])</pre></div></div></div><div class=\"sk-parallel\"><div class=\"sk-parallel-item\"><div class=\"sk-item\"><div class=\"sk-label-container\"><div class=\"sk-label sk-toggleable\"><input class=\"sk-toggleable__control sk-hidden--visually\" id=\"sk-estimator-id-3\" type=\"checkbox\" ><label for=\"sk-estimator-id-3\" class=\"sk-toggleable__label sk-toggleable__label-arrow\">subpipe_num</label><div class=\"sk-toggleable__content\"><pre>[&#x27;loan_amnt&#x27;, &#x27;emp_length&#x27;, &#x27;funded_amnt&#x27;, &#x27;int_rate&#x27;, &#x27;annual_inc&#x27;, &#x27;dti&#x27;, &#x27;open_acc&#x27;, &#x27;pub_rec&#x27;, &#x27;revol_bal&#x27;, &#x27;revol_util&#x27;, &#x27;total_acc&#x27;, &#x27;Annual_Total_premium&#x27;, &#x27;PTI&#x27;, &#x27;term&#x27;, &#x27;inq_last_6mths&#x27;, &#x27;LTI&#x27;]</pre></div></div></div><div class=\"sk-serial\"><div class=\"sk-item\"><div class=\"sk-serial\"><div class=\"sk-item\"><div class=\"sk-estimator sk-toggleable\"><input class=\"sk-toggleable__control sk-hidden--visually\" id=\"sk-estimator-id-4\" type=\"checkbox\" ><label for=\"sk-estimator-id-4\" class=\"sk-toggleable__label sk-toggleable__label-arrow\">StandardScaler</label><div class=\"sk-toggleable__content\"><pre>StandardScaler()</pre></div></div></div></div></div></div></div></div><div class=\"sk-parallel-item\"><div class=\"sk-item\"><div class=\"sk-label-container\"><div class=\"sk-label sk-toggleable\"><input class=\"sk-toggleable__control sk-hidden--visually\" id=\"sk-estimator-id-5\" type=\"checkbox\" ><label for=\"sk-estimator-id-5\" class=\"sk-toggleable__label sk-toggleable__label-arrow\">subpipe_cate</label><div class=\"sk-toggleable__content\"><pre>[&#x27;grade&#x27;, &#x27;sub_grade&#x27;, &#x27;home_ownership&#x27;, &#x27;verification_status&#x27;, &#x27;pymnt_plan&#x27;, &#x27;purpose&#x27;, &#x27;addr_state&#x27;, &#x27;initial_list_status&#x27;, &#x27;application_type&#x27;]</pre></div></div></div><div class=\"sk-serial\"><div class=\"sk-item\"><div class=\"sk-serial\"><div class=\"sk-item\"><div class=\"sk-estimator sk-toggleable\"><input class=\"sk-toggleable__control sk-hidden--visually\" id=\"sk-estimator-id-6\" type=\"checkbox\" ><label for=\"sk-estimator-id-6\" class=\"sk-toggleable__label sk-toggleable__label-arrow\">OneHotEncoder</label><div class=\"sk-toggleable__content\"><pre>OneHotEncoder(handle_unknown=&#x27;ignore&#x27;, sparse=False)</pre></div></div></div></div></div></div></div></div></div></div><div class=\"sk-item\"><div class=\"sk-estimator sk-toggleable\"><input class=\"sk-toggleable__control sk-hidden--visually\" id=\"sk-estimator-id-7\" type=\"checkbox\" ><label for=\"sk-estimator-id-7\" class=\"sk-toggleable__label sk-toggleable__label-arrow\">SMOTE</label><div class=\"sk-toggleable__content\"><pre>SMOTE(random_state=9)</pre></div></div></div><div class=\"sk-item\"><div class=\"sk-estimator sk-toggleable\"><input class=\"sk-toggleable__control sk-hidden--visually\" id=\"sk-estimator-id-8\" type=\"checkbox\" ><label for=\"sk-estimator-id-8\" class=\"sk-toggleable__label sk-toggleable__label-arrow\">RandomForestClassifier</label><div class=\"sk-toggleable__content\"><pre>RandomForestClassifier(random_state=100)</pre></div></div></div></div></div></div></div>"
      ],
      "text/plain": [
       "Pipeline(steps=[('ct',\n",
       "                 ColumnTransformer(transformers=[('subpipe_num',\n",
       "                                                  Pipeline(steps=[('ss',\n",
       "                                                                   StandardScaler())]),\n",
       "                                                  ['loan_amnt', 'emp_length',\n",
       "                                                   'funded_amnt', 'int_rate',\n",
       "                                                   'annual_inc', 'dti',\n",
       "                                                   'open_acc', 'pub_rec',\n",
       "                                                   'revol_bal', 'revol_util',\n",
       "                                                   'total_acc',\n",
       "                                                   'Annual_Total_premium',\n",
       "                                                   'PTI', 'term',\n",
       "                                                   'inq_last_6mths', 'LTI']),\n",
       "                                                 ('subpipe_cate',\n",
       "                                                  Pipeline(steps=[('ohe',\n",
       "                                                                   OneHotEncoder(handle_unknown='ignore',\n",
       "                                                                                 sparse=False))]),\n",
       "                                                  ['grade', 'sub_grade',\n",
       "                                                   'home_ownership',\n",
       "                                                   'verification_status',\n",
       "                                                   'pymnt_plan', 'purpose',\n",
       "                                                   'addr_state',\n",
       "                                                   'initial_list_status',\n",
       "                                                   'application_type'])])),\n",
       "                ('smote', SMOTE(random_state=9)),\n",
       "                ('classifier', RandomForestClassifier(random_state=100))])"
      ]
     },
     "execution_count": 62,
     "metadata": {},
     "output_type": "execute_result"
    }
   ],
   "source": [
    "rf_clf = RandomForestClassifier(criterion='gini', bootstrap=True, random_state=100)\n",
    "smote_sampler = SMOTE(random_state=9)\n",
    "pipeline = Pipeline(steps=[\n",
    "    ('ct',CT),\n",
    "    ('smote', smote_sampler),\n",
    "    ('classifier', rf_clf)])\n",
    "\n",
    "pipeline.fit(X_train, y_train)"
   ]
  },
  {
   "cell_type": "code",
   "execution_count": 63,
   "metadata": {},
   "outputs": [],
   "source": [
    "y_pred = pipeline.predict(X_test)"
   ]
  },
  {
   "cell_type": "code",
   "execution_count": 64,
   "metadata": {},
   "outputs": [
    {
     "name": "stdout",
     "output_type": "stream",
     "text": [
      "Recall: 34.1568\n",
      "Precision: 58.0411\n",
      "F1-Score: 43.0052\n",
      "Accuracy score: 78.6603\n",
      "AUC Score: 63.2708\n"
     ]
    }
   ],
   "source": [
    "print(f\"Recall: { round(recall_score(y_test, y_pred)*100, 4) }\")\n",
    "print(f\"Precision: { round(precision_score(y_test, y_pred)*100, 4) }\")\n",
    "print(f\"F1-Score: { round(f1_score(y_test, y_pred)*100, 4) }\")\n",
    "print(f\"Accuracy score: { round(accuracy_score(y_test, y_pred)*100, 4) }\")\n",
    "print(f\"AUC Score: { round(roc_auc_score(y_test, y_pred)*100, 4) }\")"
   ]
  },
  {
   "cell_type": "markdown",
   "metadata": {},
   "source": [
    "### XG Boost with SMOTE"
   ]
  },
  {
   "cell_type": "code",
   "execution_count": 65,
   "metadata": {},
   "outputs": [
    {
     "data": {
      "text/html": [
       "<style>#sk-container-id-2 {color: black;background-color: white;}#sk-container-id-2 pre{padding: 0;}#sk-container-id-2 div.sk-toggleable {background-color: white;}#sk-container-id-2 label.sk-toggleable__label {cursor: pointer;display: block;width: 100%;margin-bottom: 0;padding: 0.3em;box-sizing: border-box;text-align: center;}#sk-container-id-2 label.sk-toggleable__label-arrow:before {content: \"▸\";float: left;margin-right: 0.25em;color: #696969;}#sk-container-id-2 label.sk-toggleable__label-arrow:hover:before {color: black;}#sk-container-id-2 div.sk-estimator:hover label.sk-toggleable__label-arrow:before {color: black;}#sk-container-id-2 div.sk-toggleable__content {max-height: 0;max-width: 0;overflow: hidden;text-align: left;background-color: #f0f8ff;}#sk-container-id-2 div.sk-toggleable__content pre {margin: 0.2em;color: black;border-radius: 0.25em;background-color: #f0f8ff;}#sk-container-id-2 input.sk-toggleable__control:checked~div.sk-toggleable__content {max-height: 200px;max-width: 100%;overflow: auto;}#sk-container-id-2 input.sk-toggleable__control:checked~label.sk-toggleable__label-arrow:before {content: \"▾\";}#sk-container-id-2 div.sk-estimator input.sk-toggleable__control:checked~label.sk-toggleable__label {background-color: #d4ebff;}#sk-container-id-2 div.sk-label input.sk-toggleable__control:checked~label.sk-toggleable__label {background-color: #d4ebff;}#sk-container-id-2 input.sk-hidden--visually {border: 0;clip: rect(1px 1px 1px 1px);clip: rect(1px, 1px, 1px, 1px);height: 1px;margin: -1px;overflow: hidden;padding: 0;position: absolute;width: 1px;}#sk-container-id-2 div.sk-estimator {font-family: monospace;background-color: #f0f8ff;border: 1px dotted black;border-radius: 0.25em;box-sizing: border-box;margin-bottom: 0.5em;}#sk-container-id-2 div.sk-estimator:hover {background-color: #d4ebff;}#sk-container-id-2 div.sk-parallel-item::after {content: \"\";width: 100%;border-bottom: 1px solid gray;flex-grow: 1;}#sk-container-id-2 div.sk-label:hover label.sk-toggleable__label {background-color: #d4ebff;}#sk-container-id-2 div.sk-serial::before {content: \"\";position: absolute;border-left: 1px solid gray;box-sizing: border-box;top: 0;bottom: 0;left: 50%;z-index: 0;}#sk-container-id-2 div.sk-serial {display: flex;flex-direction: column;align-items: center;background-color: white;padding-right: 0.2em;padding-left: 0.2em;position: relative;}#sk-container-id-2 div.sk-item {position: relative;z-index: 1;}#sk-container-id-2 div.sk-parallel {display: flex;align-items: stretch;justify-content: center;background-color: white;position: relative;}#sk-container-id-2 div.sk-item::before, #sk-container-id-2 div.sk-parallel-item::before {content: \"\";position: absolute;border-left: 1px solid gray;box-sizing: border-box;top: 0;bottom: 0;left: 50%;z-index: -1;}#sk-container-id-2 div.sk-parallel-item {display: flex;flex-direction: column;z-index: 1;position: relative;background-color: white;}#sk-container-id-2 div.sk-parallel-item:first-child::after {align-self: flex-end;width: 50%;}#sk-container-id-2 div.sk-parallel-item:last-child::after {align-self: flex-start;width: 50%;}#sk-container-id-2 div.sk-parallel-item:only-child::after {width: 0;}#sk-container-id-2 div.sk-dashed-wrapped {border: 1px dashed gray;margin: 0 0.4em 0.5em 0.4em;box-sizing: border-box;padding-bottom: 0.4em;background-color: white;}#sk-container-id-2 div.sk-label label {font-family: monospace;font-weight: bold;display: inline-block;line-height: 1.2em;}#sk-container-id-2 div.sk-label-container {text-align: center;}#sk-container-id-2 div.sk-container {/* jupyter's `normalize.less` sets `[hidden] { display: none; }` but bootstrap.min.css set `[hidden] { display: none !important; }` so we also need the `!important` here to be able to override the default hidden behavior on the sphinx rendered scikit-learn.org. See: https://github.com/scikit-learn/scikit-learn/issues/21755 */display: inline-block !important;position: relative;}#sk-container-id-2 div.sk-text-repr-fallback {display: none;}</style><div id=\"sk-container-id-2\" class=\"sk-top-container\"><div class=\"sk-text-repr-fallback\"><pre>Pipeline(steps=[(&#x27;ct&#x27;,\n",
       "                 ColumnTransformer(transformers=[(&#x27;subpipe_num&#x27;,\n",
       "                                                  Pipeline(steps=[(&#x27;ss&#x27;,\n",
       "                                                                   StandardScaler())]),\n",
       "                                                  [&#x27;loan_amnt&#x27;, &#x27;emp_length&#x27;,\n",
       "                                                   &#x27;funded_amnt&#x27;, &#x27;int_rate&#x27;,\n",
       "                                                   &#x27;annual_inc&#x27;, &#x27;dti&#x27;,\n",
       "                                                   &#x27;open_acc&#x27;, &#x27;pub_rec&#x27;,\n",
       "                                                   &#x27;revol_bal&#x27;, &#x27;revol_util&#x27;,\n",
       "                                                   &#x27;total_acc&#x27;,\n",
       "                                                   &#x27;Annual_Total_premium&#x27;,\n",
       "                                                   &#x27;PTI&#x27;, &#x27;term&#x27;,\n",
       "                                                   &#x27;inq_last_6mths&#x27;, &#x27;LTI&#x27;]),\n",
       "                                                 (&#x27;subpipe_cate&#x27;,\n",
       "                                                  Pipeline(steps=[(&#x27;ohe&#x27;,\n",
       "                                                                   OneHotEncod...\n",
       "                               colsample_bytree=1, gamma=0, gpu_id=-1,\n",
       "                               importance_type=&#x27;gain&#x27;,\n",
       "                               interaction_constraints=&#x27;&#x27;,\n",
       "                               learning_rate=0.300000012, max_delta_step=0,\n",
       "                               max_depth=6, min_child_weight=1, missing=nan,\n",
       "                               monotone_constraints=&#x27;()&#x27;, n_estimators=100,\n",
       "                               n_jobs=0, num_parallel_tree=1, random_state=0,\n",
       "                               reg_alpha=0, reg_lambda=1, scale_pos_weight=1,\n",
       "                               subsample=1, tree_method=&#x27;exact&#x27;,\n",
       "                               validate_parameters=1, verbosity=None))])</pre><b>In a Jupyter environment, please rerun this cell to show the HTML representation or trust the notebook. <br />On GitHub, the HTML representation is unable to render, please try loading this page with nbviewer.org.</b></div><div class=\"sk-container\" hidden><div class=\"sk-item sk-dashed-wrapped\"><div class=\"sk-label-container\"><div class=\"sk-label sk-toggleable\"><input class=\"sk-toggleable__control sk-hidden--visually\" id=\"sk-estimator-id-9\" type=\"checkbox\" ><label for=\"sk-estimator-id-9\" class=\"sk-toggleable__label sk-toggleable__label-arrow\">Pipeline</label><div class=\"sk-toggleable__content\"><pre>Pipeline(steps=[(&#x27;ct&#x27;,\n",
       "                 ColumnTransformer(transformers=[(&#x27;subpipe_num&#x27;,\n",
       "                                                  Pipeline(steps=[(&#x27;ss&#x27;,\n",
       "                                                                   StandardScaler())]),\n",
       "                                                  [&#x27;loan_amnt&#x27;, &#x27;emp_length&#x27;,\n",
       "                                                   &#x27;funded_amnt&#x27;, &#x27;int_rate&#x27;,\n",
       "                                                   &#x27;annual_inc&#x27;, &#x27;dti&#x27;,\n",
       "                                                   &#x27;open_acc&#x27;, &#x27;pub_rec&#x27;,\n",
       "                                                   &#x27;revol_bal&#x27;, &#x27;revol_util&#x27;,\n",
       "                                                   &#x27;total_acc&#x27;,\n",
       "                                                   &#x27;Annual_Total_premium&#x27;,\n",
       "                                                   &#x27;PTI&#x27;, &#x27;term&#x27;,\n",
       "                                                   &#x27;inq_last_6mths&#x27;, &#x27;LTI&#x27;]),\n",
       "                                                 (&#x27;subpipe_cate&#x27;,\n",
       "                                                  Pipeline(steps=[(&#x27;ohe&#x27;,\n",
       "                                                                   OneHotEncod...\n",
       "                               colsample_bytree=1, gamma=0, gpu_id=-1,\n",
       "                               importance_type=&#x27;gain&#x27;,\n",
       "                               interaction_constraints=&#x27;&#x27;,\n",
       "                               learning_rate=0.300000012, max_delta_step=0,\n",
       "                               max_depth=6, min_child_weight=1, missing=nan,\n",
       "                               monotone_constraints=&#x27;()&#x27;, n_estimators=100,\n",
       "                               n_jobs=0, num_parallel_tree=1, random_state=0,\n",
       "                               reg_alpha=0, reg_lambda=1, scale_pos_weight=1,\n",
       "                               subsample=1, tree_method=&#x27;exact&#x27;,\n",
       "                               validate_parameters=1, verbosity=None))])</pre></div></div></div><div class=\"sk-serial\"><div class=\"sk-item sk-dashed-wrapped\"><div class=\"sk-label-container\"><div class=\"sk-label sk-toggleable\"><input class=\"sk-toggleable__control sk-hidden--visually\" id=\"sk-estimator-id-10\" type=\"checkbox\" ><label for=\"sk-estimator-id-10\" class=\"sk-toggleable__label sk-toggleable__label-arrow\">ct: ColumnTransformer</label><div class=\"sk-toggleable__content\"><pre>ColumnTransformer(transformers=[(&#x27;subpipe_num&#x27;,\n",
       "                                 Pipeline(steps=[(&#x27;ss&#x27;, StandardScaler())]),\n",
       "                                 [&#x27;loan_amnt&#x27;, &#x27;emp_length&#x27;, &#x27;funded_amnt&#x27;,\n",
       "                                  &#x27;int_rate&#x27;, &#x27;annual_inc&#x27;, &#x27;dti&#x27;, &#x27;open_acc&#x27;,\n",
       "                                  &#x27;pub_rec&#x27;, &#x27;revol_bal&#x27;, &#x27;revol_util&#x27;,\n",
       "                                  &#x27;total_acc&#x27;, &#x27;Annual_Total_premium&#x27;, &#x27;PTI&#x27;,\n",
       "                                  &#x27;term&#x27;, &#x27;inq_last_6mths&#x27;, &#x27;LTI&#x27;]),\n",
       "                                (&#x27;subpipe_cate&#x27;,\n",
       "                                 Pipeline(steps=[(&#x27;ohe&#x27;,\n",
       "                                                  OneHotEncoder(handle_unknown=&#x27;ignore&#x27;,\n",
       "                                                                sparse=False))]),\n",
       "                                 [&#x27;grade&#x27;, &#x27;sub_grade&#x27;, &#x27;home_ownership&#x27;,\n",
       "                                  &#x27;verification_status&#x27;, &#x27;pymnt_plan&#x27;,\n",
       "                                  &#x27;purpose&#x27;, &#x27;addr_state&#x27;,\n",
       "                                  &#x27;initial_list_status&#x27;, &#x27;application_type&#x27;])])</pre></div></div></div><div class=\"sk-parallel\"><div class=\"sk-parallel-item\"><div class=\"sk-item\"><div class=\"sk-label-container\"><div class=\"sk-label sk-toggleable\"><input class=\"sk-toggleable__control sk-hidden--visually\" id=\"sk-estimator-id-11\" type=\"checkbox\" ><label for=\"sk-estimator-id-11\" class=\"sk-toggleable__label sk-toggleable__label-arrow\">subpipe_num</label><div class=\"sk-toggleable__content\"><pre>[&#x27;loan_amnt&#x27;, &#x27;emp_length&#x27;, &#x27;funded_amnt&#x27;, &#x27;int_rate&#x27;, &#x27;annual_inc&#x27;, &#x27;dti&#x27;, &#x27;open_acc&#x27;, &#x27;pub_rec&#x27;, &#x27;revol_bal&#x27;, &#x27;revol_util&#x27;, &#x27;total_acc&#x27;, &#x27;Annual_Total_premium&#x27;, &#x27;PTI&#x27;, &#x27;term&#x27;, &#x27;inq_last_6mths&#x27;, &#x27;LTI&#x27;]</pre></div></div></div><div class=\"sk-serial\"><div class=\"sk-item\"><div class=\"sk-serial\"><div class=\"sk-item\"><div class=\"sk-estimator sk-toggleable\"><input class=\"sk-toggleable__control sk-hidden--visually\" id=\"sk-estimator-id-12\" type=\"checkbox\" ><label for=\"sk-estimator-id-12\" class=\"sk-toggleable__label sk-toggleable__label-arrow\">StandardScaler</label><div class=\"sk-toggleable__content\"><pre>StandardScaler()</pre></div></div></div></div></div></div></div></div><div class=\"sk-parallel-item\"><div class=\"sk-item\"><div class=\"sk-label-container\"><div class=\"sk-label sk-toggleable\"><input class=\"sk-toggleable__control sk-hidden--visually\" id=\"sk-estimator-id-13\" type=\"checkbox\" ><label for=\"sk-estimator-id-13\" class=\"sk-toggleable__label sk-toggleable__label-arrow\">subpipe_cate</label><div class=\"sk-toggleable__content\"><pre>[&#x27;grade&#x27;, &#x27;sub_grade&#x27;, &#x27;home_ownership&#x27;, &#x27;verification_status&#x27;, &#x27;pymnt_plan&#x27;, &#x27;purpose&#x27;, &#x27;addr_state&#x27;, &#x27;initial_list_status&#x27;, &#x27;application_type&#x27;]</pre></div></div></div><div class=\"sk-serial\"><div class=\"sk-item\"><div class=\"sk-serial\"><div class=\"sk-item\"><div class=\"sk-estimator sk-toggleable\"><input class=\"sk-toggleable__control sk-hidden--visually\" id=\"sk-estimator-id-14\" type=\"checkbox\" ><label for=\"sk-estimator-id-14\" class=\"sk-toggleable__label sk-toggleable__label-arrow\">OneHotEncoder</label><div class=\"sk-toggleable__content\"><pre>OneHotEncoder(handle_unknown=&#x27;ignore&#x27;, sparse=False)</pre></div></div></div></div></div></div></div></div></div></div><div class=\"sk-item\"><div class=\"sk-estimator sk-toggleable\"><input class=\"sk-toggleable__control sk-hidden--visually\" id=\"sk-estimator-id-15\" type=\"checkbox\" ><label for=\"sk-estimator-id-15\" class=\"sk-toggleable__label sk-toggleable__label-arrow\">SMOTE</label><div class=\"sk-toggleable__content\"><pre>SMOTE(random_state=9)</pre></div></div></div><div class=\"sk-item\"><div class=\"sk-estimator sk-toggleable\"><input class=\"sk-toggleable__control sk-hidden--visually\" id=\"sk-estimator-id-16\" type=\"checkbox\" ><label for=\"sk-estimator-id-16\" class=\"sk-toggleable__label sk-toggleable__label-arrow\">XGBClassifier</label><div class=\"sk-toggleable__content\"><pre>XGBClassifier(base_score=0.5, booster=&#x27;gbtree&#x27;, colsample_bylevel=1,\n",
       "              colsample_bynode=1, colsample_bytree=1, gamma=0, gpu_id=-1,\n",
       "              importance_type=&#x27;gain&#x27;, interaction_constraints=&#x27;&#x27;,\n",
       "              learning_rate=0.300000012, max_delta_step=0, max_depth=6,\n",
       "              min_child_weight=1, missing=nan, monotone_constraints=&#x27;()&#x27;,\n",
       "              n_estimators=100, n_jobs=0, num_parallel_tree=1, random_state=0,\n",
       "              reg_alpha=0, reg_lambda=1, scale_pos_weight=1, subsample=1,\n",
       "              tree_method=&#x27;exact&#x27;, validate_parameters=1, verbosity=None)</pre></div></div></div></div></div></div></div>"
      ],
      "text/plain": [
       "Pipeline(steps=[('ct',\n",
       "                 ColumnTransformer(transformers=[('subpipe_num',\n",
       "                                                  Pipeline(steps=[('ss',\n",
       "                                                                   StandardScaler())]),\n",
       "                                                  ['loan_amnt', 'emp_length',\n",
       "                                                   'funded_amnt', 'int_rate',\n",
       "                                                   'annual_inc', 'dti',\n",
       "                                                   'open_acc', 'pub_rec',\n",
       "                                                   'revol_bal', 'revol_util',\n",
       "                                                   'total_acc',\n",
       "                                                   'Annual_Total_premium',\n",
       "                                                   'PTI', 'term',\n",
       "                                                   'inq_last_6mths', 'LTI']),\n",
       "                                                 ('subpipe_cate',\n",
       "                                                  Pipeline(steps=[('ohe',\n",
       "                                                                   OneHotEncod...\n",
       "                               colsample_bytree=1, gamma=0, gpu_id=-1,\n",
       "                               importance_type='gain',\n",
       "                               interaction_constraints='',\n",
       "                               learning_rate=0.300000012, max_delta_step=0,\n",
       "                               max_depth=6, min_child_weight=1, missing=nan,\n",
       "                               monotone_constraints='()', n_estimators=100,\n",
       "                               n_jobs=0, num_parallel_tree=1, random_state=0,\n",
       "                               reg_alpha=0, reg_lambda=1, scale_pos_weight=1,\n",
       "                               subsample=1, tree_method='exact',\n",
       "                               validate_parameters=1, verbosity=None))])"
      ]
     },
     "execution_count": 65,
     "metadata": {},
     "output_type": "execute_result"
    }
   ],
   "source": [
    "XB_clf = XGBClassifier()\n",
    "smote_sampler = SMOTE(random_state=9)\n",
    "pipeline_XB = Pipeline(steps=[\n",
    "    ('ct',CT),\n",
    "    ('smote', smote_sampler),\n",
    "    ('classifier', XB_clf)])\n",
    "\n",
    "pipeline_XB.fit(X_train, y_train)"
   ]
  },
  {
   "cell_type": "code",
   "execution_count": 69,
   "metadata": {},
   "outputs": [
    {
     "name": "stdout",
     "output_type": "stream",
     "text": [
      "below are the model evaluation statistics of Pipeline(steps=[('ct',\n",
      "                 ColumnTransformer(transformers=[('subpipe_num',\n",
      "                                                  Pipeline(steps=[('ss',\n",
      "                                                                   StandardScaler())]),\n",
      "                                                  ['loan_amnt', 'emp_length',\n",
      "                                                   'funded_amnt', 'int_rate',\n",
      "                                                   'annual_inc', 'dti',\n",
      "                                                   'open_acc', 'pub_rec',\n",
      "                                                   'revol_bal', 'revol_util',\n",
      "                                                   'total_acc',\n",
      "                                                   'Annual_Total_premium',\n",
      "                                                   'PTI', 'term',\n",
      "                                                   'inq_last_6mths', 'LTI']),\n",
      "                                                 ('subpipe_cate',\n",
      "                                                  Pipeline(steps=[('ohe',\n",
      "                                                                   OneHotEncod...\n",
      "                               colsample_bytree=1, gamma=0, gpu_id=-1,\n",
      "                               importance_type='gain',\n",
      "                               interaction_constraints='',\n",
      "                               learning_rate=0.300000012, max_delta_step=0,\n",
      "                               max_depth=6, min_child_weight=1, missing=nan,\n",
      "                               monotone_constraints='()', n_estimators=100,\n",
      "                               n_jobs=0, num_parallel_tree=1, random_state=0,\n",
      "                               reg_alpha=0, reg_lambda=1, scale_pos_weight=1,\n",
      "                               subsample=1, tree_method='exact',\n",
      "                               validate_parameters=1, verbosity=None))])\n",
      " train_score : 0.8199\n",
      " test_score : 0.8148\n",
      " log loss on training dataset : 0.3995\n",
      " log loss on test dataset : 0.4093\n",
      "CrossValidation on training dataset : 0.5221876431346838\n",
      "classification_report\n",
      "              precision    recall  f1-score   support\n",
      "\n",
      "           0       0.84      0.93      0.88     95692\n",
      "           1       0.66      0.45      0.53     29511\n",
      "\n",
      "    accuracy                           0.81    125203\n",
      "   macro avg       0.75      0.69      0.71    125203\n",
      "weighted avg       0.80      0.81      0.80    125203\n",
      "\n"
     ]
    },
    {
     "data": {
      "image/png": "[encoded data removed]",
      "text/plain": [
       "<Figure size 432x288 with 2 Axes>"
      ]
     },
     "metadata": {
      "needs_background": "light"
     },
     "output_type": "display_data"
    },
    {
     "data": {
      "image/png": "[encoded data removed]",
      "text/plain": [
       "<Figure size 432x288 with 1 Axes>"
      ]
     },
     "metadata": {
      "needs_background": "light"
     },
     "output_type": "display_data"
    }
   ],
   "source": [
    "model_eff(estimator=pipeline_XB)"
   ]
  },
  {
   "cell_type": "code",
   "execution_count": null,
   "metadata": {},
   "outputs": [],
   "source": []
  },
  {
   "cell_type": "code",
   "execution_count": 83,
   "metadata": {},
   "outputs": [],
   "source": []
  },
  {
   "cell_type": "code",
   "execution_count": null,
   "metadata": {},
   "outputs": [],
   "source": []
  }
 ],
 "metadata": {
  "kernelspec": {
   "display_name": "Python (learn-env)",
   "language": "python",
   "name": "learn-env"
  },
  "language_info": {
   "codemirror_mode": {
    "name": "ipython",
    "version": 3
   },
   "file_extension": ".py",
   "mimetype": "text/x-python",
   "name": "python",
   "nbconvert_exporter": "python",
   "pygments_lexer": "ipython3",
   "version": "3.8.5"
  }
 },
 "nbformat": 4,
 "nbformat_minor": 4
}
