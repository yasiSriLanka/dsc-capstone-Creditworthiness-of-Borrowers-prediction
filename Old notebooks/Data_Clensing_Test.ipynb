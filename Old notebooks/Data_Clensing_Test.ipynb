{
 "cells": [
  {
   "cell_type": "markdown",
   "metadata": {},
   "source": [
    "Objective"
   ]
  },
  {
   "cell_type": "markdown",
   "metadata": {},
   "source": [
    "Clensing test data"
   ]
  },
  {
   "cell_type": "code",
   "execution_count": 6,
   "metadata": {},
   "outputs": [],
   "source": [
    "import pandas as pd\n",
    "import matplotlib.pyplot as plt\n",
    "import numpy as np\n",
    "import numpy_financial as npf"
   ]
  },
  {
   "cell_type": "code",
   "execution_count": 7,
   "metadata": {},
   "outputs": [],
   "source": [
    "#pip install numpy-financial"
   ]
  },
  {
   "cell_type": "code",
   "execution_count": 8,
   "metadata": {},
   "outputs": [
    {
     "name": "stdout",
     "output_type": "stream",
     "text": [
      "Data\n",
      "Data_Clensing_Test.ipynb\n",
      "Data_Clensing_Train.ipynb\n",
      "Modelling.ipynb\n",
      "Project Proposal.pdf\n",
      "README.md\n",
      "Split_Dataframe_Train_Test.ipynb\n"
     ]
    }
   ],
   "source": [
    "!ls"
   ]
  },
  {
   "cell_type": "code",
   "execution_count": 9,
   "metadata": {},
   "outputs": [],
   "source": [
    "df = pd.read_csv('Data/Loan_Default_test.csv',index_col=0)"
   ]
  },
  {
   "cell_type": "code",
   "execution_count": 10,
   "metadata": {
    "scrolled": true
   },
   "outputs": [
    {
     "data": {
      "text/html": [
       "<div>\n",
       "<style scoped>\n",
       "    .dataframe tbody tr th:only-of-type {\n",
       "        vertical-align: middle;\n",
       "    }\n",
       "\n",
       "    .dataframe tbody tr th {\n",
       "        vertical-align: top;\n",
       "    }\n",
       "\n",
       "    .dataframe thead th {\n",
       "        text-align: right;\n",
       "    }\n",
       "</style>\n",
       "<table border=\"1\" class=\"dataframe\">\n",
       "  <thead>\n",
       "    <tr style=\"text-align: right;\">\n",
       "      <th></th>\n",
       "      <th>year</th>\n",
       "      <th>loan_limit</th>\n",
       "      <th>Gender</th>\n",
       "      <th>approv_in_adv</th>\n",
       "      <th>loan_type</th>\n",
       "      <th>loan_purpose</th>\n",
       "      <th>Credit_Worthiness</th>\n",
       "      <th>open_credit</th>\n",
       "      <th>business_or_commercial</th>\n",
       "      <th>loan_amount</th>\n",
       "      <th>...</th>\n",
       "      <th>credit_type</th>\n",
       "      <th>Credit_Score</th>\n",
       "      <th>co-applicant_credit_type</th>\n",
       "      <th>age</th>\n",
       "      <th>submission_of_application</th>\n",
       "      <th>LTV</th>\n",
       "      <th>Region</th>\n",
       "      <th>Security_Type</th>\n",
       "      <th>dtir1</th>\n",
       "      <th>Status</th>\n",
       "    </tr>\n",
       "    <tr>\n",
       "      <th>ID</th>\n",
       "      <th></th>\n",
       "      <th></th>\n",
       "      <th></th>\n",
       "      <th></th>\n",
       "      <th></th>\n",
       "      <th></th>\n",
       "      <th></th>\n",
       "      <th></th>\n",
       "      <th></th>\n",
       "      <th></th>\n",
       "      <th></th>\n",
       "      <th></th>\n",
       "      <th></th>\n",
       "      <th></th>\n",
       "      <th></th>\n",
       "      <th></th>\n",
       "      <th></th>\n",
       "      <th></th>\n",
       "      <th></th>\n",
       "      <th></th>\n",
       "      <th></th>\n",
       "    </tr>\n",
       "  </thead>\n",
       "  <tbody>\n",
       "    <tr>\n",
       "      <th>49802</th>\n",
       "      <td>2019</td>\n",
       "      <td>cf</td>\n",
       "      <td>Female</td>\n",
       "      <td>nopre</td>\n",
       "      <td>type2</td>\n",
       "      <td>p3</td>\n",
       "      <td>l1</td>\n",
       "      <td>nopc</td>\n",
       "      <td>b/c</td>\n",
       "      <td>116500</td>\n",
       "      <td>...</td>\n",
       "      <td>EXP</td>\n",
       "      <td>679</td>\n",
       "      <td>CIB</td>\n",
       "      <td>45-54</td>\n",
       "      <td>to_inst</td>\n",
       "      <td>84.420290</td>\n",
       "      <td>North</td>\n",
       "      <td>direct</td>\n",
       "      <td>41.0</td>\n",
       "      <td>0</td>\n",
       "    </tr>\n",
       "    <tr>\n",
       "      <th>171958</th>\n",
       "      <td>2019</td>\n",
       "      <td>cf</td>\n",
       "      <td>Sex Not Available</td>\n",
       "      <td>pre</td>\n",
       "      <td>type1</td>\n",
       "      <td>p4</td>\n",
       "      <td>l1</td>\n",
       "      <td>nopc</td>\n",
       "      <td>nob/c</td>\n",
       "      <td>236500</td>\n",
       "      <td>...</td>\n",
       "      <td>EXP</td>\n",
       "      <td>853</td>\n",
       "      <td>EXP</td>\n",
       "      <td>25-34</td>\n",
       "      <td>to_inst</td>\n",
       "      <td>88.246269</td>\n",
       "      <td>south</td>\n",
       "      <td>direct</td>\n",
       "      <td>44.0</td>\n",
       "      <td>0</td>\n",
       "    </tr>\n",
       "    <tr>\n",
       "      <th>148174</th>\n",
       "      <td>2019</td>\n",
       "      <td>cf</td>\n",
       "      <td>Sex Not Available</td>\n",
       "      <td>nopre</td>\n",
       "      <td>type1</td>\n",
       "      <td>p3</td>\n",
       "      <td>l1</td>\n",
       "      <td>nopc</td>\n",
       "      <td>nob/c</td>\n",
       "      <td>136500</td>\n",
       "      <td>...</td>\n",
       "      <td>CRIF</td>\n",
       "      <td>598</td>\n",
       "      <td>EXP</td>\n",
       "      <td>65-74</td>\n",
       "      <td>to_inst</td>\n",
       "      <td>19.279661</td>\n",
       "      <td>south</td>\n",
       "      <td>direct</td>\n",
       "      <td>41.0</td>\n",
       "      <td>0</td>\n",
       "    </tr>\n",
       "    <tr>\n",
       "      <th>78500</th>\n",
       "      <td>2019</td>\n",
       "      <td>cf</td>\n",
       "      <td>Female</td>\n",
       "      <td>nopre</td>\n",
       "      <td>type1</td>\n",
       "      <td>p3</td>\n",
       "      <td>l1</td>\n",
       "      <td>nopc</td>\n",
       "      <td>nob/c</td>\n",
       "      <td>256500</td>\n",
       "      <td>...</td>\n",
       "      <td>EXP</td>\n",
       "      <td>776</td>\n",
       "      <td>EXP</td>\n",
       "      <td>65-74</td>\n",
       "      <td>to_inst</td>\n",
       "      <td>36.228814</td>\n",
       "      <td>North</td>\n",
       "      <td>direct</td>\n",
       "      <td>32.0</td>\n",
       "      <td>0</td>\n",
       "    </tr>\n",
       "    <tr>\n",
       "      <th>64562</th>\n",
       "      <td>2019</td>\n",
       "      <td>cf</td>\n",
       "      <td>Female</td>\n",
       "      <td>nopre</td>\n",
       "      <td>type1</td>\n",
       "      <td>p1</td>\n",
       "      <td>l1</td>\n",
       "      <td>nopc</td>\n",
       "      <td>nob/c</td>\n",
       "      <td>686500</td>\n",
       "      <td>...</td>\n",
       "      <td>EXP</td>\n",
       "      <td>653</td>\n",
       "      <td>CIB</td>\n",
       "      <td>35-44</td>\n",
       "      <td>not_inst</td>\n",
       "      <td>81.921241</td>\n",
       "      <td>North</td>\n",
       "      <td>direct</td>\n",
       "      <td>48.0</td>\n",
       "      <td>0</td>\n",
       "    </tr>\n",
       "  </tbody>\n",
       "</table>\n",
       "<p>5 rows × 33 columns</p>\n",
       "</div>"
      ],
      "text/plain": [
       "        year loan_limit             Gender approv_in_adv loan_type  \\\n",
       "ID                                                                   \n",
       "49802   2019         cf             Female         nopre     type2   \n",
       "171958  2019         cf  Sex Not Available           pre     type1   \n",
       "148174  2019         cf  Sex Not Available         nopre     type1   \n",
       "78500   2019         cf             Female         nopre     type1   \n",
       "64562   2019         cf             Female         nopre     type1   \n",
       "\n",
       "       loan_purpose Credit_Worthiness open_credit business_or_commercial  \\\n",
       "ID                                                                         \n",
       "49802            p3                l1        nopc                    b/c   \n",
       "171958           p4                l1        nopc                  nob/c   \n",
       "148174           p3                l1        nopc                  nob/c   \n",
       "78500            p3                l1        nopc                  nob/c   \n",
       "64562            p1                l1        nopc                  nob/c   \n",
       "\n",
       "        loan_amount  ...  credit_type  Credit_Score  co-applicant_credit_type  \\\n",
       "ID                   ...                                                        \n",
       "49802        116500  ...          EXP           679                       CIB   \n",
       "171958       236500  ...          EXP           853                       EXP   \n",
       "148174       136500  ...         CRIF           598                       EXP   \n",
       "78500        256500  ...          EXP           776                       EXP   \n",
       "64562        686500  ...          EXP           653                       CIB   \n",
       "\n",
       "          age submission_of_application        LTV Region  Security_Type  \\\n",
       "ID                                                                         \n",
       "49802   45-54                   to_inst  84.420290  North         direct   \n",
       "171958  25-34                   to_inst  88.246269  south         direct   \n",
       "148174  65-74                   to_inst  19.279661  south         direct   \n",
       "78500   65-74                   to_inst  36.228814  North         direct   \n",
       "64562   35-44                  not_inst  81.921241  North         direct   \n",
       "\n",
       "       dtir1 Status  \n",
       "ID                   \n",
       "49802   41.0      0  \n",
       "171958  44.0      0  \n",
       "148174  41.0      0  \n",
       "78500   32.0      0  \n",
       "64562   48.0      0  \n",
       "\n",
       "[5 rows x 33 columns]"
      ]
     },
     "execution_count": 10,
     "metadata": {},
     "output_type": "execute_result"
    }
   ],
   "source": [
    "df.head()"
   ]
  },
  {
   "cell_type": "code",
   "execution_count": 11,
   "metadata": {
    "scrolled": true
   },
   "outputs": [
    {
     "name": "stdout",
     "output_type": "stream",
     "text": [
      "<class 'pandas.core.frame.DataFrame'>\n",
      "Int64Index: 37168 entries, 49802 to 41080\n",
      "Data columns (total 33 columns):\n",
      " #   Column                     Non-Null Count  Dtype  \n",
      "---  ------                     --------------  -----  \n",
      " 0   year                       37168 non-null  int64  \n",
      " 1   loan_limit                 36356 non-null  object \n",
      " 2   Gender                     37168 non-null  object \n",
      " 3   approv_in_adv              36926 non-null  object \n",
      " 4   loan_type                  37168 non-null  object \n",
      " 5   loan_purpose               37140 non-null  object \n",
      " 6   Credit_Worthiness          37168 non-null  object \n",
      " 7   open_credit                37168 non-null  object \n",
      " 8   business_or_commercial     37168 non-null  object \n",
      " 9   loan_amount                37168 non-null  int64  \n",
      " 10  rate_of_interest           28110 non-null  float64\n",
      " 11  Interest_rate_spread       28050 non-null  float64\n",
      " 12  Upfront_charges            27308 non-null  float64\n",
      " 13  term                       37156 non-null  float64\n",
      " 14  Neg_ammortization          37137 non-null  object \n",
      " 15  interest_only              37168 non-null  object \n",
      " 16  lump_sum_payment           37168 non-null  object \n",
      " 17  property_value             33447 non-null  float64\n",
      " 18  construction_type          37168 non-null  object \n",
      " 19  occupancy_type             37168 non-null  object \n",
      " 20  Secured_by                 37168 non-null  object \n",
      " 21  total_units                37168 non-null  object \n",
      " 22  income                     34919 non-null  float64\n",
      " 23  credit_type                37168 non-null  object \n",
      " 24  Credit_Score               37168 non-null  int64  \n",
      " 25  co-applicant_credit_type   37168 non-null  object \n",
      " 26  age                        37108 non-null  object \n",
      " 27  submission_of_application  37108 non-null  object \n",
      " 28  LTV                        33447 non-null  float64\n",
      " 29  Region                     37168 non-null  object \n",
      " 30  Security_Type              37168 non-null  object \n",
      " 31  dtir1                      31228 non-null  float64\n",
      " 32  Status                     37168 non-null  int64  \n",
      "dtypes: float64(8), int64(4), object(21)\n",
      "memory usage: 9.6+ MB\n"
     ]
    }
   ],
   "source": [
    "df.info()"
   ]
  },
  {
   "cell_type": "code",
   "execution_count": 12,
   "metadata": {},
   "outputs": [
    {
     "data": {
      "text/plain": [
       "(37168, 33)"
      ]
     },
     "execution_count": 12,
     "metadata": {},
     "output_type": "execute_result"
    }
   ],
   "source": [
    "df.shape"
   ]
  },
  {
   "cell_type": "code",
   "execution_count": 13,
   "metadata": {},
   "outputs": [],
   "source": [
    "df = df.drop(['dtir1','year'],axis =1)"
   ]
  },
  {
   "cell_type": "code",
   "execution_count": 14,
   "metadata": {
    "scrolled": true
   },
   "outputs": [
    {
     "data": {
      "text/plain": [
       "loan_limit                    812\n",
       "Gender                          0\n",
       "approv_in_adv                 242\n",
       "loan_type                       0\n",
       "loan_purpose                   28\n",
       "Credit_Worthiness               0\n",
       "open_credit                     0\n",
       "business_or_commercial          0\n",
       "loan_amount                     0\n",
       "rate_of_interest             9058\n",
       "Interest_rate_spread         9118\n",
       "Upfront_charges              9860\n",
       "term                           12\n",
       "Neg_ammortization              31\n",
       "interest_only                   0\n",
       "lump_sum_payment                0\n",
       "property_value               3721\n",
       "construction_type               0\n",
       "occupancy_type                  0\n",
       "Secured_by                      0\n",
       "total_units                     0\n",
       "income                       2249\n",
       "credit_type                     0\n",
       "Credit_Score                    0\n",
       "co-applicant_credit_type        0\n",
       "age                            60\n",
       "submission_of_application      60\n",
       "LTV                          3721\n",
       "Region                          0\n",
       "Security_Type                   0\n",
       "Status                          0\n",
       "dtype: int64"
      ]
     },
     "execution_count": 14,
     "metadata": {},
     "output_type": "execute_result"
    }
   ],
   "source": [
    "df.isna().sum()"
   ]
  },
  {
   "cell_type": "markdown",
   "metadata": {},
   "source": [
    "Below function is developed to decide for imputation strategy repeatedly to calculate mean, meadian, mode and draw histograms for different variables."
   ]
  },
  {
   "cell_type": "code",
   "execution_count": 15,
   "metadata": {},
   "outputs": [],
   "source": [
    "def missingval(data,bins=50):\n",
    "\n",
    "    '''\n",
    "    This will print histogram with the variable statstics of mean, median and mode.\n",
    "    \n",
    "    Parameters :\n",
    "\n",
    "    data - respective variable\n",
    "    bins - no of bins in the histogram\n",
    "\n",
    "    '''\n",
    "    \n",
    "    plt.hist(data, bins=50, edgecolor='black')\n",
    "    plt.xticks()\n",
    "    plt.xlabel('Value Range')\n",
    "    plt.ylabel('Frequency')\n",
    "    plt.title('Histogram of Your Data')\n",
    "    plt.xlim(data.min(), data.max())\n",
    "    plt.show()\n",
    "    \n",
    "    mean = data.mean()\n",
    "    median = data.median()\n",
    "    mode = data.mode()\n",
    "    \n",
    "    print(f'Mean: {mean}')\n",
    "    print(f'Median: {median}')\n",
    "    print(f'Mode: {mode}')"
   ]
  },
  {
   "cell_type": "markdown",
   "metadata": {},
   "source": [
    "### Missing values of LTV"
   ]
  },
  {
   "cell_type": "markdown",
   "metadata": {},
   "source": [
    "LTV represent the ratio between loan amount and property value. Therefore ratio of more than 100 is unrealistic. This may occur due to neglegence at the point of granting the loan or intentionally commiting. These outliers might distort the model prediction. Therefore removing from the database."
   ]
  },
  {
   "cell_type": "code",
   "execution_count": 16,
   "metadata": {},
   "outputs": [],
   "source": [
    "df = df.drop(df[df['LTV'] > 100].index)"
   ]
  },
  {
   "cell_type": "code",
   "execution_count": 17,
   "metadata": {
    "scrolled": true
   },
   "outputs": [
    {
     "data": {
      "image/png": "[encoded data removed]",
      "text/plain": [
       "<Figure size 432x288 with 1 Axes>"
      ]
     },
     "metadata": {
      "needs_background": "light"
     },
     "output_type": "display_data"
    },
    {
     "name": "stdout",
     "output_type": "stream",
     "text": [
      "Mean: 72.0060474106283\n",
      "Median: 75.07716049\n",
      "Mode: 0    81.25\n",
      "dtype: float64\n"
     ]
    }
   ],
   "source": [
    "missingval(df['LTV'])"
   ]
  },
  {
   "cell_type": "markdown",
   "metadata": {},
   "source": [
    "As the distribution is skewed appropriate imputation for dataset would be median for LTV"
   ]
  },
  {
   "cell_type": "code",
   "execution_count": 18,
   "metadata": {},
   "outputs": [],
   "source": [
    "df['LTV'].fillna(df['LTV'].median(), inplace=True)"
   ]
  },
  {
   "cell_type": "markdown",
   "metadata": {},
   "source": [
    "### Approximate Missing Property Values"
   ]
  },
  {
   "cell_type": "markdown",
   "metadata": {},
   "source": [
    "Property value field contains about 15,000 missing values. If remove from dataframe will be removing 10% of the database. Therfore to alleviate the issue approximate the property value using the loan amount and LTV value."
   ]
  },
  {
   "cell_type": "code",
   "execution_count": 19,
   "metadata": {},
   "outputs": [],
   "source": [
    "df['property_value'].fillna(df['loan_amount']*100 / df['LTV'], inplace=True)"
   ]
  },
  {
   "cell_type": "markdown",
   "metadata": {},
   "source": [
    "### Missing Values of Rate of Interest"
   ]
  },
  {
   "cell_type": "code",
   "execution_count": 20,
   "metadata": {},
   "outputs": [
    {
     "data": {
      "image/png": "[encoded data removed]",
      "text/plain": [
       "<Figure size 432x288 with 1 Axes>"
      ]
     },
     "metadata": {
      "needs_background": "light"
     },
     "output_type": "display_data"
    },
    {
     "name": "stdout",
     "output_type": "stream",
     "text": [
      "Mean: 4.044028428392634\n",
      "Median: 3.99\n",
      "Mode: 0    3.99\n",
      "dtype: float64\n"
     ]
    }
   ],
   "source": [
    "missingval(df['rate_of_interest'])"
   ]
  },
  {
   "cell_type": "markdown",
   "metadata": {},
   "source": [
    "As above distribution is bit skewed the imputation strategy is to use median"
   ]
  },
  {
   "cell_type": "code",
   "execution_count": 21,
   "metadata": {},
   "outputs": [],
   "source": [
    "df['rate_of_interest'].fillna(df['rate_of_interest'].median(), inplace=True)"
   ]
  },
  {
   "cell_type": "markdown",
   "metadata": {},
   "source": [
    "There is one record with 0% interest which is unrealistic. Therefore filterout particular record from the dataframe."
   ]
  },
  {
   "cell_type": "code",
   "execution_count": 22,
   "metadata": {},
   "outputs": [],
   "source": [
    "df = df[df['rate_of_interest']>0]"
   ]
  },
  {
   "cell_type": "markdown",
   "metadata": {},
   "source": [
    "### Missing Values of Interest Rate Spread"
   ]
  },
  {
   "cell_type": "code",
   "execution_count": 23,
   "metadata": {},
   "outputs": [
    {
     "data": {
      "image/png": "[encoded data removed]",
      "text/plain": [
       "<Figure size 432x288 with 1 Axes>"
      ]
     },
     "metadata": {
      "needs_background": "light"
     },
     "output_type": "display_data"
    },
    {
     "name": "stdout",
     "output_type": "stream",
     "text": [
      "Mean: 0.44306677656333987\n",
      "Median: 0.3915\n",
      "Mode: 0   -0.038\n",
      "1    0.252\n",
      "dtype: float64\n"
     ]
    }
   ],
   "source": [
    "missingval(df['Interest_rate_spread'])"
   ]
  },
  {
   "cell_type": "markdown",
   "metadata": {},
   "source": [
    "As above distribution is some what normally distributed, it is decided to use mean as the imputation strategy for interest rate spread. In making the decision taken conservative approach where banks tend to play with spreads and missing values to include the higher of the statistics. "
   ]
  },
  {
   "cell_type": "code",
   "execution_count": 24,
   "metadata": {},
   "outputs": [],
   "source": [
    "df['Interest_rate_spread'].fillna(df['Interest_rate_spread'].mean(), inplace=True)"
   ]
  },
  {
   "cell_type": "markdown",
   "metadata": {},
   "source": [
    "### Missing Values of Upfront Charges"
   ]
  },
  {
   "cell_type": "code",
   "execution_count": 25,
   "metadata": {
    "scrolled": true
   },
   "outputs": [
    {
     "data": {
      "image/png": "[encoded data removed]",
      "text/plain": [
       "<Figure size 432x288 with 1 Axes>"
      ]
     },
     "metadata": {
      "needs_background": "light"
     },
     "output_type": "display_data"
    },
    {
     "name": "stdout",
     "output_type": "stream",
     "text": [
      "Mean: 3221.306797717651\n",
      "Median: 2605.49\n",
      "Mode: 0    0.0\n",
      "dtype: float64\n"
     ]
    }
   ],
   "source": [
    "missingval(df['Upfront_charges'])"
   ]
  },
  {
   "cell_type": "markdown",
   "metadata": {},
   "source": [
    "Usually the upfront charge is certain % of the loan. Therefore calculating the upfront charge % column."
   ]
  },
  {
   "cell_type": "code",
   "execution_count": 26,
   "metadata": {},
   "outputs": [],
   "source": [
    "df['Upfront_charges%']=df['Upfront_charges']/df['loan_amount']"
   ]
  },
  {
   "cell_type": "code",
   "execution_count": 27,
   "metadata": {},
   "outputs": [
    {
     "data": {
      "image/png": "[encoded data removed]",
      "text/plain": [
       "<Figure size 432x288 with 1 Axes>"
      ]
     },
     "metadata": {
      "needs_background": "light"
     },
     "output_type": "display_data"
    },
    {
     "name": "stdout",
     "output_type": "stream",
     "text": [
      "Mean: 0.012428569722017216\n",
      "Median: 0.009940409276944066\n",
      "Mode: 0    0.0\n",
      "dtype: float64\n"
     ]
    }
   ],
   "source": [
    "missingval(df['Upfront_charges%'])"
   ]
  },
  {
   "cell_type": "code",
   "execution_count": 28,
   "metadata": {},
   "outputs": [],
   "source": [
    "df['Upfront_charges%'].fillna(df['Upfront_charges%'].median(), inplace=True)"
   ]
  },
  {
   "cell_type": "markdown",
   "metadata": {},
   "source": [
    "Filling Missing values in upfront charges"
   ]
  },
  {
   "cell_type": "code",
   "execution_count": 29,
   "metadata": {},
   "outputs": [],
   "source": [
    "df['Upfront_charges'].fillna(df['loan_amount'] * df['Upfront_charges%'], inplace=True)"
   ]
  },
  {
   "cell_type": "markdown",
   "metadata": {},
   "source": [
    "### Missing Values of Term"
   ]
  },
  {
   "cell_type": "markdown",
   "metadata": {},
   "source": [
    "The term contains decimal percentage of missing values. Therefore those 41 rows to be dropped from the database."
   ]
  },
  {
   "cell_type": "code",
   "execution_count": 30,
   "metadata": {},
   "outputs": [],
   "source": [
    "df = df.dropna(subset =['term'])"
   ]
  },
  {
   "cell_type": "markdown",
   "metadata": {},
   "source": [
    "### Missing Values of Monthly Income"
   ]
  },
  {
   "cell_type": "markdown",
   "metadata": {},
   "source": [
    "As missing values of monthly income varies from person to person cannot be determine directly. Also there are some records have 0 income which is impossible. Therefore those rows removed from the dataframe."
   ]
  },
  {
   "cell_type": "code",
   "execution_count": 31,
   "metadata": {},
   "outputs": [],
   "source": [
    "df = df[df['income']>0]"
   ]
  },
  {
   "cell_type": "code",
   "execution_count": 32,
   "metadata": {},
   "outputs": [
    {
     "data": {
      "text/plain": [
       "loan_limit                   777\n",
       "Gender                         0\n",
       "approv_in_adv                231\n",
       "loan_type                      0\n",
       "loan_purpose                  24\n",
       "Credit_Worthiness              0\n",
       "open_credit                    0\n",
       "business_or_commercial         0\n",
       "loan_amount                    0\n",
       "rate_of_interest               0\n",
       "Interest_rate_spread           0\n",
       "Upfront_charges                0\n",
       "term                           0\n",
       "Neg_ammortization             30\n",
       "interest_only                  0\n",
       "lump_sum_payment               0\n",
       "property_value                 0\n",
       "construction_type              0\n",
       "occupancy_type                 0\n",
       "Secured_by                     0\n",
       "total_units                    0\n",
       "income                         0\n",
       "credit_type                    0\n",
       "Credit_Score                   0\n",
       "co-applicant_credit_type       0\n",
       "age                            0\n",
       "submission_of_application      0\n",
       "LTV                            0\n",
       "Region                         0\n",
       "Security_Type                  0\n",
       "Status                         0\n",
       "Upfront_charges%               0\n",
       "dtype: int64"
      ]
     },
     "execution_count": 32,
     "metadata": {},
     "output_type": "execute_result"
    }
   ],
   "source": [
    "df.isna().sum()"
   ]
  },
  {
   "cell_type": "code",
   "execution_count": 33,
   "metadata": {},
   "outputs": [
    {
     "data": {
      "text/plain": [
       "(34208, 32)"
      ]
     },
     "execution_count": 33,
     "metadata": {},
     "output_type": "execute_result"
    }
   ],
   "source": [
    "df.shape"
   ]
  },
  {
   "cell_type": "markdown",
   "metadata": {},
   "source": [
    "### Calculate Monthly Loan Payment"
   ]
  },
  {
   "cell_type": "markdown",
   "metadata": {},
   "source": [
    "Converting rate of interest and spread to % terms"
   ]
  },
  {
   "cell_type": "code",
   "execution_count": 34,
   "metadata": {},
   "outputs": [],
   "source": [
    "#df['rate_of_interest'] = df['rate_of_interest']/100\n",
    "#df['Interest_rate_spread'] = df['Interest_rate_spread']/100"
   ]
  },
  {
   "cell_type": "markdown",
   "metadata": {},
   "source": [
    "Calculate monthly premium based on rate of interest, term and loan amount using loan ammmortization"
   ]
  },
  {
   "cell_type": "code",
   "execution_count": 35,
   "metadata": {},
   "outputs": [],
   "source": [
    "df['monthly_premium'] = npf.pmt(df['rate_of_interest']/(12*100), df['term'], df['loan_amount'])*-1"
   ]
  },
  {
   "cell_type": "markdown",
   "metadata": {},
   "source": [
    "Calculate monthly premium to income ratio"
   ]
  },
  {
   "cell_type": "code",
   "execution_count": 36,
   "metadata": {},
   "outputs": [],
   "source": [
    "df['PTI']=df['monthly_premium']/df['income']"
   ]
  },
  {
   "cell_type": "markdown",
   "metadata": {},
   "source": [
    "Cleansing PTI column, where PMI column greater than 1 is not possible. If greater than 1 means that loan premium is greater than the income. These impossible scenarios to remove from the dataframe."
   ]
  },
  {
   "cell_type": "code",
   "execution_count": 37,
   "metadata": {},
   "outputs": [],
   "source": [
    "df = df[df['PTI']<1]"
   ]
  },
  {
   "cell_type": "code",
   "execution_count": 38,
   "metadata": {},
   "outputs": [
    {
     "data": {
      "text/plain": [
       "(34087, 34)"
      ]
     },
     "execution_count": 38,
     "metadata": {},
     "output_type": "execute_result"
    }
   ],
   "source": [
    "df.shape"
   ]
  },
  {
   "cell_type": "code",
   "execution_count": 39,
   "metadata": {},
   "outputs": [
    {
     "data": {
      "text/plain": [
       "0.9955067144976537"
      ]
     },
     "execution_count": 39,
     "metadata": {},
     "output_type": "execute_result"
    }
   ],
   "source": [
    "df['PTI'].max()"
   ]
  },
  {
   "cell_type": "code",
   "execution_count": 40,
   "metadata": {
    "scrolled": true
   },
   "outputs": [
    {
     "data": {
      "text/plain": [
       "loan_limit                   770\n",
       "Gender                         0\n",
       "approv_in_adv                231\n",
       "loan_type                      0\n",
       "loan_purpose                  24\n",
       "Credit_Worthiness              0\n",
       "open_credit                    0\n",
       "business_or_commercial         0\n",
       "loan_amount                    0\n",
       "rate_of_interest               0\n",
       "Interest_rate_spread           0\n",
       "Upfront_charges                0\n",
       "term                           0\n",
       "Neg_ammortization             28\n",
       "interest_only                  0\n",
       "lump_sum_payment               0\n",
       "property_value                 0\n",
       "construction_type              0\n",
       "occupancy_type                 0\n",
       "Secured_by                     0\n",
       "total_units                    0\n",
       "income                         0\n",
       "credit_type                    0\n",
       "Credit_Score                   0\n",
       "co-applicant_credit_type       0\n",
       "age                            0\n",
       "submission_of_application      0\n",
       "LTV                            0\n",
       "Region                         0\n",
       "Security_Type                  0\n",
       "Status                         0\n",
       "Upfront_charges%               0\n",
       "monthly_premium                0\n",
       "PTI                            0\n",
       "dtype: int64"
      ]
     },
     "execution_count": 40,
     "metadata": {},
     "output_type": "execute_result"
    }
   ],
   "source": [
    "df.isna().sum()"
   ]
  },
  {
   "cell_type": "markdown",
   "metadata": {},
   "source": [
    "### Missing Values of Loan Limit"
   ]
  },
  {
   "cell_type": "markdown",
   "metadata": {},
   "source": [
    "For loan limit imputation strategy used as most common category."
   ]
  },
  {
   "cell_type": "code",
   "execution_count": 41,
   "metadata": {},
   "outputs": [],
   "source": [
    "most_common = df['loan_limit'].mode()[0]\n",
    "df['loan_limit'].fillna(most_common, inplace=True)"
   ]
  },
  {
   "cell_type": "code",
   "execution_count": 42,
   "metadata": {},
   "outputs": [
    {
     "data": {
      "text/plain": [
       "loan_limit                     0\n",
       "Gender                         0\n",
       "approv_in_adv                231\n",
       "loan_type                      0\n",
       "loan_purpose                  24\n",
       "Credit_Worthiness              0\n",
       "open_credit                    0\n",
       "business_or_commercial         0\n",
       "loan_amount                    0\n",
       "rate_of_interest               0\n",
       "Interest_rate_spread           0\n",
       "Upfront_charges                0\n",
       "term                           0\n",
       "Neg_ammortization             28\n",
       "interest_only                  0\n",
       "lump_sum_payment               0\n",
       "property_value                 0\n",
       "construction_type              0\n",
       "occupancy_type                 0\n",
       "Secured_by                     0\n",
       "total_units                    0\n",
       "income                         0\n",
       "credit_type                    0\n",
       "Credit_Score                   0\n",
       "co-applicant_credit_type       0\n",
       "age                            0\n",
       "submission_of_application      0\n",
       "LTV                            0\n",
       "Region                         0\n",
       "Security_Type                  0\n",
       "Status                         0\n",
       "Upfront_charges%               0\n",
       "monthly_premium                0\n",
       "PTI                            0\n",
       "dtype: int64"
      ]
     },
     "execution_count": 42,
     "metadata": {},
     "output_type": "execute_result"
    }
   ],
   "source": [
    "df.isna().sum()"
   ]
  },
  {
   "cell_type": "markdown",
   "metadata": {},
   "source": [
    "### Missing Values of approve in advance, loan purpose and neg_ammortization"
   ]
  },
  {
   "cell_type": "markdown",
   "metadata": {},
   "source": [
    "As those are much personalized information those records have removed from the database"
   ]
  },
  {
   "cell_type": "code",
   "execution_count": 43,
   "metadata": {},
   "outputs": [],
   "source": [
    "df = df.dropna()"
   ]
  },
  {
   "cell_type": "code",
   "execution_count": 44,
   "metadata": {},
   "outputs": [
    {
     "data": {
      "text/plain": [
       "(33804, 34)"
      ]
     },
     "execution_count": 44,
     "metadata": {},
     "output_type": "execute_result"
    }
   ],
   "source": [
    "df.shape"
   ]
  },
  {
   "cell_type": "code",
   "execution_count": 45,
   "metadata": {
    "scrolled": true
   },
   "outputs": [
    {
     "data": {
      "text/plain": [
       "loan_limit                   0\n",
       "Gender                       0\n",
       "approv_in_adv                0\n",
       "loan_type                    0\n",
       "loan_purpose                 0\n",
       "Credit_Worthiness            0\n",
       "open_credit                  0\n",
       "business_or_commercial       0\n",
       "loan_amount                  0\n",
       "rate_of_interest             0\n",
       "Interest_rate_spread         0\n",
       "Upfront_charges              0\n",
       "term                         0\n",
       "Neg_ammortization            0\n",
       "interest_only                0\n",
       "lump_sum_payment             0\n",
       "property_value               0\n",
       "construction_type            0\n",
       "occupancy_type               0\n",
       "Secured_by                   0\n",
       "total_units                  0\n",
       "income                       0\n",
       "credit_type                  0\n",
       "Credit_Score                 0\n",
       "co-applicant_credit_type     0\n",
       "age                          0\n",
       "submission_of_application    0\n",
       "LTV                          0\n",
       "Region                       0\n",
       "Security_Type                0\n",
       "Status                       0\n",
       "Upfront_charges%             0\n",
       "monthly_premium              0\n",
       "PTI                          0\n",
       "dtype: int64"
      ]
     },
     "execution_count": 45,
     "metadata": {},
     "output_type": "execute_result"
    }
   ],
   "source": [
    "df.isna().sum()"
   ]
  },
  {
   "cell_type": "markdown",
   "metadata": {},
   "source": [
    "### Composition of Target Column"
   ]
  },
  {
   "cell_type": "code",
   "execution_count": 46,
   "metadata": {},
   "outputs": [
    {
     "data": {
      "text/plain": [
       "0    25777\n",
       "1     8027\n",
       "Name: Status, dtype: int64"
      ]
     },
     "execution_count": 46,
     "metadata": {},
     "output_type": "execute_result"
    }
   ],
   "source": [
    "df['Status'].value_counts()"
   ]
  },
  {
   "cell_type": "code",
   "execution_count": 47,
   "metadata": {},
   "outputs": [
    {
     "name": "stdout",
     "output_type": "stream",
     "text": [
      "<class 'pandas.core.frame.DataFrame'>\n",
      "Int64Index: 33804 entries, 49802 to 41080\n",
      "Data columns (total 34 columns):\n",
      " #   Column                     Non-Null Count  Dtype  \n",
      "---  ------                     --------------  -----  \n",
      " 0   loan_limit                 33804 non-null  object \n",
      " 1   Gender                     33804 non-null  object \n",
      " 2   approv_in_adv              33804 non-null  object \n",
      " 3   loan_type                  33804 non-null  object \n",
      " 4   loan_purpose               33804 non-null  object \n",
      " 5   Credit_Worthiness          33804 non-null  object \n",
      " 6   open_credit                33804 non-null  object \n",
      " 7   business_or_commercial     33804 non-null  object \n",
      " 8   loan_amount                33804 non-null  int64  \n",
      " 9   rate_of_interest           33804 non-null  float64\n",
      " 10  Interest_rate_spread       33804 non-null  float64\n",
      " 11  Upfront_charges            33804 non-null  float64\n",
      " 12  term                       33804 non-null  float64\n",
      " 13  Neg_ammortization          33804 non-null  object \n",
      " 14  interest_only              33804 non-null  object \n",
      " 15  lump_sum_payment           33804 non-null  object \n",
      " 16  property_value             33804 non-null  float64\n",
      " 17  construction_type          33804 non-null  object \n",
      " 18  occupancy_type             33804 non-null  object \n",
      " 19  Secured_by                 33804 non-null  object \n",
      " 20  total_units                33804 non-null  object \n",
      " 21  income                     33804 non-null  float64\n",
      " 22  credit_type                33804 non-null  object \n",
      " 23  Credit_Score               33804 non-null  int64  \n",
      " 24  co-applicant_credit_type   33804 non-null  object \n",
      " 25  age                        33804 non-null  object \n",
      " 26  submission_of_application  33804 non-null  object \n",
      " 27  LTV                        33804 non-null  float64\n",
      " 28  Region                     33804 non-null  object \n",
      " 29  Security_Type              33804 non-null  object \n",
      " 30  Status                     33804 non-null  int64  \n",
      " 31  Upfront_charges%           33804 non-null  float64\n",
      " 32  monthly_premium            33804 non-null  float64\n",
      " 33  PTI                        33804 non-null  float64\n",
      "dtypes: float64(10), int64(3), object(21)\n",
      "memory usage: 9.0+ MB\n"
     ]
    }
   ],
   "source": [
    "df.info()"
   ]
  },
  {
   "cell_type": "markdown",
   "metadata": {},
   "source": [
    "After all clensing activities dataframe reduced to 135191 records with 33 features and 1 target column. This is 9% reduction of records from the original database."
   ]
  },
  {
   "cell_type": "markdown",
   "metadata": {},
   "source": [
    "Dataframe exported to a csv file."
   ]
  },
  {
   "cell_type": "code",
   "execution_count": 48,
   "metadata": {},
   "outputs": [],
   "source": [
    "df.to_csv('data/Loan_Default_test_cleaned.csv')"
   ]
  }
 ],
 "metadata": {
  "kernelspec": {
   "display_name": "Python (learn-env)",
   "language": "python",
   "name": "learn-env"
  },
  "language_info": {
   "codemirror_mode": {
    "name": "ipython",
    "version": 3
   },
   "file_extension": ".py",
   "mimetype": "text/x-python",
   "name": "python",
   "nbconvert_exporter": "python",
   "pygments_lexer": "ipython3",
   "version": "3.8.5"
  }
 },
 "nbformat": 4,
 "nbformat_minor": 4
}
